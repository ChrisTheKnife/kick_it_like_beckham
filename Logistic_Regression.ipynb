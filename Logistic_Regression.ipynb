{
 "cells": [
  {
   "cell_type": "code",
   "execution_count": 74,
   "metadata": {},
   "outputs": [],
   "source": [
    "import pandas as pd\n",
    "import numpy as np\n",
    "from datetime import datetime, timedelta\n",
    "import seaborn as sns\n",
    "import matplotlib.pyplot as plt\n",
    "from sklearn.metrics import accuracy_score, classification_report, \\\n",
    "precision_score, recall_score, confusion_matrix\n",
    "from sklearn.model_selection import train_test_split, RandomizedSearchCV\n",
    "from sklearn.preprocessing import StandardScaler, PolynomialFeatures\n",
    "from sklearn.linear_model import LogisticRegression\n",
    "from sklearn.compose import ColumnTransformer\n",
    "from sklearn.pipeline import Pipeline\n",
    "import itertools\n",
    "# show all columns when displaying a data frame\n",
    "pd.set_option('display.max_columns', None)\n",
    "pd.set_option('display.max_rows', None)"
   ]
  },
  {
   "cell_type": "markdown",
   "metadata": {},
   "source": [
    "## Preparation and Train-Test-Split"
   ]
  },
  {
   "cell_type": "code",
   "execution_count": 46,
   "metadata": {},
   "outputs": [],
   "source": [
    "dtypes = {'country':'category', 'cat_name':'category', 'cat_slug':'category', 'loc_name':'category', \n",
    "'loc_country':'category', 'loc_state':'category', 'loc_type':'category', 'main_category':'category', \n",
    "'sub_category':'category', 'goal_categorical':'category', 'currency':'category', 'usd_type':'category'}\n",
    "frame_all = pd.read_csv('data/Kickstarter_full.csv', index_col=0, parse_dates=['created_at', 'launched_at', 'deadline', 'state_changed_at'], dtype=dtypes)"
   ]
  },
  {
   "cell_type": "code",
   "execution_count": 47,
   "metadata": {},
   "outputs": [],
   "source": [
    "columns = frame_all.columns"
   ]
  },
  {
   "cell_type": "code",
   "execution_count": 48,
   "metadata": {},
   "outputs": [],
   "source": [
    "to_delete = ['backers_count',\n",
    " 'blurb',\n",
    " 'created_at',\n",
    " 'converted_pledged_amount',\n",
    " 'currency_symbol',\n",
    " 'currency_trailing_code',\n",
    " 'current_currency',\n",
    " 'deadline',\n",
    " 'goal',\n",
    " 'id',\n",
    " 'is_starrable',\n",
    " 'launched_at',\n",
    " 'name',\n",
    " 'pledged',\n",
    " 'slug',\n",
    " 'source_url',\n",
    " 'spotlight',\n",
    " 'staff_pick',\n",
    " 'state',\n",
    " 'state_changed_at',\n",
    " 'usd_pledged',\n",
    " 'cat_name',\n",
    " 'cat_slug',\n",
    " 'loc_name',\n",
    " 'loc_country',\n",
    " 'loc_state',\n",
    " 'photo_thumb',\n",
    " 'photo_large',\n",
    " 'project_address',\n",
    " 'profile_photo',\n",
    " 'creator_name',\n",
    " 'creator_id',\n",
    " 'creator_thumb',\n",
    " 'creator_address',\n",
    " 'goal_surpass',\n",
    " 'goal_surpass_share',\n",
    " 'goal_surpass_usd',\n",
    " 'baseline',\n",
    " 'disable_communication',\n",
    " 'dur_until_state_changed',\n",
    " 'dur_ratio',\n",
    " 'goal_usd',\n",
    " 'blurb_words',\n",
    " 'name_words',\n",
    " 'fx_rate',\n",
    " 'static_usd_rate']\n",
    "\n",
    " # Additionally deleted: \n",
    "# Cannot be known a priori: 'dur_until_state_changed', 'dur_ratio'\n",
    "# Somehow a duplicate: 'goal_usd', 'blurb_words', 'name_words'\n",
    "# For other reasons: 'fx_rate', 'static_usd_rate'"
   ]
  },
  {
   "cell_type": "code",
   "execution_count": 49,
   "metadata": {},
   "outputs": [],
   "source": [
    "frame_all.drop(columns=to_delete, inplace=True)"
   ]
  },
  {
   "cell_type": "code",
   "execution_count": 50,
   "metadata": {},
   "outputs": [],
   "source": [
    "# Save category-column-names in list\n",
    "categorical_cols = frame_all.select_dtypes(include='category').columns\n",
    "\n",
    "# save numerical features in a list\n",
    "num_features = frame_all.select_dtypes(include='number').columns.to_list()\n",
    "num_features.remove('state_bool')\n",
    "\n",
    "# create dummies\n",
    "frame_all = pd.get_dummies(frame_all, columns = categorical_cols, drop_first=True)\n"
   ]
  },
  {
   "cell_type": "code",
   "execution_count": 51,
   "metadata": {},
   "outputs": [],
   "source": [
    "X = frame_all.drop('state_bool', axis=1)\n",
    "y = frame_all.state_bool"
   ]
  },
  {
   "cell_type": "code",
   "execution_count": 52,
   "metadata": {},
   "outputs": [],
   "source": [
    "X_train, X_test, y_train, y_test = train_test_split(X, y, stratify=y, random_state=42)"
   ]
  },
  {
   "cell_type": "markdown",
   "metadata": {},
   "source": [
    "## Scaling"
   ]
  },
  {
   "cell_type": "code",
   "execution_count": 53,
   "metadata": {},
   "outputs": [],
   "source": [
    "# scale the (few) numerical features\n",
    "std = StandardScaler()\n",
    "X_train_scaled = X_train.copy(deep=True)\n",
    "X_test_scaled = X_test.copy(deep=True)\n",
    "X_train_scaled[num_features] = std.fit_transform(X_train_scaled[num_features])\n",
    "X_test_scaled[num_features] = std.transform(X_test_scaled[num_features])"
   ]
  },
  {
   "cell_type": "markdown",
   "metadata": {},
   "source": [
    "## Vanilla Logistic Regression"
   ]
  },
  {
   "cell_type": "code",
   "execution_count": 56,
   "metadata": {},
   "outputs": [
    {
     "name": "stderr",
     "output_type": "stream",
     "text": [
      "[Parallel(n_jobs=1)]: Using backend SequentialBackend with 1 concurrent workers.\n",
      " This problem is unconstrained.\n"
     ]
    },
    {
     "name": "stdout",
     "output_type": "stream",
     "text": [
      "RUNNING THE L-BFGS-B CODE\n",
      "\n",
      "           * * *\n",
      "\n",
      "Machine precision = 2.220D-16\n",
      " N =          215     M =           10\n",
      "\n",
      "At X0         0 variables are exactly at the bounds\n",
      "\n",
      "At iterate    0    f=  8.76880D+04    |proj g|=  9.69848D+03\n",
      "\n",
      "At iterate   50    f=  5.71325D+04    |proj g|=  7.60891D+02\n",
      "\n",
      "At iterate  100    f=  5.64742D+04    |proj g|=  1.20108D+02\n",
      "\n",
      "           * * *\n",
      "\n",
      "Tit   = total number of iterations\n",
      "Tnf   = total number of function evaluations\n",
      "Tnint = total number of segments explored during Cauchy searches\n",
      "Skip  = number of BFGS updates skipped\n",
      "Nact  = number of active bounds at final generalized Cauchy point\n",
      "Projg = norm of the final projected gradient\n",
      "F     = final function value\n",
      "\n",
      "           * * *\n",
      "\n",
      "   N    Tit     Tnf  Tnint  Skip  Nact     Projg        F\n",
      "  215    100    108      1     0     0   1.201D+02   5.647D+04\n",
      "  F =   56474.205061213062     \n",
      "\n",
      "STOP: TOTAL NO. of ITERATIONS REACHED LIMIT                 \n"
     ]
    },
    {
     "name": "stderr",
     "output_type": "stream",
     "text": [
      "/Users/lennartmarien/Documents/neuefische/kick_it_like_beckham/.venv/lib/python3.9/site-packages/sklearn/linear_model/_logistic.py:814: ConvergenceWarning: lbfgs failed to converge (status=1):\n",
      "STOP: TOTAL NO. of ITERATIONS REACHED LIMIT.\n",
      "\n",
      "Increase the number of iterations (max_iter) or scale the data as shown in:\n",
      "    https://scikit-learn.org/stable/modules/preprocessing.html\n",
      "Please also refer to the documentation for alternative solver options:\n",
      "    https://scikit-learn.org/stable/modules/linear_model.html#logistic-regression\n",
      "  n_iter_i = _check_optimize_result(\n",
      "[Parallel(n_jobs=1)]: Done   1 out of   1 | elapsed:    3.3s finished\n"
     ]
    },
    {
     "data": {
      "text/plain": [
       "LogisticRegression(verbose=1)"
      ]
     },
     "execution_count": 56,
     "metadata": {},
     "output_type": "execute_result"
    }
   ],
   "source": [
    "log_reg = LogisticRegression(verbose=1)\n",
    "log_reg.fit(X_train_scaled, y_train)"
   ]
  },
  {
   "cell_type": "code",
   "execution_count": 59,
   "metadata": {},
   "outputs": [],
   "source": [
    "y_pred_train = log_reg.predict(X_train_scaled)\n",
    "y_pred_test = log_reg.predict(X_test_scaled)"
   ]
  },
  {
   "cell_type": "code",
   "execution_count": 58,
   "metadata": {},
   "outputs": [],
   "source": [
    "# Function to plot the confusion matrix\n",
    "\n",
    "def plot_confusion_matrix(cm, classes,\n",
    "                          normalize=False,\n",
    "                          title='Confusion matrix',\n",
    "                          cmap=plt.cm.Oranges):\n",
    "    \"\"\"\n",
    "    This function prints and plots the confusion matrix.\n",
    "    Normalization can be applied by setting `normalize=True`.\n",
    "    Source: http://scikit-learn.org/stable/auto_examples/model_selection/plot_confusion_matrix.html\n",
    "    \"\"\"\n",
    "    if normalize:\n",
    "        cm = cm.astype('float') / cm.sum(axis=1)[:, np.newaxis]\n",
    "        print(\"Normalized confusion matrix\")\n",
    "    else:\n",
    "        print('Confusion matrix, without normalization')\n",
    "\n",
    "    print(cm)\n",
    "\n",
    "    # Plot the confusion matrix\n",
    "    plt.figure(figsize = (5, 5))\n",
    "    plt.imshow(cm, interpolation='nearest', cmap=cmap)\n",
    "    plt.title(title, size = 15)\n",
    "    plt.colorbar(aspect=4)\n",
    "    tick_marks = np.arange(len(classes))\n",
    "    plt.xticks(tick_marks, classes, rotation=45, size = 14)\n",
    "    plt.yticks(tick_marks, classes, size = 14)\n",
    "\n",
    "    fmt = '.2f' if normalize else 'd'\n",
    "    thresh = cm.max() / 2.\n",
    "    \n",
    "    # Labeling the plot\n",
    "    for i, j in itertools.product(range(cm.shape[0]), range(cm.shape[1])):\n",
    "        plt.text(j, i, format(cm[i, j], fmt), fontsize = 10,\n",
    "                 horizontalalignment=\"center\",\n",
    "                 color=\"white\" if cm[i, j] > thresh else \"black\")\n",
    "        \n",
    "    plt.grid(None)\n",
    "    plt.tight_layout()\n",
    "    plt.ylabel('True label', size = 18)\n",
    "    plt.xlabel('Predicted label', size = 18)\n"
   ]
  },
  {
   "cell_type": "code",
   "execution_count": 64,
   "metadata": {},
   "outputs": [
    {
     "name": "stdout",
     "output_type": "stream",
     "text": [
      "Confusion matrix, without normalization\n",
      "[[42966 12628]\n",
      " [16364 54549]]\n"
     ]
    },
    {
     "data": {
      "image/png": "[encoded data removed]",
      "text/plain": [
       "<Figure size 360x360 with 2 Axes>"
      ]
     },
     "metadata": {
      "needs_background": "light"
     },
     "output_type": "display_data"
    }
   ],
   "source": [
    "cm_train = confusion_matrix(y_train, y_pred_train)\n",
    "plot_confusion_matrix(cm_train, classes = ['Failed','Successful'],\n",
    "                      title = 'Kickstarter Confusion Matrix Train')"
   ]
  },
  {
   "cell_type": "code",
   "execution_count": 65,
   "metadata": {},
   "outputs": [
    {
     "name": "stdout",
     "output_type": "stream",
     "text": [
      "Confusion matrix, without normalization\n",
      "[[14285  4247]\n",
      " [ 5538 18100]]\n"
     ]
    },
    {
     "data": {
      "image/png": "[encoded data removed]",
      "text/plain": [
       "<Figure size 360x360 with 2 Axes>"
      ]
     },
     "metadata": {
      "needs_background": "light"
     },
     "output_type": "display_data"
    }
   ],
   "source": [
    "cm_test = confusion_matrix(y_test, y_pred_test)\n",
    "plot_confusion_matrix(cm_test, classes = ['Failed','Successful'],\n",
    "                      title = 'Kickstarter Confusion Matrix Test')"
   ]
  },
  {
   "cell_type": "code",
   "execution_count": 67,
   "metadata": {},
   "outputs": [
    {
     "name": "stdout",
     "output_type": "stream",
     "text": [
      "Classification on train data\n",
      "              precision    recall  f1-score   support\n",
      "\n",
      "           0       0.72      0.77      0.75     55594\n",
      "           1       0.81      0.77      0.79     70913\n",
      "\n",
      "    accuracy                           0.77    126507\n",
      "   macro avg       0.77      0.77      0.77    126507\n",
      "weighted avg       0.77      0.77      0.77    126507\n",
      "\n"
     ]
    }
   ],
   "source": [
    "cr_train = classification_report(y_train, y_pred_train)\n",
    "print('Classification on train data')\n",
    "print(cr_train)"
   ]
  },
  {
   "cell_type": "code",
   "execution_count": 68,
   "metadata": {},
   "outputs": [
    {
     "name": "stdout",
     "output_type": "stream",
     "text": [
      "Classification on test data\n",
      "              precision    recall  f1-score   support\n",
      "\n",
      "           0       0.72      0.77      0.74     18532\n",
      "           1       0.81      0.77      0.79     23638\n",
      "\n",
      "    accuracy                           0.77     42170\n",
      "   macro avg       0.77      0.77      0.77     42170\n",
      "weighted avg       0.77      0.77      0.77     42170\n",
      "\n"
     ]
    }
   ],
   "source": [
    "cr_test = classification_report(y_test, y_pred_test)\n",
    "print('Classification on test data')\n",
    "print(cr_test)"
   ]
  },
  {
   "cell_type": "markdown",
   "metadata": {},
   "source": [
    "## Hyperparameter Optimization"
   ]
  },
  {
   "cell_type": "code",
   "execution_count": 81,
   "metadata": {},
   "outputs": [],
   "source": [
    "# Hyperparameter grid\n",
    "param_grid = {\n",
    "    'random_state': [42],\n",
    "    'max_iter': [1000],\n",
    "    'solver': ['saga'],\n",
    "    'penalty': ['l1', 'l2', 'elasticnet', 'none'],\n",
    "    'C': [0.01, 0.05, 0.1, 0.15, 0.2, 0.3, 0.4, 0.5, 0.75, 1.0, 1.1, 1.25, 1.5, 2.0, 5.0, 10.0, 100.0],\n",
    "    'fit_intercept': [True, False],\n",
    "    'class_weight': [None, 'balanced'],\n",
    "    'l1_ratio': [0.1, 0.25, 0.5, 0.75, 0.9]\n",
    "}"
   ]
  },
  {
   "cell_type": "code",
   "execution_count": 82,
   "metadata": {},
   "outputs": [
    {
     "name": "stdout",
     "output_type": "stream",
     "text": [
      "Fitting 5 folds for each of 10 candidates, totalling 50 fits\n"
     ]
    },
    {
     "name": "stderr",
     "output_type": "stream",
     "text": [
      "/Users/lennartmarien/Documents/neuefische/kick_it_like_beckham/.venv/lib/python3.9/site-packages/sklearn/linear_model/_logistic.py:1476: UserWarning: l1_ratio parameter is only used when penalty is 'elasticnet'. Got (penalty=l1)\n",
      "  warnings.warn(\n",
      "/Users/lennartmarien/Documents/neuefische/kick_it_like_beckham/.venv/lib/python3.9/site-packages/sklearn/linear_model/_logistic.py:1476: UserWarning: l1_ratio parameter is only used when penalty is 'elasticnet'. Got (penalty=l1)\n",
      "  warnings.warn(\n",
      "/Users/lennartmarien/Documents/neuefische/kick_it_like_beckham/.venv/lib/python3.9/site-packages/sklearn/linear_model/_logistic.py:1476: UserWarning: l1_ratio parameter is only used when penalty is 'elasticnet'. Got (penalty=l1)\n",
      "  warnings.warn(\n",
      "/Users/lennartmarien/Documents/neuefische/kick_it_like_beckham/.venv/lib/python3.9/site-packages/sklearn/linear_model/_sag.py:352: ConvergenceWarning: The max_iter was reached which means the coef_ did not converge\n",
      "  warnings.warn(\n"
     ]
    },
    {
     "name": "stdout",
     "output_type": "stream",
     "text": [
      "[CV 3/5] END C=5.0, class_weight=None, fit_intercept=True, l1_ratio=0.25, max_iter=1000, penalty=elasticnet, random_state=42, solver=saga;, score=0.771 total time= 5.9min\n"
     ]
    },
    {
     "name": "stderr",
     "output_type": "stream",
     "text": [
      "/Users/lennartmarien/Documents/neuefische/kick_it_like_beckham/.venv/lib/python3.9/site-packages/sklearn/linear_model/_logistic.py:1476: UserWarning: l1_ratio parameter is only used when penalty is 'elasticnet'. Got (penalty=l1)\n",
      "  warnings.warn(\n",
      "/Users/lennartmarien/Documents/neuefische/kick_it_like_beckham/.venv/lib/python3.9/site-packages/sklearn/linear_model/_sag.py:352: ConvergenceWarning: The max_iter was reached which means the coef_ did not converge\n",
      "  warnings.warn(\n",
      "/Users/lennartmarien/Documents/neuefische/kick_it_like_beckham/.venv/lib/python3.9/site-packages/sklearn/linear_model/_logistic.py:1476: UserWarning: l1_ratio parameter is only used when penalty is 'elasticnet'. Got (penalty=l1)\n",
      "  warnings.warn(\n"
     ]
    },
    {
     "name": "stdout",
     "output_type": "stream",
     "text": [
      "[CV 2/5] END C=5.0, class_weight=None, fit_intercept=True, l1_ratio=0.25, max_iter=1000, penalty=elasticnet, random_state=42, solver=saga;, score=0.770 total time= 6.0min\n"
     ]
    },
    {
     "name": "stderr",
     "output_type": "stream",
     "text": [
      "/Users/lennartmarien/Documents/neuefische/kick_it_like_beckham/.venv/lib/python3.9/site-packages/sklearn/linear_model/_sag.py:352: ConvergenceWarning: The max_iter was reached which means the coef_ did not converge\n",
      "  warnings.warn(\n"
     ]
    },
    {
     "name": "stdout",
     "output_type": "stream",
     "text": [
      "[CV 4/5] END C=5.0, class_weight=None, fit_intercept=True, l1_ratio=0.25, max_iter=1000, penalty=elasticnet, random_state=42, solver=saga;, score=0.766 total time= 6.0min\n"
     ]
    },
    {
     "name": "stderr",
     "output_type": "stream",
     "text": [
      "/Users/lennartmarien/Documents/neuefische/kick_it_like_beckham/.venv/lib/python3.9/site-packages/sklearn/linear_model/_sag.py:352: ConvergenceWarning: The max_iter was reached which means the coef_ did not converge\n",
      "  warnings.warn(\n"
     ]
    },
    {
     "name": "stdout",
     "output_type": "stream",
     "text": [
      "[CV 5/5] END C=5.0, class_weight=None, fit_intercept=True, l1_ratio=0.25, max_iter=1000, penalty=elasticnet, random_state=42, solver=saga;, score=0.774 total time= 6.0min\n"
     ]
    },
    {
     "name": "stderr",
     "output_type": "stream",
     "text": [
      "/Users/lennartmarien/Documents/neuefische/kick_it_like_beckham/.venv/lib/python3.9/site-packages/sklearn/linear_model/_sag.py:352: ConvergenceWarning: The max_iter was reached which means the coef_ did not converge\n",
      "  warnings.warn(\n"
     ]
    },
    {
     "name": "stdout",
     "output_type": "stream",
     "text": [
      "[CV 1/5] END C=5.0, class_weight=None, fit_intercept=True, l1_ratio=0.25, max_iter=1000, penalty=elasticnet, random_state=42, solver=saga;, score=0.768 total time= 6.0min\n"
     ]
    },
    {
     "name": "stderr",
     "output_type": "stream",
     "text": [
      "/Users/lennartmarien/Documents/neuefische/kick_it_like_beckham/.venv/lib/python3.9/site-packages/sklearn/linear_model/_sag.py:352: ConvergenceWarning: The max_iter was reached which means the coef_ did not converge\n",
      "  warnings.warn(\n"
     ]
    },
    {
     "name": "stdout",
     "output_type": "stream",
     "text": [
      "[CV 3/5] END C=1.1, class_weight=balanced, fit_intercept=False, l1_ratio=0.1, max_iter=1000, penalty=l1, random_state=42, solver=saga;, score=0.766 total time= 6.5min\n"
     ]
    },
    {
     "name": "stderr",
     "output_type": "stream",
     "text": [
      "/Users/lennartmarien/Documents/neuefische/kick_it_like_beckham/.venv/lib/python3.9/site-packages/sklearn/linear_model/_sag.py:352: ConvergenceWarning: The max_iter was reached which means the coef_ did not converge\n",
      "  warnings.warn(\n"
     ]
    },
    {
     "name": "stdout",
     "output_type": "stream",
     "text": [
      "[CV 1/5] END C=1.1, class_weight=balanced, fit_intercept=False, l1_ratio=0.1, max_iter=1000, penalty=l1, random_state=42, solver=saga;, score=0.765 total time= 6.5min\n"
     ]
    },
    {
     "name": "stderr",
     "output_type": "stream",
     "text": [
      "/Users/lennartmarien/Documents/neuefische/kick_it_like_beckham/.venv/lib/python3.9/site-packages/sklearn/linear_model/_sag.py:352: ConvergenceWarning: The max_iter was reached which means the coef_ did not converge\n",
      "  warnings.warn(\n"
     ]
    },
    {
     "name": "stdout",
     "output_type": "stream",
     "text": [
      "[CV 2/5] END C=1.1, class_weight=balanced, fit_intercept=False, l1_ratio=0.1, max_iter=1000, penalty=l1, random_state=42, solver=saga;, score=0.766 total time= 6.6min\n"
     ]
    },
    {
     "name": "stderr",
     "output_type": "stream",
     "text": [
      "/Users/lennartmarien/Documents/neuefische/kick_it_like_beckham/.venv/lib/python3.9/site-packages/sklearn/linear_model/_sag.py:352: ConvergenceWarning: The max_iter was reached which means the coef_ did not converge\n",
      "  warnings.warn(\n"
     ]
    },
    {
     "name": "stdout",
     "output_type": "stream",
     "text": [
      "[CV 1/5] END C=100.0, class_weight=None, fit_intercept=True, l1_ratio=0.75, max_iter=1000, penalty=elasticnet, random_state=42, solver=saga;, score=0.768 total time= 6.3min\n"
     ]
    },
    {
     "name": "stderr",
     "output_type": "stream",
     "text": [
      "/Users/lennartmarien/Documents/neuefische/kick_it_like_beckham/.venv/lib/python3.9/site-packages/sklearn/linear_model/_sag.py:352: ConvergenceWarning: The max_iter was reached which means the coef_ did not converge\n",
      "  warnings.warn(\n"
     ]
    },
    {
     "name": "stdout",
     "output_type": "stream",
     "text": [
      "[CV 3/5] END C=100.0, class_weight=None, fit_intercept=True, l1_ratio=0.75, max_iter=1000, penalty=elasticnet, random_state=42, solver=saga;, score=0.771 total time= 6.4min\n"
     ]
    },
    {
     "name": "stderr",
     "output_type": "stream",
     "text": [
      "/Users/lennartmarien/Documents/neuefische/kick_it_like_beckham/.venv/lib/python3.9/site-packages/sklearn/linear_model/_sag.py:352: ConvergenceWarning: The max_iter was reached which means the coef_ did not converge\n",
      "  warnings.warn(\n"
     ]
    },
    {
     "name": "stdout",
     "output_type": "stream",
     "text": [
      "[CV 2/5] END C=100.0, class_weight=None, fit_intercept=True, l1_ratio=0.75, max_iter=1000, penalty=elasticnet, random_state=42, solver=saga;, score=0.771 total time= 6.4min\n"
     ]
    },
    {
     "name": "stderr",
     "output_type": "stream",
     "text": [
      "/Users/lennartmarien/Documents/neuefische/kick_it_like_beckham/.venv/lib/python3.9/site-packages/sklearn/linear_model/_sag.py:352: ConvergenceWarning: The max_iter was reached which means the coef_ did not converge\n",
      "  warnings.warn(\n",
      "/Users/lennartmarien/Documents/neuefische/kick_it_like_beckham/.venv/lib/python3.9/site-packages/sklearn/linear_model/_sag.py:352: ConvergenceWarning: The max_iter was reached which means the coef_ did not converge\n",
      "  warnings.warn(\n"
     ]
    },
    {
     "name": "stdout",
     "output_type": "stream",
     "text": [
      "[CV 5/5] END C=1.1, class_weight=balanced, fit_intercept=False, l1_ratio=0.1, max_iter=1000, penalty=l1, random_state=42, solver=saga;, score=0.770 total time= 7.1min\n",
      "[CV 4/5] END C=100.0, class_weight=None, fit_intercept=True, l1_ratio=0.75, max_iter=1000, penalty=elasticnet, random_state=42, solver=saga;, score=0.767 total time= 6.6min\n"
     ]
    },
    {
     "name": "stderr",
     "output_type": "stream",
     "text": [
      "/Users/lennartmarien/Documents/neuefische/kick_it_like_beckham/.venv/lib/python3.9/site-packages/sklearn/linear_model/_logistic.py:1476: UserWarning: l1_ratio parameter is only used when penalty is 'elasticnet'. Got (penalty=none)\n",
      "  warnings.warn(\n",
      "/Users/lennartmarien/Documents/neuefische/kick_it_like_beckham/.venv/lib/python3.9/site-packages/sklearn/linear_model/_logistic.py:1483: UserWarning: Setting penalty='none' will ignore the C and l1_ratio parameters\n",
      "  warnings.warn(\n",
      "/Users/lennartmarien/Documents/neuefische/kick_it_like_beckham/.venv/lib/python3.9/site-packages/sklearn/linear_model/_sag.py:352: ConvergenceWarning: The max_iter was reached which means the coef_ did not converge\n",
      "  warnings.warn(\n",
      "/Users/lennartmarien/Documents/neuefische/kick_it_like_beckham/.venv/lib/python3.9/site-packages/sklearn/linear_model/_logistic.py:1476: UserWarning: l1_ratio parameter is only used when penalty is 'elasticnet'. Got (penalty=none)\n",
      "  warnings.warn(\n",
      "/Users/lennartmarien/Documents/neuefische/kick_it_like_beckham/.venv/lib/python3.9/site-packages/sklearn/linear_model/_logistic.py:1483: UserWarning: Setting penalty='none' will ignore the C and l1_ratio parameters\n",
      "  warnings.warn(\n"
     ]
    },
    {
     "name": "stdout",
     "output_type": "stream",
     "text": [
      "[CV 5/5] END C=100.0, class_weight=None, fit_intercept=True, l1_ratio=0.75, max_iter=1000, penalty=elasticnet, random_state=42, solver=saga;, score=0.775 total time= 6.6min\n"
     ]
    },
    {
     "name": "stderr",
     "output_type": "stream",
     "text": [
      "/Users/lennartmarien/Documents/neuefische/kick_it_like_beckham/.venv/lib/python3.9/site-packages/sklearn/linear_model/_sag.py:352: ConvergenceWarning: The max_iter was reached which means the coef_ did not converge\n",
      "  warnings.warn(\n",
      "/Users/lennartmarien/Documents/neuefische/kick_it_like_beckham/.venv/lib/python3.9/site-packages/sklearn/linear_model/_logistic.py:1476: UserWarning: l1_ratio parameter is only used when penalty is 'elasticnet'. Got (penalty=none)\n",
      "  warnings.warn(\n",
      "/Users/lennartmarien/Documents/neuefische/kick_it_like_beckham/.venv/lib/python3.9/site-packages/sklearn/linear_model/_logistic.py:1483: UserWarning: Setting penalty='none' will ignore the C and l1_ratio parameters\n",
      "  warnings.warn(\n"
     ]
    },
    {
     "name": "stdout",
     "output_type": "stream",
     "text": [
      "[CV 1/5] END C=5.0, class_weight=None, fit_intercept=True, l1_ratio=0.5, max_iter=1000, penalty=elasticnet, random_state=42, solver=saga;, score=0.768 total time= 6.6min\n"
     ]
    },
    {
     "name": "stderr",
     "output_type": "stream",
     "text": [
      "/Users/lennartmarien/Documents/neuefische/kick_it_like_beckham/.venv/lib/python3.9/site-packages/sklearn/linear_model/_sag.py:352: ConvergenceWarning: The max_iter was reached which means the coef_ did not converge\n",
      "  warnings.warn(\n",
      "/Users/lennartmarien/Documents/neuefische/kick_it_like_beckham/.venv/lib/python3.9/site-packages/sklearn/linear_model/_logistic.py:1476: UserWarning: l1_ratio parameter is only used when penalty is 'elasticnet'. Got (penalty=none)\n",
      "  warnings.warn(\n",
      "/Users/lennartmarien/Documents/neuefische/kick_it_like_beckham/.venv/lib/python3.9/site-packages/sklearn/linear_model/_logistic.py:1483: UserWarning: Setting penalty='none' will ignore the C and l1_ratio parameters\n",
      "  warnings.warn(\n"
     ]
    },
    {
     "name": "stdout",
     "output_type": "stream",
     "text": [
      "[CV 4/5] END C=1.1, class_weight=balanced, fit_intercept=False, l1_ratio=0.1, max_iter=1000, penalty=l1, random_state=42, solver=saga;, score=0.763 total time= 7.2min\n"
     ]
    },
    {
     "name": "stderr",
     "output_type": "stream",
     "text": [
      "/Users/lennartmarien/Documents/neuefische/kick_it_like_beckham/.venv/lib/python3.9/site-packages/sklearn/linear_model/_sag.py:352: ConvergenceWarning: The max_iter was reached which means the coef_ did not converge\n",
      "  warnings.warn(\n"
     ]
    },
    {
     "name": "stdout",
     "output_type": "stream",
     "text": [
      "[CV 1/5] END C=2.0, class_weight=balanced, fit_intercept=True, l1_ratio=0.75, max_iter=1000, penalty=none, random_state=42, solver=saga;, score=0.765 total time= 4.7min\n"
     ]
    },
    {
     "name": "stderr",
     "output_type": "stream",
     "text": [
      "/Users/lennartmarien/Documents/neuefische/kick_it_like_beckham/.venv/lib/python3.9/site-packages/sklearn/linear_model/_logistic.py:1476: UserWarning: l1_ratio parameter is only used when penalty is 'elasticnet'. Got (penalty=none)\n",
      "  warnings.warn(\n",
      "/Users/lennartmarien/Documents/neuefische/kick_it_like_beckham/.venv/lib/python3.9/site-packages/sklearn/linear_model/_logistic.py:1483: UserWarning: Setting penalty='none' will ignore the C and l1_ratio parameters\n",
      "  warnings.warn(\n",
      "/Users/lennartmarien/Documents/neuefische/kick_it_like_beckham/.venv/lib/python3.9/site-packages/sklearn/linear_model/_sag.py:352: ConvergenceWarning: The max_iter was reached which means the coef_ did not converge\n",
      "  warnings.warn(\n"
     ]
    },
    {
     "name": "stdout",
     "output_type": "stream",
     "text": [
      "[CV 2/5] END C=2.0, class_weight=balanced, fit_intercept=True, l1_ratio=0.75, max_iter=1000, penalty=none, random_state=42, solver=saga;, score=0.767 total time= 4.7min\n"
     ]
    },
    {
     "name": "stderr",
     "output_type": "stream",
     "text": [
      "/Users/lennartmarien/Documents/neuefische/kick_it_like_beckham/.venv/lib/python3.9/site-packages/sklearn/linear_model/_logistic.py:1476: UserWarning: l1_ratio parameter is only used when penalty is 'elasticnet'. Got (penalty=l1)\n",
      "  warnings.warn(\n",
      "/Users/lennartmarien/Documents/neuefische/kick_it_like_beckham/.venv/lib/python3.9/site-packages/sklearn/linear_model/_sag.py:352: ConvergenceWarning: The max_iter was reached which means the coef_ did not converge\n",
      "  warnings.warn(\n"
     ]
    },
    {
     "name": "stdout",
     "output_type": "stream",
     "text": [
      "[CV 3/5] END C=2.0, class_weight=balanced, fit_intercept=True, l1_ratio=0.75, max_iter=1000, penalty=none, random_state=42, solver=saga;, score=0.766 total time= 4.8min\n"
     ]
    },
    {
     "name": "stderr",
     "output_type": "stream",
     "text": [
      "/Users/lennartmarien/Documents/neuefische/kick_it_like_beckham/.venv/lib/python3.9/site-packages/sklearn/linear_model/_logistic.py:1476: UserWarning: l1_ratio parameter is only used when penalty is 'elasticnet'. Got (penalty=l1)\n",
      "  warnings.warn(\n",
      "/Users/lennartmarien/Documents/neuefische/kick_it_like_beckham/.venv/lib/python3.9/site-packages/sklearn/linear_model/_sag.py:352: ConvergenceWarning: The max_iter was reached which means the coef_ did not converge\n",
      "  warnings.warn(\n",
      "/Users/lennartmarien/Documents/neuefische/kick_it_like_beckham/.venv/lib/python3.9/site-packages/sklearn/linear_model/_logistic.py:1476: UserWarning: l1_ratio parameter is only used when penalty is 'elasticnet'. Got (penalty=l1)\n",
      "  warnings.warn(\n"
     ]
    },
    {
     "name": "stdout",
     "output_type": "stream",
     "text": [
      "[CV 4/5] END C=2.0, class_weight=balanced, fit_intercept=True, l1_ratio=0.75, max_iter=1000, penalty=none, random_state=42, solver=saga;, score=0.763 total time= 4.8min\n"
     ]
    },
    {
     "name": "stderr",
     "output_type": "stream",
     "text": [
      "/Users/lennartmarien/Documents/neuefische/kick_it_like_beckham/.venv/lib/python3.9/site-packages/sklearn/linear_model/_sag.py:352: ConvergenceWarning: The max_iter was reached which means the coef_ did not converge\n",
      "  warnings.warn(\n"
     ]
    },
    {
     "name": "stdout",
     "output_type": "stream",
     "text": [
      "[CV 2/5] END C=5.0, class_weight=None, fit_intercept=True, l1_ratio=0.5, max_iter=1000, penalty=elasticnet, random_state=42, solver=saga;, score=0.770 total time= 7.7min\n"
     ]
    },
    {
     "name": "stderr",
     "output_type": "stream",
     "text": [
      "/Users/lennartmarien/Documents/neuefische/kick_it_like_beckham/.venv/lib/python3.9/site-packages/sklearn/linear_model/_logistic.py:1476: UserWarning: l1_ratio parameter is only used when penalty is 'elasticnet'. Got (penalty=l1)\n",
      "  warnings.warn(\n",
      "/Users/lennartmarien/Documents/neuefische/kick_it_like_beckham/.venv/lib/python3.9/site-packages/sklearn/linear_model/_sag.py:352: ConvergenceWarning: The max_iter was reached which means the coef_ did not converge\n",
      "  warnings.warn(\n",
      "/Users/lennartmarien/Documents/neuefische/kick_it_like_beckham/.venv/lib/python3.9/site-packages/sklearn/linear_model/_sag.py:352: ConvergenceWarning: The max_iter was reached which means the coef_ did not converge\n",
      "  warnings.warn(\n",
      "/Users/lennartmarien/Documents/neuefische/kick_it_like_beckham/.venv/lib/python3.9/site-packages/sklearn/linear_model/_logistic.py:1476: UserWarning: l1_ratio parameter is only used when penalty is 'elasticnet'. Got (penalty=l1)\n",
      "  warnings.warn(\n"
     ]
    },
    {
     "name": "stdout",
     "output_type": "stream",
     "text": [
      "[CV 3/5] END C=5.0, class_weight=None, fit_intercept=True, l1_ratio=0.5, max_iter=1000, penalty=elasticnet, random_state=42, solver=saga;, score=0.771 total time= 7.7min\n",
      "[CV 4/5] END C=5.0, class_weight=None, fit_intercept=True, l1_ratio=0.5, max_iter=1000, penalty=elasticnet, random_state=42, solver=saga;, score=0.767 total time= 7.7min\n"
     ]
    },
    {
     "name": "stderr",
     "output_type": "stream",
     "text": [
      "/Users/lennartmarien/Documents/neuefische/kick_it_like_beckham/.venv/lib/python3.9/site-packages/sklearn/linear_model/_logistic.py:1476: UserWarning: l1_ratio parameter is only used when penalty is 'elasticnet'. Got (penalty=l2)\n",
      "  warnings.warn(\n"
     ]
    },
    {
     "name": "stdout",
     "output_type": "stream",
     "text": [
      "[CV 1/5] END C=0.05, class_weight=balanced, fit_intercept=True, l1_ratio=0.1, max_iter=1000, penalty=l2, random_state=42, solver=saga;, score=0.759 total time=  23.8s\n"
     ]
    },
    {
     "name": "stderr",
     "output_type": "stream",
     "text": [
      "/Users/lennartmarien/Documents/neuefische/kick_it_like_beckham/.venv/lib/python3.9/site-packages/sklearn/linear_model/_logistic.py:1476: UserWarning: l1_ratio parameter is only used when penalty is 'elasticnet'. Got (penalty=l2)\n",
      "  warnings.warn(\n",
      "/Users/lennartmarien/Documents/neuefische/kick_it_like_beckham/.venv/lib/python3.9/site-packages/sklearn/linear_model/_sag.py:352: ConvergenceWarning: The max_iter was reached which means the coef_ did not converge\n",
      "  warnings.warn(\n"
     ]
    },
    {
     "name": "stdout",
     "output_type": "stream",
     "text": [
      "[CV 5/5] END C=5.0, class_weight=None, fit_intercept=True, l1_ratio=0.5, max_iter=1000, penalty=elasticnet, random_state=42, solver=saga;, score=0.774 total time= 7.5min\n"
     ]
    },
    {
     "name": "stderr",
     "output_type": "stream",
     "text": [
      "/Users/lennartmarien/Documents/neuefische/kick_it_like_beckham/.venv/lib/python3.9/site-packages/sklearn/linear_model/_logistic.py:1476: UserWarning: l1_ratio parameter is only used when penalty is 'elasticnet'. Got (penalty=l2)\n",
      "  warnings.warn(\n"
     ]
    },
    {
     "name": "stdout",
     "output_type": "stream",
     "text": [
      "[CV 2/5] END C=0.05, class_weight=balanced, fit_intercept=True, l1_ratio=0.1, max_iter=1000, penalty=l2, random_state=42, solver=saga;, score=0.763 total time=  28.0s\n"
     ]
    },
    {
     "name": "stderr",
     "output_type": "stream",
     "text": [
      "/Users/lennartmarien/Documents/neuefische/kick_it_like_beckham/.venv/lib/python3.9/site-packages/sklearn/linear_model/_logistic.py:1476: UserWarning: l1_ratio parameter is only used when penalty is 'elasticnet'. Got (penalty=l2)\n",
      "  warnings.warn(\n"
     ]
    },
    {
     "name": "stdout",
     "output_type": "stream",
     "text": [
      "[CV 3/5] END C=0.05, class_weight=balanced, fit_intercept=True, l1_ratio=0.1, max_iter=1000, penalty=l2, random_state=42, solver=saga;, score=0.762 total time=  27.6s\n"
     ]
    },
    {
     "name": "stderr",
     "output_type": "stream",
     "text": [
      "/Users/lennartmarien/Documents/neuefische/kick_it_like_beckham/.venv/lib/python3.9/site-packages/sklearn/linear_model/_logistic.py:1476: UserWarning: l1_ratio parameter is only used when penalty is 'elasticnet'. Got (penalty=l2)\n",
      "  warnings.warn(\n"
     ]
    },
    {
     "name": "stdout",
     "output_type": "stream",
     "text": [
      "[CV 4/5] END C=0.05, class_weight=balanced, fit_intercept=True, l1_ratio=0.1, max_iter=1000, penalty=l2, random_state=42, solver=saga;, score=0.757 total time=  16.6s\n",
      "[CV 5/5] END C=0.05, class_weight=balanced, fit_intercept=True, l1_ratio=0.1, max_iter=1000, penalty=l2, random_state=42, solver=saga;, score=0.765 total time=  25.1s\n",
      "[CV 1/5] END C=0.3, class_weight=balanced, fit_intercept=False, l1_ratio=0.25, max_iter=1000, penalty=elasticnet, random_state=42, solver=saga;, score=0.763 total time= 2.6min\n"
     ]
    },
    {
     "name": "stderr",
     "output_type": "stream",
     "text": [
      "/Users/lennartmarien/Documents/neuefische/kick_it_like_beckham/.venv/lib/python3.9/site-packages/sklearn/linear_model/_sag.py:352: ConvergenceWarning: The max_iter was reached which means the coef_ did not converge\n",
      "  warnings.warn(\n"
     ]
    },
    {
     "name": "stdout",
     "output_type": "stream",
     "text": [
      "[CV 5/5] END C=2.0, class_weight=balanced, fit_intercept=True, l1_ratio=0.75, max_iter=1000, penalty=none, random_state=42, solver=saga;, score=0.770 total time= 6.1min\n",
      "[CV 2/5] END C=0.3, class_weight=balanced, fit_intercept=False, l1_ratio=0.25, max_iter=1000, penalty=elasticnet, random_state=42, solver=saga;, score=0.766 total time= 2.6min\n",
      "[CV 4/5] END C=0.3, class_weight=balanced, fit_intercept=False, l1_ratio=0.25, max_iter=1000, penalty=elasticnet, random_state=42, solver=saga;, score=0.763 total time= 1.3min\n",
      "[CV 3/5] END C=0.3, class_weight=balanced, fit_intercept=False, l1_ratio=0.25, max_iter=1000, penalty=elasticnet, random_state=42, solver=saga;, score=0.766 total time= 2.1min\n",
      "[CV 5/5] END C=0.3, class_weight=balanced, fit_intercept=False, l1_ratio=0.25, max_iter=1000, penalty=elasticnet, random_state=42, solver=saga;, score=0.770 total time= 2.0min\n"
     ]
    },
    {
     "name": "stderr",
     "output_type": "stream",
     "text": [
      "/Users/lennartmarien/Documents/neuefische/kick_it_like_beckham/.venv/lib/python3.9/site-packages/sklearn/linear_model/_sag.py:352: ConvergenceWarning: The max_iter was reached which means the coef_ did not converge\n",
      "  warnings.warn(\n"
     ]
    },
    {
     "name": "stdout",
     "output_type": "stream",
     "text": [
      "[CV 1/5] END C=2.0, class_weight=None, fit_intercept=True, l1_ratio=0.25, max_iter=1000, penalty=l1, random_state=42, solver=saga;, score=0.768 total time= 8.8min\n"
     ]
    },
    {
     "name": "stderr",
     "output_type": "stream",
     "text": [
      "/Users/lennartmarien/Documents/neuefische/kick_it_like_beckham/.venv/lib/python3.9/site-packages/sklearn/linear_model/_sag.py:352: ConvergenceWarning: The max_iter was reached which means the coef_ did not converge\n",
      "  warnings.warn(\n"
     ]
    },
    {
     "name": "stdout",
     "output_type": "stream",
     "text": [
      "[CV 2/5] END C=2.0, class_weight=None, fit_intercept=True, l1_ratio=0.25, max_iter=1000, penalty=l1, random_state=42, solver=saga;, score=0.770 total time= 8.8min\n"
     ]
    },
    {
     "name": "stderr",
     "output_type": "stream",
     "text": [
      "/Users/lennartmarien/Documents/neuefische/kick_it_like_beckham/.venv/lib/python3.9/site-packages/sklearn/linear_model/_sag.py:352: ConvergenceWarning: The max_iter was reached which means the coef_ did not converge\n",
      "  warnings.warn(\n"
     ]
    },
    {
     "name": "stdout",
     "output_type": "stream",
     "text": [
      "[CV 3/5] END C=2.0, class_weight=None, fit_intercept=True, l1_ratio=0.25, max_iter=1000, penalty=l1, random_state=42, solver=saga;, score=0.770 total time= 8.7min\n"
     ]
    },
    {
     "name": "stderr",
     "output_type": "stream",
     "text": [
      "/Users/lennartmarien/Documents/neuefische/kick_it_like_beckham/.venv/lib/python3.9/site-packages/sklearn/linear_model/_sag.py:352: ConvergenceWarning: The max_iter was reached which means the coef_ did not converge\n",
      "  warnings.warn(\n"
     ]
    },
    {
     "name": "stdout",
     "output_type": "stream",
     "text": [
      "[CV 5/5] END C=2.0, class_weight=None, fit_intercept=True, l1_ratio=0.25, max_iter=1000, penalty=l1, random_state=42, solver=saga;, score=0.774 total time= 8.5min\n"
     ]
    },
    {
     "name": "stderr",
     "output_type": "stream",
     "text": [
      "/Users/lennartmarien/Documents/neuefische/kick_it_like_beckham/.venv/lib/python3.9/site-packages/sklearn/linear_model/_sag.py:352: ConvergenceWarning: The max_iter was reached which means the coef_ did not converge\n",
      "  warnings.warn(\n"
     ]
    },
    {
     "name": "stdout",
     "output_type": "stream",
     "text": [
      "[CV 4/5] END C=2.0, class_weight=None, fit_intercept=True, l1_ratio=0.25, max_iter=1000, penalty=l1, random_state=42, solver=saga;, score=0.767 total time= 8.7min\n",
      "[CV 1/5] END C=0.2, class_weight=None, fit_intercept=True, l1_ratio=0.5, max_iter=1000, penalty=elasticnet, random_state=42, solver=saga;, score=0.767 total time= 2.0min\n",
      "[CV 4/5] END C=0.2, class_weight=None, fit_intercept=True, l1_ratio=0.5, max_iter=1000, penalty=elasticnet, random_state=42, solver=saga;, score=0.766 total time= 1.3min\n",
      "[CV 2/5] END C=0.2, class_weight=None, fit_intercept=True, l1_ratio=0.5, max_iter=1000, penalty=elasticnet, random_state=42, solver=saga;, score=0.770 total time= 2.1min\n",
      "[CV 3/5] END C=0.2, class_weight=None, fit_intercept=True, l1_ratio=0.5, max_iter=1000, penalty=elasticnet, random_state=42, solver=saga;, score=0.770 total time= 2.1min\n",
      "[CV 5/5] END C=0.2, class_weight=None, fit_intercept=True, l1_ratio=0.5, max_iter=1000, penalty=elasticnet, random_state=42, solver=saga;, score=0.773 total time= 1.7min\n"
     ]
    },
    {
     "name": "stderr",
     "output_type": "stream",
     "text": [
      "/Users/lennartmarien/Documents/neuefische/kick_it_like_beckham/.venv/lib/python3.9/site-packages/sklearn/linear_model/_sag.py:352: ConvergenceWarning: The max_iter was reached which means the coef_ did not converge\n",
      "  warnings.warn(\n"
     ]
    },
    {
     "name": "stdout",
     "output_type": "stream",
     "text": [
      "[CV 1/5] END C=10.0, class_weight=None, fit_intercept=False, l1_ratio=0.9, max_iter=1000, penalty=elasticnet, random_state=42, solver=saga;, score=0.768 total time= 7.0min\n"
     ]
    },
    {
     "name": "stderr",
     "output_type": "stream",
     "text": [
      "/Users/lennartmarien/Documents/neuefische/kick_it_like_beckham/.venv/lib/python3.9/site-packages/sklearn/linear_model/_sag.py:352: ConvergenceWarning: The max_iter was reached which means the coef_ did not converge\n",
      "  warnings.warn(\n"
     ]
    },
    {
     "name": "stdout",
     "output_type": "stream",
     "text": [
      "[CV 2/5] END C=10.0, class_weight=None, fit_intercept=False, l1_ratio=0.9, max_iter=1000, penalty=elasticnet, random_state=42, solver=saga;, score=0.770 total time= 6.7min\n"
     ]
    },
    {
     "name": "stderr",
     "output_type": "stream",
     "text": [
      "/Users/lennartmarien/Documents/neuefische/kick_it_like_beckham/.venv/lib/python3.9/site-packages/sklearn/linear_model/_sag.py:352: ConvergenceWarning: The max_iter was reached which means the coef_ did not converge\n",
      "  warnings.warn(\n"
     ]
    },
    {
     "name": "stdout",
     "output_type": "stream",
     "text": [
      "[CV 3/5] END C=10.0, class_weight=None, fit_intercept=False, l1_ratio=0.9, max_iter=1000, penalty=elasticnet, random_state=42, solver=saga;, score=0.771 total time= 6.6min\n"
     ]
    },
    {
     "name": "stderr",
     "output_type": "stream",
     "text": [
      "/Users/lennartmarien/Documents/neuefische/kick_it_like_beckham/.venv/lib/python3.9/site-packages/sklearn/linear_model/_sag.py:352: ConvergenceWarning: The max_iter was reached which means the coef_ did not converge\n",
      "  warnings.warn(\n"
     ]
    },
    {
     "name": "stdout",
     "output_type": "stream",
     "text": [
      "[CV 5/5] END C=10.0, class_weight=None, fit_intercept=False, l1_ratio=0.9, max_iter=1000, penalty=elasticnet, random_state=42, solver=saga;, score=0.775 total time= 6.3min\n"
     ]
    },
    {
     "name": "stderr",
     "output_type": "stream",
     "text": [
      "/Users/lennartmarien/Documents/neuefische/kick_it_like_beckham/.venv/lib/python3.9/site-packages/sklearn/linear_model/_sag.py:352: ConvergenceWarning: The max_iter was reached which means the coef_ did not converge\n",
      "  warnings.warn(\n"
     ]
    },
    {
     "name": "stdout",
     "output_type": "stream",
     "text": [
      "[CV 4/5] END C=10.0, class_weight=None, fit_intercept=False, l1_ratio=0.9, max_iter=1000, penalty=elasticnet, random_state=42, solver=saga;, score=0.767 total time= 6.4min\n"
     ]
    },
    {
     "name": "stderr",
     "output_type": "stream",
     "text": [
      "/Users/lennartmarien/Documents/neuefische/kick_it_like_beckham/.venv/lib/python3.9/site-packages/sklearn/linear_model/_sag.py:352: ConvergenceWarning: The max_iter was reached which means the coef_ did not converge\n",
      "  warnings.warn(\n"
     ]
    },
    {
     "data": {
      "text/plain": [
       "RandomizedSearchCV(cv=5,\n",
       "                   estimator=LogisticRegression(max_iter=1000, random_state=42),\n",
       "                   n_jobs=-1,\n",
       "                   param_distributions={'C': [0.01, 0.05, 0.1, 0.15, 0.2, 0.3,\n",
       "                                              0.4, 0.5, 0.75, 1.0, 1.1, 1.25,\n",
       "                                              1.5, 2.0, 5.0, 10.0, 100.0],\n",
       "                                        'class_weight': [None, 'balanced'],\n",
       "                                        'fit_intercept': [True, False],\n",
       "                                        'l1_ratio': [0.1, 0.25, 0.5, 0.75, 0.9],\n",
       "                                        'max_iter': [1000],\n",
       "                                        'penalty': ['l1', 'l2', 'elasticnet',\n",
       "                                                    'none'],\n",
       "                                        'random_state': [42],\n",
       "                                        'solver': ['saga']},\n",
       "                   random_state=42, scoring='accuracy', verbose=5)"
      ]
     },
     "execution_count": 82,
     "metadata": {},
     "output_type": "execute_result"
    }
   ],
   "source": [
    "estimator = LogisticRegression(random_state=42, max_iter=1000)\n",
    "\n",
    "# Create the random search model\n",
    "rs = RandomizedSearchCV(estimator, param_grid, n_jobs = -1, \n",
    "                        scoring = 'accuracy', cv = 5, \n",
    "                        n_iter = 10, verbose = 5, random_state=42)\n",
    "\n",
    "# Fit \n",
    "rs.fit(X_train_scaled, y_train)"
   ]
  },
  {
   "cell_type": "code",
   "execution_count": 83,
   "metadata": {},
   "outputs": [
    {
     "data": {
      "text/plain": [
       "{'solver': 'saga',\n",
       " 'random_state': 42,\n",
       " 'penalty': 'elasticnet',\n",
       " 'max_iter': 1000,\n",
       " 'l1_ratio': 0.75,\n",
       " 'fit_intercept': True,\n",
       " 'class_weight': None,\n",
       " 'C': 100.0}"
      ]
     },
     "execution_count": 83,
     "metadata": {},
     "output_type": "execute_result"
    }
   ],
   "source": [
    "rs.best_params_"
   ]
  },
  {
   "cell_type": "code",
   "execution_count": 84,
   "metadata": {},
   "outputs": [],
   "source": [
    "best_model = rs.best_estimator_\n",
    "y_pred_train_be = best_model.predict(X_train_scaled)\n",
    "y_pred_test_be = best_model.predict(X_test_scaled)"
   ]
  },
  {
   "cell_type": "code",
   "execution_count": 87,
   "metadata": {},
   "outputs": [
    {
     "name": "stdout",
     "output_type": "stream",
     "text": [
      "Confusion matrix, without normalization\n",
      "[[43219 12375]\n",
      " [16541 54372]]\n"
     ]
    },
    {
     "data": {
      "image/png": "[encoded data removed]",
      "text/plain": [
       "<Figure size 360x360 with 2 Axes>"
      ]
     },
     "metadata": {
      "needs_background": "light"
     },
     "output_type": "display_data"
    }
   ],
   "source": [
    "cm_train_be = confusion_matrix(y_train, y_pred_train_be)\n",
    "plot_confusion_matrix(cm_train_be, classes = ['Failed','Successful'],\n",
    "                      title = 'Kickstarter Confusion Matrix Test')"
   ]
  },
  {
   "cell_type": "code",
   "execution_count": 88,
   "metadata": {},
   "outputs": [
    {
     "name": "stdout",
     "output_type": "stream",
     "text": [
      "Confusion matrix, without normalization\n",
      "[[14369  4163]\n",
      " [ 5627 18011]]\n"
     ]
    },
    {
     "data": {
      "image/png": "[encoded data removed]",
      "text/plain": [
       "<Figure size 360x360 with 2 Axes>"
      ]
     },
     "metadata": {
      "needs_background": "light"
     },
     "output_type": "display_data"
    }
   ],
   "source": [
    "cm_test_be = confusion_matrix(y_test, y_pred_test_be)\n",
    "plot_confusion_matrix(cm_test_be, classes = ['Failed','Successful'],\n",
    "                      title = 'Kickstarter Confusion Matrix Test')"
   ]
  },
  {
   "cell_type": "code",
   "execution_count": 89,
   "metadata": {},
   "outputs": [
    {
     "name": "stdout",
     "output_type": "stream",
     "text": [
      "Classification on train data\n",
      "              precision    recall  f1-score   support\n",
      "\n",
      "           0       0.72      0.78      0.75     55594\n",
      "           1       0.81      0.77      0.79     70913\n",
      "\n",
      "    accuracy                           0.77    126507\n",
      "   macro avg       0.77      0.77      0.77    126507\n",
      "weighted avg       0.77      0.77      0.77    126507\n",
      "\n"
     ]
    }
   ],
   "source": [
    "cr_train_be = classification_report(y_train, y_pred_train_be)\n",
    "print('Classification on train data')\n",
    "print(cr_train_be)"
   ]
  },
  {
   "cell_type": "code",
   "execution_count": 90,
   "metadata": {},
   "outputs": [
    {
     "name": "stdout",
     "output_type": "stream",
     "text": [
      "Classification on train data\n",
      "              precision    recall  f1-score   support\n",
      "\n",
      "           0       0.72      0.78      0.75     18532\n",
      "           1       0.81      0.76      0.79     23638\n",
      "\n",
      "    accuracy                           0.77     42170\n",
      "   macro avg       0.77      0.77      0.77     42170\n",
      "weighted avg       0.77      0.77      0.77     42170\n",
      "\n"
     ]
    }
   ],
   "source": [
    "cr_test_be = classification_report(y_test, y_pred_test_be)\n",
    "print('Classification on train data')\n",
    "print(cr_test_be)"
   ]
  },
  {
   "cell_type": "code",
   "execution_count": null,
   "metadata": {},
   "outputs": [],
   "source": []
  }
 ],
 "metadata": {
  "interpreter": {
   "hash": "1a82898d3f503c1e2e9b4dff319af7b4ab4f34b16327799ca293100781c08b39"
  },
  "kernelspec": {
   "display_name": "Python 3.9.4 ('.venv': venv)",
   "language": "python",
   "name": "python3"
  },
  "language_info": {
   "codemirror_mode": {
    "name": "ipython",
    "version": 3
   },
   "file_extension": ".py",
   "mimetype": "text/x-python",
   "name": "python",
   "nbconvert_exporter": "python",
   "pygments_lexer": "ipython3",
   "version": "3.9.4"
  },
  "orig_nbformat": 4
 },
 "nbformat": 4,
 "nbformat_minor": 2
}
