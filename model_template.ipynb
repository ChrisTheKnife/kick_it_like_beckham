{
 "cells": [
  {
   "cell_type": "code",
   "execution_count": 1,
   "metadata": {},
   "outputs": [],
   "source": [
    "import pandas as pd\n",
    "import numpy as np\n",
    "from datetime import datetime, timedelta\n",
    "import seaborn as sns\n",
    "import matplotlib.pyplot as plt\n",
    "from sklearn.metrics import accuracy_score\n",
    "from sklearn.model_selection import train_test_split\n",
    "# show all columns when displaying a data frame\n",
    "pd.set_option('display.max_columns', None)\n",
    "pd.set_option('display.max_rows', None)"
   ]
  },
  {
   "cell_type": "code",
   "execution_count": 2,
   "metadata": {},
   "outputs": [],
   "source": [
    "dtypes = {'country':'category', 'cat_name':'category', 'cat_slug':'category', 'loc_name':'category', \n",
    "'loc_country':'category', 'loc_state':'category', 'loc_type':'category', 'main_category':'category', \n",
    "'sub_category':'category', 'goal_categorical':'category', 'currency':'category', 'usd_type':'category'}\n",
    "frame_all = pd.read_csv('data/Kickstarter_full.csv', index_col=0, parse_dates=['created_at', 'launched_at', 'deadline', 'state_changed_at'], dtype=dtypes)"
   ]
  },
  {
   "cell_type": "code",
   "execution_count": 3,
   "metadata": {},
   "outputs": [],
   "source": [
    "columns = frame_all.columns"
   ]
  },
  {
   "cell_type": "code",
   "execution_count": 4,
   "metadata": {},
   "outputs": [],
   "source": [
    "to_delete = ['backers_count',\n",
    " 'blurb',\n",
    " 'created_at',\n",
    " 'converted_pledged_amount',\n",
    " 'currency_symbol',\n",
    " 'currency_trailing_code',\n",
    " 'current_currency',\n",
    " 'deadline',\n",
    " 'goal',\n",
    " 'id',\n",
    " 'is_starrable',\n",
    " 'launched_at',\n",
    " 'name',\n",
    " 'pledged',\n",
    " 'slug',\n",
    " 'source_url',\n",
    " 'spotlight',\n",
    " 'staff_pick',\n",
    " 'state',\n",
    " 'state_changed_at',\n",
    " 'usd_pledged',\n",
    " 'cat_name',\n",
    " 'cat_slug',\n",
    " 'loc_name',\n",
    " 'loc_country',\n",
    " 'loc_state',\n",
    " 'photo_thumb',\n",
    " 'photo_large',\n",
    " 'project_address',\n",
    " 'profile_photo',\n",
    " 'creator_name',\n",
    " 'creator_id',\n",
    " 'creator_thumb',\n",
    " 'creator_address',\n",
    " 'goal_surpass',\n",
    " 'goal_surpass_share',\n",
    " 'goal_surpass_usd',\n",
    " 'baseline',\n",
    " 'disable_communication']"
   ]
  },
  {
   "cell_type": "code",
   "execution_count": 5,
   "metadata": {},
   "outputs": [],
   "source": [
    "frame_all.drop(columns=to_delete, inplace=True)"
   ]
  },
  {
   "cell_type": "code",
   "execution_count": 6,
   "metadata": {},
   "outputs": [],
   "source": [
    "# Save category-column-names in list\n",
    "categorical_cols = frame_all.select_dtypes(include='category').columns\n",
    "\n",
    "#import pandas as pd\n",
    "frame_all = pd.get_dummies(frame_all, columns = categorical_cols, drop_first=True)"
   ]
  },
  {
   "cell_type": "code",
   "execution_count": 7,
   "metadata": {},
   "outputs": [],
   "source": [
    "X = frame_all.drop('state_bool', axis=1)\n",
    "y = frame_all.state_bool"
   ]
  },
  {
   "cell_type": "code",
   "execution_count": 8,
   "metadata": {},
   "outputs": [],
   "source": [
    "X_train, X_test, y_train, y_test = train_test_split(X, y, stratify=y, random_state=42)"
   ]
  },
  {
   "cell_type": "code",
   "execution_count": null,
   "metadata": {},
   "outputs": [],
   "source": []
  }
 ],
 "metadata": {
  "interpreter": {
   "hash": "1a82898d3f503c1e2e9b4dff319af7b4ab4f34b16327799ca293100781c08b39"
  },
  "kernelspec": {
   "display_name": "Python 3.9.4 ('.venv': venv)",
   "language": "python",
   "name": "python3"
  },
  "language_info": {
   "codemirror_mode": {
    "name": "ipython",
    "version": 3
   },
   "file_extension": ".py",
   "mimetype": "text/x-python",
   "name": "python",
   "nbconvert_exporter": "python",
   "pygments_lexer": "ipython3",
   "version": "3.9.4"
  },
  "orig_nbformat": 4
 },
 "nbformat": 4,
 "nbformat_minor": 2
}
