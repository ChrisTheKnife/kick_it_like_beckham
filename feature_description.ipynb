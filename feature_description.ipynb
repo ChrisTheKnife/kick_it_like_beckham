{
 "cells": [
  {
   "cell_type": "markdown",
   "metadata": {},
   "source": [
    "## Original features\n",
    "| No | Feature Name | Description | Num of attributes | Tendency to <br>have NaNs | Data Type| Use in model? | Reason |\n",
    "|---|--------|------------|-------------------|---------------|-------|--------|------------|\n",
    "| 0 |  backers_count | Amount of people who have invested | |3786 non-null | int64 | (Feature) |The more backers, the more success|\n",
    "| 1 |  blurb         | Project description | |3786 non-null | object|FE Feature|Calculate len and use that as a feature|\n",
    "| 2 |  category      |            | |3786 non-null | object|Feature| FE out of dict|\n",
    "| 3 |  converted_pledged_amount|            | |3786 non-null | int64|Feature|Will cheap project be successful or \"expensive\" projects? Is it an Ideal Product Model/Idealpunktmodel|\n",
    "| 4 |  country     | country of project author| |3786 non-null | object|Feature| Different country different trust in projects?|\n",
    "| 5 |  created_at     |  Unix timestamp?| |3786 non-null | int64|FE Feature| Possibly the time between creation and launch may have an effect on success? |\n",
    "| 6 |  creator    | Name of campaign creator + profile | |3786 non-null | object|||\n",
    "| 7 |  currency |              | |3786 non-null |  object |Feature| USD projects more popular?|\n",
    "| 8 |  currency_symbol |        |  |3786 non-null |  object |||\n",
    "| 9 |  currency_trailing_code|  |  |3786 non-null |  bool   |||\n",
    "| 10 | current_currency|        |  |3786 non-null |  object |||\n",
    "| 11 | deadline|                |  |3786 non-null |  int64  |FE Feature| Maybe as 'month' to cover seasonality|\n",
    "| 12 | disable_communication| whether the project authors has disabled communication option with people donating to the project  |  |3786 non-null |  bool   |||\n",
    "| 13 | friends|                 |  |8 non-null    |  object |No|Few entries, which are empty lists|\n",
    "| 14 | fx_rate| Exchange rate   |  |3786 non-null |  float64|||\n",
    "| 15 | goal | fundraising goal - The funding goal is the amount of money that a creator needs to complete their project. |  |3786 non-null |  float64|||\n",
    "| 16 | id | internal kickstarter id |  |3786 non-null |  int64  |||\n",
    "| 17 | is_backing |             | NaN, False |8 non-null    |  object |||\n",
    "| 18 | is_starrable |           | True, False |3786 non-null |  bool   |||\n",
    "| 19 | is_starred |             | NaN, False |8 non-null    |  object |||\n",
    "| 20 | launched_at | Unix timestamp? |  |3786 non-null |  int64  |||\n",
    "| 21 | location | City where project is located |  |3779 non-null |  object |||\n",
    "| 22 | name | Project name      |  |3786 non-null |  object |||\n",
    "| 23 | permissions |  |  |8 non-null    |  object |No|Few entries, which are empty lists|\n",
    "| 24 | photo  |                 |  |3786 non-null |  object |||\n",
    "| 25 | pledged |amount pledged by \"crowd\" in origin currency|  |3786 non-null |  float64|||\n",
    "| 26 | profile| Contains a **different project ID?**|  |3786 non-null |  object |||\n",
    "| 27 | slug  | Project name without spaces|  |3786 non-null |  object |||\n",
    "| 28 | source_url|              |  |3786 non-null |  object |||\n",
    "| 29 | spotlight | Featured on spotlight when already successful funded | True, False  |3786 non-null |  bool   |||\n",
    "| 30 | staff_pick | Badge for projects which are featured by Kickstarter staff | True, False |3786 non-null |  bool  |Feature| Used in baseline model, featured project should get mire attention and trust|\n",
    "| 31 | state | Current condition the project is in |  |3786 non-null |  object |**YES** Target variable| Successful vs. Failed (+ Canceled)  |\n",
    "| 32 | state_changed_at |       |  |3786 non-null |  int64  |||\n",
    "| 33 | static_usd_rate |        |  |3786 non-null |  float64|||\n",
    "| 34 | urls |                   |  |3786 non-null |  object |||\n",
    "| 35 | usd_pledged | Pledged amount in USD |  |3786 non-null |  float64|||\n",
    "| 36 | usd_type |               | domestic, international |3776 non-null |  object |||"
   ]
  },
  {
   "cell_type": "markdown",
   "metadata": {},
   "source": [
    "## Extracted and engineered features\n",
    "| No | Feature Name | Description                     | Data Type| Use in model? | Reason|\n",
    "|----|--------------|---------------------------------|----------|---|-------------------|\n",
    "|27|dur_inactive|time from creation to launch in seconds|float64|||       \n",
    "|28|dur_until_state_changed|time from launch to state change in seconds|float64|||       \n",
    "|29|dur_active|time from creation to deadline|float64|||       \n",
    "|30|dur_ratio|dir_until_state_changed/dur_active|float64|||       \n",
    "|31|cat_name|category name|object|No|use main and/or subcategory instead|        \n",
    "|32|cat_slug|category slug|object|No|use main and or subcategory instead|        \n",
    "|33|loc_name|name of project location (usually, a city)|object|||        \n",
    "|34|loc_country|country of project (\"US\", \"AU\", etc.)|object|||        \n",
    "|35|loc_state|state (\"KY\" for Kentucky, etc.)|object|||        \n",
    "|36|loc_type|type of location (\"Town\", etc.)|object|||        \n",
    "|37|photo_thumb|link to project thumb|object|No|complicated|       \n",
    "|38|photo_large|link to large project photo|object|No|complicated|        \n",
    "|39|project_address|link to project website|object|No|would need to be scraped and analyzed|        \n",
    "|40|profile_photo|link to profile picture of creator|object|No|complicated|        \n",
    "|41|creator_name|name of creator|object|No?||        \n",
    "|42|creator_id|id of creator|int64|No?||         \n",
    "|43|creator_thumb|link to creator thumb|object|No|complicated|        \n",
    "|44|creator_address|link to creator profile|object|No|complicated|        \n",
    "|45|main_category|description of main category|object|||        \n",
    "|46|sub_category|description of sub-category (in rare cases only == '--')|object|||       \n",
    "|47|state_bool|numeric encoding of target labels (1 = success, 0 = failure)|float64|No|target column|       \n",
    "|48|baseline|prediction of baseline model|int64|||\n"
   ]
  },
  {
   "cell_type": "markdown",
   "metadata": {},
   "source": [
    "#### Exploration of Kickstarter Data (2010-2017)\n",
    "\n",
    "* ID: internal kickstarter id\n",
    "* name: name of project - A project is a finite work with a clear goal that you’d like to bring to life. Think albums, books, or films.\n",
    "* category: category\n",
    "* main_category: category of campaign\n",
    "* currency: currency used to support\n",
    "* deadline: deadline for crowdfunding\n",
    "* goal: fundraising goal - The funding goal is the amount of money that a creator needs to complete their project.\n",
    "* launched: date launched\n",
    "* pledged: amount pledged by \"crowd\"\n",
    "* state: Current condition the project is in\n",
    "* backers: number of backers\n",
    "* country: country pledged from\n",
    "* usd pledged: Pledged amount in USD (conversion made by KS)\n",
    "* usd_pledged_real: Pledged amount in USD (conversion made by fixer.io api)\n",
    "* usd_goal_real: Goal amount in USD (conversion made by fixer.io api)\n",
    "\n",
    "Source: https://www.kaggle.com/code/carlolepelaars/exploration-of-kickstarter-data-2010-2017/notebook"
   ]
  },
  {
   "cell_type": "markdown",
   "metadata": {},
   "source": []
  },
  {
   "cell_type": "markdown",
   "metadata": {},
   "source": [
    "#### Kickstarter success - Predict whether or not a Kickstarter campaign will reach its goal\n",
    "\n",
    "* project_id: unique id of project\n",
    "* name: name of the project\n",
    "* desc: description of project\n",
    "* goal: the goal (amount) required for the project\n",
    "* keywords: keywords which describe project\n",
    "* disable_communication: whether the project authors has disabled communication option with people donating to the project\n",
    "* country: country of project author\n",
    "* currency: currency in which goal (amount) is required\n",
    "* deadline: till this date the goal must be achieved (in unix timeformat)\n",
    "* state_changed_at: at this time the project status changed. Status could be successful, failed, suspended, cancelled etc. (in unix timeformat)\n",
    "* created_at: at this time the project was posted on the website(in unix timeformat)\n",
    "* launched_at: at this time the project went live on the website(in unix timeformat)\n",
    "* backers_count: number of people who backed the project\n",
    "* final_status: whether the project got successfully funded (target variable – 1,0)\n",
    "\n",
    "source: https://www.kaggle.com/competitions/kickstarter-success/data"
   ]
  },
  {
   "cell_type": "markdown",
   "metadata": {},
   "source": []
  }
 ],
 "metadata": {
  "language_info": {
   "name": "python"
  },
  "orig_nbformat": 4
 },
 "nbformat": 4,
 "nbformat_minor": 2
}
