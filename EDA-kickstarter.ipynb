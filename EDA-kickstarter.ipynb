{
 "cells": [
  {
   "cell_type": "code",
   "execution_count": 1,
   "metadata": {},
   "outputs": [],
   "source": [
    "import pandas as pd\n",
    "import numpy as np\n",
    "from datetime import datetime\n",
    "import seaborn as sns\n",
    "# show all columns when displaying a data frame\n",
    "pd.set_option('display.max_columns', None)"
   ]
  },
  {
   "cell_type": "code",
   "execution_count": 2,
   "metadata": {},
   "outputs": [
    {
     "name": "stdout",
     "output_type": "stream",
     "text": [
      "Total rows: 209222 Total unique ids: 182264\n"
     ]
    }
   ],
   "source": [
    "# do the different csv files contain the same projects at different times?\n",
    "n_csv = 55\n",
    "\n",
    "# load all csvs, extract project ids and add them to a set\n",
    "id_set = set()\n",
    "rows = 0\n",
    "for i in range(n_csv+1):\n",
    "    file_str = 'data/Kickstarter{0:03d}.csv'.format(i)\n",
    "    df = pd.read_csv(file_str)\n",
    "    # add all unique ids to set\n",
    "    ids = df.id.unique()\n",
    "    id_set.update(ids)\n",
    "    rows += len(df)\n",
    "\n",
    "print(f'Total rows: {rows} Total unique ids: {len(id_set)}')\n",
    "# we can see that there are many unique ids, but also some duplicates\n",
    "\n"
   ]
  },
  {
   "cell_type": "code",
   "execution_count": 3,
   "metadata": {},
   "outputs": [
    {
     "name": "stdout",
     "output_type": "stream",
     "text": [
      "20\n"
     ]
    }
   ],
   "source": [
    "# what do instances with the same id have in common (if anything?)\n",
    "# let's investigate one example to get a feeling for it\n",
    "df1 = pd.read_csv('data/Kickstarter000.csv')\n",
    "df2 = pd.read_csv('data/Kickstarter034.csv')\n",
    "common_ids = np.intersect1d(df1.id.unique(), df2.id.unique())\n",
    "print(len(common_ids))"
   ]
  },
  {
   "cell_type": "code",
   "execution_count": 4,
   "metadata": {},
   "outputs": [
    {
     "name": "stdout",
     "output_type": "stream",
     "text": [
      "Common id:  96042953\n"
     ]
    }
   ],
   "source": [
    "# lets inspect one arbitrary example \n",
    "id = next(iter(common_ids))\n",
    "print('Common id: ', id)"
   ]
  },
  {
   "cell_type": "code",
   "execution_count": 5,
   "metadata": {},
   "outputs": [
    {
     "data": {
      "text/html": [
       "<div>\n",
       "<style scoped>\n",
       "    .dataframe tbody tr th:only-of-type {\n",
       "        vertical-align: middle;\n",
       "    }\n",
       "\n",
       "    .dataframe tbody tr th {\n",
       "        vertical-align: top;\n",
       "    }\n",
       "\n",
       "    .dataframe thead th {\n",
       "        text-align: right;\n",
       "    }\n",
       "</style>\n",
       "<table border=\"1\" class=\"dataframe\">\n",
       "  <thead>\n",
       "    <tr style=\"text-align: right;\">\n",
       "      <th></th>\n",
       "      <th>backers_count</th>\n",
       "      <th>blurb</th>\n",
       "      <th>category</th>\n",
       "      <th>converted_pledged_amount</th>\n",
       "      <th>country</th>\n",
       "      <th>created_at</th>\n",
       "      <th>creator</th>\n",
       "      <th>currency</th>\n",
       "      <th>currency_symbol</th>\n",
       "      <th>currency_trailing_code</th>\n",
       "      <th>current_currency</th>\n",
       "      <th>deadline</th>\n",
       "      <th>disable_communication</th>\n",
       "      <th>friends</th>\n",
       "      <th>fx_rate</th>\n",
       "      <th>goal</th>\n",
       "      <th>id</th>\n",
       "      <th>is_backing</th>\n",
       "      <th>is_starrable</th>\n",
       "      <th>is_starred</th>\n",
       "      <th>launched_at</th>\n",
       "      <th>location</th>\n",
       "      <th>name</th>\n",
       "      <th>permissions</th>\n",
       "      <th>photo</th>\n",
       "      <th>pledged</th>\n",
       "      <th>profile</th>\n",
       "      <th>slug</th>\n",
       "      <th>source_url</th>\n",
       "      <th>spotlight</th>\n",
       "      <th>staff_pick</th>\n",
       "      <th>state</th>\n",
       "      <th>state_changed_at</th>\n",
       "      <th>static_usd_rate</th>\n",
       "      <th>urls</th>\n",
       "      <th>usd_pledged</th>\n",
       "      <th>usd_type</th>\n",
       "    </tr>\n",
       "  </thead>\n",
       "  <tbody>\n",
       "    <tr>\n",
       "      <th>1080</th>\n",
       "      <td>141</td>\n",
       "      <td>Handmade candles inspired by video games, movi...</td>\n",
       "      <td>{\"id\":343,\"name\":\"Candles\",\"slug\":\"crafts/cand...</td>\n",
       "      <td>5154</td>\n",
       "      <td>US</td>\n",
       "      <td>1369331259</td>\n",
       "      <td>{\"id\":1943888066,\"name\":\"Tom Lubanovic\",\"slug\"...</td>\n",
       "      <td>USD</td>\n",
       "      <td>$</td>\n",
       "      <td>True</td>\n",
       "      <td>USD</td>\n",
       "      <td>1375927200</td>\n",
       "      <td>False</td>\n",
       "      <td>NaN</td>\n",
       "      <td>1.0</td>\n",
       "      <td>5000.0</td>\n",
       "      <td>96042953</td>\n",
       "      <td>NaN</td>\n",
       "      <td>False</td>\n",
       "      <td>NaN</td>\n",
       "      <td>1373292411</td>\n",
       "      <td>{\"id\":2452078,\"name\":\"Minneapolis\",\"slug\":\"min...</td>\n",
       "      <td>Nerdy Candles: For Nerds</td>\n",
       "      <td>NaN</td>\n",
       "      <td>{\"key\":\"assets/011/527/644/14d1f31dc9058105a2b...</td>\n",
       "      <td>5154.0</td>\n",
       "      <td>{\"id\":579924,\"project_id\":579924,\"state\":\"inac...</td>\n",
       "      <td>nerdy-candles-for-nerds</td>\n",
       "      <td>https://www.kickstarter.com/discover/categorie...</td>\n",
       "      <td>True</td>\n",
       "      <td>False</td>\n",
       "      <td>successful</td>\n",
       "      <td>1375927234</td>\n",
       "      <td>1.0</td>\n",
       "      <td>{\"web\":{\"project\":\"https://www.kickstarter.com...</td>\n",
       "      <td>5154.0</td>\n",
       "      <td>international</td>\n",
       "    </tr>\n",
       "  </tbody>\n",
       "</table>\n",
       "</div>"
      ],
      "text/plain": [
       "      backers_count                                              blurb  \\\n",
       "1080            141  Handmade candles inspired by video games, movi...   \n",
       "\n",
       "                                               category  \\\n",
       "1080  {\"id\":343,\"name\":\"Candles\",\"slug\":\"crafts/cand...   \n",
       "\n",
       "      converted_pledged_amount country  created_at  \\\n",
       "1080                      5154      US  1369331259   \n",
       "\n",
       "                                                creator currency  \\\n",
       "1080  {\"id\":1943888066,\"name\":\"Tom Lubanovic\",\"slug\"...      USD   \n",
       "\n",
       "     currency_symbol  currency_trailing_code current_currency    deadline  \\\n",
       "1080               $                    True              USD  1375927200   \n",
       "\n",
       "      disable_communication friends  fx_rate    goal        id is_backing  \\\n",
       "1080                  False     NaN      1.0  5000.0  96042953        NaN   \n",
       "\n",
       "      is_starrable is_starred  launched_at  \\\n",
       "1080         False        NaN   1373292411   \n",
       "\n",
       "                                               location  \\\n",
       "1080  {\"id\":2452078,\"name\":\"Minneapolis\",\"slug\":\"min...   \n",
       "\n",
       "                          name permissions  \\\n",
       "1080  Nerdy Candles: For Nerds         NaN   \n",
       "\n",
       "                                                  photo  pledged  \\\n",
       "1080  {\"key\":\"assets/011/527/644/14d1f31dc9058105a2b...   5154.0   \n",
       "\n",
       "                                                profile  \\\n",
       "1080  {\"id\":579924,\"project_id\":579924,\"state\":\"inac...   \n",
       "\n",
       "                         slug  \\\n",
       "1080  nerdy-candles-for-nerds   \n",
       "\n",
       "                                             source_url  spotlight  \\\n",
       "1080  https://www.kickstarter.com/discover/categorie...       True   \n",
       "\n",
       "      staff_pick       state  state_changed_at  static_usd_rate  \\\n",
       "1080       False  successful        1375927234              1.0   \n",
       "\n",
       "                                                   urls  usd_pledged  \\\n",
       "1080  {\"web\":{\"project\":\"https://www.kickstarter.com...       5154.0   \n",
       "\n",
       "           usd_type  \n",
       "1080  international  "
      ]
     },
     "execution_count": 5,
     "metadata": {},
     "output_type": "execute_result"
    }
   ],
   "source": [
    "df1.query('id == @id')"
   ]
  },
  {
   "cell_type": "code",
   "execution_count": 6,
   "metadata": {},
   "outputs": [
    {
     "data": {
      "text/html": [
       "<div>\n",
       "<style scoped>\n",
       "    .dataframe tbody tr th:only-of-type {\n",
       "        vertical-align: middle;\n",
       "    }\n",
       "\n",
       "    .dataframe tbody tr th {\n",
       "        vertical-align: top;\n",
       "    }\n",
       "\n",
       "    .dataframe thead th {\n",
       "        text-align: right;\n",
       "    }\n",
       "</style>\n",
       "<table border=\"1\" class=\"dataframe\">\n",
       "  <thead>\n",
       "    <tr style=\"text-align: right;\">\n",
       "      <th></th>\n",
       "      <th>backers_count</th>\n",
       "      <th>blurb</th>\n",
       "      <th>category</th>\n",
       "      <th>converted_pledged_amount</th>\n",
       "      <th>country</th>\n",
       "      <th>created_at</th>\n",
       "      <th>creator</th>\n",
       "      <th>currency</th>\n",
       "      <th>currency_symbol</th>\n",
       "      <th>currency_trailing_code</th>\n",
       "      <th>current_currency</th>\n",
       "      <th>deadline</th>\n",
       "      <th>disable_communication</th>\n",
       "      <th>friends</th>\n",
       "      <th>fx_rate</th>\n",
       "      <th>goal</th>\n",
       "      <th>id</th>\n",
       "      <th>is_backing</th>\n",
       "      <th>is_starrable</th>\n",
       "      <th>is_starred</th>\n",
       "      <th>launched_at</th>\n",
       "      <th>location</th>\n",
       "      <th>name</th>\n",
       "      <th>permissions</th>\n",
       "      <th>photo</th>\n",
       "      <th>pledged</th>\n",
       "      <th>profile</th>\n",
       "      <th>slug</th>\n",
       "      <th>source_url</th>\n",
       "      <th>spotlight</th>\n",
       "      <th>staff_pick</th>\n",
       "      <th>state</th>\n",
       "      <th>state_changed_at</th>\n",
       "      <th>static_usd_rate</th>\n",
       "      <th>urls</th>\n",
       "      <th>usd_pledged</th>\n",
       "      <th>usd_type</th>\n",
       "    </tr>\n",
       "  </thead>\n",
       "  <tbody>\n",
       "    <tr>\n",
       "      <th>664</th>\n",
       "      <td>141</td>\n",
       "      <td>Handmade candles inspired by video games, movi...</td>\n",
       "      <td>{\"id\":343,\"name\":\"Candles\",\"slug\":\"crafts/cand...</td>\n",
       "      <td>5154</td>\n",
       "      <td>US</td>\n",
       "      <td>1369331259</td>\n",
       "      <td>{\"id\":1943888066,\"name\":\"Tom Lubanovic\",\"slug\"...</td>\n",
       "      <td>USD</td>\n",
       "      <td>$</td>\n",
       "      <td>True</td>\n",
       "      <td>USD</td>\n",
       "      <td>1375927200</td>\n",
       "      <td>False</td>\n",
       "      <td>NaN</td>\n",
       "      <td>1.0</td>\n",
       "      <td>5000.0</td>\n",
       "      <td>96042953</td>\n",
       "      <td>NaN</td>\n",
       "      <td>False</td>\n",
       "      <td>NaN</td>\n",
       "      <td>1373292411</td>\n",
       "      <td>{\"id\":2452078,\"name\":\"Minneapolis\",\"slug\":\"min...</td>\n",
       "      <td>Nerdy Candles: For Nerds</td>\n",
       "      <td>NaN</td>\n",
       "      <td>{\"key\":\"assets/011/527/644/14d1f31dc9058105a2b...</td>\n",
       "      <td>5154.0</td>\n",
       "      <td>{\"id\":579924,\"project_id\":579924,\"state\":\"inac...</td>\n",
       "      <td>nerdy-candles-for-nerds</td>\n",
       "      <td>https://www.kickstarter.com/discover/categorie...</td>\n",
       "      <td>True</td>\n",
       "      <td>False</td>\n",
       "      <td>successful</td>\n",
       "      <td>1375927234</td>\n",
       "      <td>1.0</td>\n",
       "      <td>{\"web\":{\"project\":\"https://www.kickstarter.com...</td>\n",
       "      <td>5154.0</td>\n",
       "      <td>domestic</td>\n",
       "    </tr>\n",
       "  </tbody>\n",
       "</table>\n",
       "</div>"
      ],
      "text/plain": [
       "     backers_count                                              blurb  \\\n",
       "664            141  Handmade candles inspired by video games, movi...   \n",
       "\n",
       "                                              category  \\\n",
       "664  {\"id\":343,\"name\":\"Candles\",\"slug\":\"crafts/cand...   \n",
       "\n",
       "     converted_pledged_amount country  created_at  \\\n",
       "664                      5154      US  1369331259   \n",
       "\n",
       "                                               creator currency  \\\n",
       "664  {\"id\":1943888066,\"name\":\"Tom Lubanovic\",\"slug\"...      USD   \n",
       "\n",
       "    currency_symbol  currency_trailing_code current_currency    deadline  \\\n",
       "664               $                    True              USD  1375927200   \n",
       "\n",
       "     disable_communication  friends  fx_rate    goal        id  is_backing  \\\n",
       "664                  False      NaN      1.0  5000.0  96042953         NaN   \n",
       "\n",
       "     is_starrable  is_starred  launched_at  \\\n",
       "664         False         NaN   1373292411   \n",
       "\n",
       "                                              location  \\\n",
       "664  {\"id\":2452078,\"name\":\"Minneapolis\",\"slug\":\"min...   \n",
       "\n",
       "                         name  permissions  \\\n",
       "664  Nerdy Candles: For Nerds          NaN   \n",
       "\n",
       "                                                 photo  pledged  \\\n",
       "664  {\"key\":\"assets/011/527/644/14d1f31dc9058105a2b...   5154.0   \n",
       "\n",
       "                                               profile  \\\n",
       "664  {\"id\":579924,\"project_id\":579924,\"state\":\"inac...   \n",
       "\n",
       "                        slug  \\\n",
       "664  nerdy-candles-for-nerds   \n",
       "\n",
       "                                            source_url  spotlight  staff_pick  \\\n",
       "664  https://www.kickstarter.com/discover/categorie...       True       False   \n",
       "\n",
       "          state  state_changed_at  static_usd_rate  \\\n",
       "664  successful        1375927234              1.0   \n",
       "\n",
       "                                                  urls  usd_pledged  usd_type  \n",
       "664  {\"web\":{\"project\":\"https://www.kickstarter.com...       5154.0  domestic  "
      ]
     },
     "execution_count": 6,
     "metadata": {},
     "output_type": "execute_result"
    }
   ],
   "source": [
    "df2.query('id == @id')"
   ]
  },
  {
   "cell_type": "code",
   "execution_count": 7,
   "metadata": {},
   "outputs": [
    {
     "name": "stdout",
     "output_type": "stream",
     "text": [
      "Total rows (unique project ids):  182264\n"
     ]
    }
   ],
   "source": [
    "# combine all data to one big frame with some adjustments\n",
    "\n",
    "n_csv = 55\n",
    "frame_all = pd.read_csv('data/Kickstarter000.csv')\n",
    "\n",
    "# load all remaining csvs and concat data\n",
    "for i in range(1, n_csv+1):\n",
    "    file_str = 'data/Kickstarter{0:03d}.csv'.format(i)\n",
    "    df = pd.read_csv(file_str)\n",
    "    frame_all = pd.concat([frame_all, df])\n",
    "\n",
    "# change time related columns from UNIX epoch to datetime \n",
    "for col in ['created_at', 'launched_at', 'state_changed_at', 'deadline']:\n",
    "    frame_all[col] = frame_all[col].apply(lambda s: datetime.utcfromtimestamp(s).strftime('%Y-%m-%d %H:%M:%S'))\n",
    "\n",
    "# remove duplicate (having the same id) entries \n",
    "frame_all.drop_duplicates(subset='id', inplace=True)\n",
    "\n",
    "# extract category name (\"Fine Art\") and slug (\"photography/fine art\") from category column as new features\n",
    "frame_all['cat_name'] = frame_all.category.apply(lambda s: s.split('\"name\":\"')[1].split('\"')[0])\n",
    "frame_all['cat_slug'] = frame_all.category.apply(lambda s: s.split('\"slug\":\"')[1].split('\"')[0])\n",
    "\n",
    "# extract name (\"New York\") of location, country (\"AU\"), state (\"KY\") and type (\"Town\")\n",
    "frame_all['loc_name'] = frame_all.location.apply(lambda s: s if s is np.NaN else s.split('\"name\":\"')[1].split('\"')[0])\n",
    "frame_all['loc_country'] = frame_all.location.apply(lambda s: s if s is np.NaN else s.split('\"country\":\"')[1].split('\"')[0])\n",
    "frame_all['loc_state'] = frame_all.location.apply(lambda s: np.NaN if (s is np.NaN) or (len(s.split('\"state\":\"')) == 1) else s.split('\"state\":\"')[1].split('\"')[0])\n",
    "frame_all['loc_type'] = frame_all.location.apply(lambda s: s if s is np.NaN else s.split('\"type\":\"')[1].split('\"')[0])\n",
    "\n",
    "# extract link to thumbnail photo\n",
    "frame_all['photo_thumb'] = frame_all.photo.apply(lambda s: s.split('\"thumb\":\"')[1].split('\"')[0])\n",
    "# extract link to large version of project photo\n",
    "frame_all['photo_large'] = frame_all.photo.apply(lambda s: s.split('\"1536x864\":\"')[1].split('\"')[0])\n",
    "\n",
    "# extract link to project website\n",
    "frame_all['project_address'] = frame_all.urls.apply(lambda s: s.split('\"project\":\"')[1].split('\"')[0])\n",
    "\n",
    "# extract link to profile photo \n",
    "frame_all['profile_photo'] = frame_all.profile.apply(lambda s: s.split('\"default\":\"')[1].split('\"')[0])\n",
    "\n",
    "# extract id, name, profile website and thumbnail for the creator\n",
    "frame_all['creator_name'] = frame_all.creator.apply(lambda s: s.split('\"name\":\"')[1].split('\"')[0])\n",
    "frame_all['creator_id'] = frame_all.creator.apply(lambda s: int(s.split('\"id\":')[1].split(',')[0]))\n",
    "frame_all['creator_thumb'] = frame_all.creator.apply(lambda s: s.split('\"thumb\":\"')[1].split('\"')[0])\n",
    "frame_all['creator_address'] = frame_all.creator.apply(lambda s: s.split('\"web\":{\"user\":\"')[1].split('\"')[0])\n",
    "\n",
    "print('Total rows (unique project ids): ', len(frame_all))\n",
    "frame_all.to_csv('data/Kickstarter_full.csv')"
   ]
  },
  {
   "cell_type": "code",
   "execution_count": 8,
   "metadata": {},
   "outputs": [
    {
     "data": {
      "text/plain": [
       "'{\"id\":43,\"name\":\"Rock\",\"slug\":\"music/rock\",\"position\":17,\"parent_id\":14,\"color\":10878931,\"urls\":{\"web\":{\"discover\":\"http://www.kickstarter.com/discover/categories/music/rock\"}}}'"
      ]
     },
     "execution_count": 8,
     "metadata": {},
     "output_type": "execute_result"
    }
   ],
   "source": [
    "frame_all.category.iloc[100]"
   ]
  },
  {
   "cell_type": "code",
   "execution_count": 9,
   "metadata": {},
   "outputs": [
    {
     "data": {
      "text/plain": [
       "'{\"id\":1812906513,\"name\":\"Troy Thompson\",\"is_registered\":null,\"chosen_currency\":null,\"avatar\":{\"thumb\":\"https://ksr-ugc.imgix.net/assets/007/456/270/769d061001c839f8f156f3c30ce6237e_original.jpg?ixlib=rb-1.1.0&w=40&h=40&fit=crop&v=1461458457&auto=format&frame=1&q=92&s=146204205844db078b3e1e4ee98aa834\",\"small\":\"https://ksr-ugc.imgix.net/assets/007/456/270/769d061001c839f8f156f3c30ce6237e_original.jpg?ixlib=rb-1.1.0&w=160&h=160&fit=crop&v=1461458457&auto=format&frame=1&q=92&s=ec43bc91168ef05f1323cb2873a1031a\",\"medium\":\"https://ksr-ugc.imgix.net/assets/007/456/270/769d061001c839f8f156f3c30ce6237e_original.jpg?ixlib=rb-1.1.0&w=160&h=160&fit=crop&v=1461458457&auto=format&frame=1&q=92&s=ec43bc91168ef05f1323cb2873a1031a\"},\"urls\":{\"web\":{\"user\":\"https://www.kickstarter.com/profile/1812906513\"},\"api\":{\"user\":\"https://api.kickstarter.com/v1/users/1812906513?signature=1552621516.d5e652f880023d09e2129f8e92bd64d1d9e9d7c9\"}}}'"
      ]
     },
     "execution_count": 9,
     "metadata": {},
     "output_type": "execute_result"
    }
   ],
   "source": [
    "frame_all.creator.iloc[100]"
   ]
  },
  {
   "cell_type": "code",
   "execution_count": 10,
   "metadata": {},
   "outputs": [
    {
     "data": {
      "text/plain": [
       "'{\"id\":1099969,\"name\":\"Armidale\",\"slug\":\"armidale-au\",\"short_name\":\"Armidale, AU\",\"displayable_name\":\"Armidale, AU\",\"localized_name\":\"Armidale\",\"country\":\"AU\",\"state\":\"NSW\",\"type\":\"Town\",\"is_root\":false,\"urls\":{\"web\":{\"discover\":\"https://www.kickstarter.com/discover/places/armidale-au\",\"location\":\"https://www.kickstarter.com/locations/armidale-au\"},\"api\":{\"nearby_projects\":\"https://api.kickstarter.com/v1/discover?signature=1552595810.36e039761481e564b995235f50ec5a8c5f885c7c&woe_id=1099969\"}}}'"
      ]
     },
     "execution_count": 10,
     "metadata": {},
     "output_type": "execute_result"
    }
   ],
   "source": [
    "frame_all.location.iloc[230]"
   ]
  },
  {
   "cell_type": "code",
   "execution_count": 11,
   "metadata": {},
   "outputs": [
    {
     "data": {
      "text/plain": [
       "'{\"key\":\"assets/011/505/718/7167717c301d374da3755cf592b2405f_original.jpg\",\"full\":\"https://ksr-ugc.imgix.net/assets/011/505/718/7167717c301d374da3755cf592b2405f_original.jpg?ixlib=rb-1.1.0&crop=faces&w=560&h=315&fit=crop&v=1463683719&auto=format&frame=1&q=92&s=0dababce6e036dcf9d3cc9f8c42a0ec8\",\"ed\":\"https://ksr-ugc.imgix.net/assets/011/505/718/7167717c301d374da3755cf592b2405f_original.jpg?ixlib=rb-1.1.0&crop=faces&w=352&h=198&fit=crop&v=1463683719&auto=format&frame=1&q=92&s=220206cf65c4fcd11f49b438a08d230e\",\"med\":\"https://ksr-ugc.imgix.net/assets/011/505/718/7167717c301d374da3755cf592b2405f_original.jpg?ixlib=rb-1.1.0&crop=faces&w=272&h=153&fit=crop&v=1463683719&auto=format&frame=1&q=92&s=b89fdd74e0c7647b3b3bcad6a72859ba\",\"little\":\"https://ksr-ugc.imgix.net/assets/011/505/718/7167717c301d374da3755cf592b2405f_original.jpg?ixlib=rb-1.1.0&crop=faces&w=208&h=117&fit=crop&v=1463683719&auto=format&frame=1&q=92&s=e93a988571857086007544330afd95f3\",\"small\":\"https://ksr-ugc.imgix.net/assets/011/505/718/7167717c301d374da3755cf592b2405f_original.jpg?ixlib=rb-1.1.0&crop=faces&w=160&h=90&fit=crop&v=1463683719&auto=format&frame=1&q=92&s=d42ddef0781a476daa8ca7bcdfee30fb\",\"thumb\":\"https://ksr-ugc.imgix.net/assets/011/505/718/7167717c301d374da3755cf592b2405f_original.jpg?ixlib=rb-1.1.0&crop=faces&w=48&h=27&fit=crop&v=1463683719&auto=format&frame=1&q=92&s=654501b8ae6d88a84bee5f02c9562a33\",\"1024x576\":\"https://ksr-ugc.imgix.net/assets/011/505/718/7167717c301d374da3755cf592b2405f_original.jpg?ixlib=rb-1.1.0&crop=faces&w=1024&h=576&fit=crop&v=1463683719&auto=format&frame=1&q=92&s=019351ca31fa3e35e10057a671aa0cf1\",\"1536x864\":\"https://ksr-ugc.imgix.net/assets/011/505/718/7167717c301d374da3755cf592b2405f_original.jpg?ixlib=rb-1.1.0&crop=faces&w=1552&h=873&fit=crop&v=1463683719&auto=format&frame=1&q=92&s=ee0854261b62f1752a511dfb0e86c4d4\"}'"
      ]
     },
     "execution_count": 11,
     "metadata": {},
     "output_type": "execute_result"
    }
   ],
   "source": [
    "frame_all.photo.iloc[100]"
   ]
  },
  {
   "cell_type": "code",
   "execution_count": 12,
   "metadata": {},
   "outputs": [],
   "source": [
    "test = eval(frame_all.photo.iloc[100])"
   ]
  },
  {
   "cell_type": "code",
   "execution_count": 13,
   "metadata": {},
   "outputs": [
    {
     "data": {
      "text/plain": [
       "'{\"id\":529007,\"project_id\":529007,\"state\":\"inactive\",\"state_changed_at\":1425915829,\"name\":null,\"blurb\":null,\"background_color\":null,\"text_color\":null,\"link_background_color\":null,\"link_text_color\":null,\"link_text\":null,\"link_url\":null,\"show_feature_image\":false,\"background_image_opacity\":0.8,\"should_show_feature_image_section\":true,\"feature_image_attributes\":{\"image_urls\":{\"default\":\"https://ksr-ugc.imgix.net/assets/011/505/718/7167717c301d374da3755cf592b2405f_original.jpg?ixlib=rb-1.1.0&crop=faces&w=1552&h=873&fit=crop&v=1463683719&auto=format&frame=1&q=92&s=ee0854261b62f1752a511dfb0e86c4d4\",\"baseball_card\":\"https://ksr-ugc.imgix.net/assets/011/505/718/7167717c301d374da3755cf592b2405f_original.jpg?ixlib=rb-1.1.0&crop=faces&w=560&h=315&fit=crop&v=1463683719&auto=format&frame=1&q=92&s=0dababce6e036dcf9d3cc9f8c42a0ec8\"}}}'"
      ]
     },
     "execution_count": 13,
     "metadata": {},
     "output_type": "execute_result"
    }
   ],
   "source": [
    "frame_all.profile.iloc[100]"
   ]
  },
  {
   "cell_type": "code",
   "execution_count": 14,
   "metadata": {},
   "outputs": [
    {
     "data": {
      "text/plain": [
       "'Bride is a Christian Rock band that has been recording, playing live shows for over 25 years and has won 4 Dove awards.'"
      ]
     },
     "execution_count": 14,
     "metadata": {},
     "output_type": "execute_result"
    }
   ],
   "source": [
    "frame_all.blurb.iloc[100]"
   ]
  },
  {
   "cell_type": "code",
   "execution_count": 15,
   "metadata": {},
   "outputs": [
    {
     "data": {
      "text/plain": [
       "'{\"web\":{\"project\":\"https://www.kickstarter.com/projects/1812906513/the-christian-rock-band-bride-is-recording-their-n?ref=discovery_category_newest\",\"rewards\":\"https://www.kickstarter.com/projects/1812906513/the-christian-rock-band-bride-is-recording-their-n/rewards\"}}'"
      ]
     },
     "execution_count": 15,
     "metadata": {},
     "output_type": "execute_result"
    }
   ],
   "source": [
    "frame_all.urls.iloc[100]"
   ]
  },
  {
   "cell_type": "code",
   "execution_count": 16,
   "metadata": {},
   "outputs": [
    {
     "data": {
      "text/plain": [
       "0                  Rock\n",
       "1           Mixed Media\n",
       "2            Photobooks\n",
       "3              Footwear\n",
       "4              Software\n",
       "             ...       \n",
       "958    Children's Books\n",
       "959             Fantasy\n",
       "961           Cookbooks\n",
       "962       Childrenswear\n",
       "963    Children's Books\n",
       "Name: cat_name, Length: 182264, dtype: object"
      ]
     },
     "execution_count": 16,
     "metadata": {},
     "output_type": "execute_result"
    }
   ],
   "source": [
    "frame_all.cat_name"
   ]
  },
  {
   "cell_type": "code",
   "execution_count": 18,
   "metadata": {},
   "outputs": [
    {
     "name": "stdout",
     "output_type": "stream",
     "text": [
      "Number of unique categories:  159\n"
     ]
    }
   ],
   "source": [
    "print('Number of unique categories: ', frame_all.cat_name.nunique())"
   ]
  },
  {
   "cell_type": "code",
   "execution_count": 19,
   "metadata": {},
   "outputs": [
    {
     "data": {
      "text/plain": [
       "<AxesSubplot:xlabel='cat_name', ylabel='count'>"
      ]
     },
     "execution_count": 19,
     "metadata": {},
     "output_type": "execute_result"
    },
    {
     "data": {
      "image/png": "[encoded data removed]",
      "text/plain": [
       "<Figure size 432x288 with 1 Axes>"
      ]
     },
     "metadata": {
      "needs_background": "light"
     },
     "output_type": "display_data"
    }
   ],
   "source": [
    "sns.countplot(data=frame_all, x='cat_name', hue='state')"
   ]
  },
  {
   "cell_type": "code",
   "execution_count": null,
   "metadata": {},
   "outputs": [],
   "source": [
    "frame_all"
   ]
  },
  {
   "cell_type": "code",
   "execution_count": null,
   "metadata": {},
   "outputs": [],
   "source": [
    "for i in range(len(frame_all)):\n",
    "    try:\n",
    "        frame_all.location.iloc[i].split('\"state\":\"')[1].split('\"')[0]\n",
    "    except:\n",
    "        print(i)"
   ]
  },
  {
   "cell_type": "code",
   "execution_count": null,
   "metadata": {},
   "outputs": [],
   "source": [
    "frame_all.location.iloc[736] "
   ]
  },
  {
   "cell_type": "code",
   "execution_count": null,
   "metadata": {},
   "outputs": [],
   "source": [
    "frame_all.category.iloc[100].split('\"name\":\"')[1].split('\"')[0]"
   ]
  },
  {
   "cell_type": "code",
   "execution_count": null,
   "metadata": {},
   "outputs": [],
   "source": [
    "frame_all.info()"
   ]
  },
  {
   "cell_type": "code",
   "execution_count": null,
   "metadata": {},
   "outputs": [],
   "source": [
    "frame_all.photo.iloc[100]"
   ]
  },
  {
   "cell_type": "code",
   "execution_count": null,
   "metadata": {},
   "outputs": [],
   "source": [
    "frame_all.creator.iloc[100]"
   ]
  },
  {
   "cell_type": "code",
   "execution_count": null,
   "metadata": {},
   "outputs": [],
   "source": []
  }
 ],
 "metadata": {
  "interpreter": {
   "hash": "1a82898d3f503c1e2e9b4dff319af7b4ab4f34b16327799ca293100781c08b39"
  },
  "kernelspec": {
   "display_name": "Python 3.9.4 ('.venv': venv)",
   "language": "python",
   "name": "python3"
  },
  "language_info": {
   "codemirror_mode": {
    "name": "ipython",
    "version": 3
   },
   "file_extension": ".py",
   "mimetype": "text/x-python",
   "name": "python",
   "nbconvert_exporter": "python",
   "pygments_lexer": "ipython3",
   "version": "3.9.4"
  },
  "orig_nbformat": 4
 },
 "nbformat": 4,
 "nbformat_minor": 2
}
