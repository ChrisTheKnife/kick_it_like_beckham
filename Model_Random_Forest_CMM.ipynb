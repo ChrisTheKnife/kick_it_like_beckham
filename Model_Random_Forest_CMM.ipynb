{
 "cells": [
  {
   "cell_type": "code",
   "execution_count": 361,
   "metadata": {},
   "outputs": [],
   "source": [
    "import pandas as pd\n",
    "import numpy as np\n",
    "from datetime import datetime, timedelta\n",
    "import seaborn as sns\n",
    "import matplotlib.pyplot as plt\n",
    "from sklearn.metrics import accuracy_score\n",
    "from sklearn.model_selection import train_test_split\n",
    "from sklearn.ensemble import RandomForestClassifier\n",
    "# show all columns when displaying a data frame\n",
    "pd.set_option('display.max_columns', None)\n",
    "pd.set_option('display.max_rows', None)"
   ]
  },
  {
   "cell_type": "markdown",
   "metadata": {},
   "source": [
    "# Data Preeprocessing"
   ]
  },
  {
   "cell_type": "code",
   "execution_count": 362,
   "metadata": {},
   "outputs": [],
   "source": [
    "dtypes = {'country':'category', 'cat_name':'category', 'cat_slug':'category', 'loc_name':'category', \n",
    "'loc_country':'category', 'loc_state':'category', 'loc_type':'category', 'main_category':'category', \n",
    "'sub_category':'category', 'goal_categorical':'category', 'currency':'category', 'usd_type':'category'}\n",
    "frame_all = pd.read_csv('data/Kickstarter_full.csv', index_col=0, parse_dates=['created_at', 'launched_at', 'deadline', 'state_changed_at'], dtype=dtypes)"
   ]
  },
  {
   "cell_type": "code",
   "execution_count": 363,
   "metadata": {},
   "outputs": [],
   "source": [
    "columns = frame_all.columns"
   ]
  },
  {
   "cell_type": "code",
   "execution_count": 364,
   "metadata": {},
   "outputs": [
    {
     "data": {
      "text/plain": [
       "Index(['backers_count', 'blurb', 'converted_pledged_amount', 'country',\n",
       "       'created_at', 'currency', 'currency_symbol', 'currency_trailing_code',\n",
       "       'current_currency', 'deadline', 'disable_communication', 'fx_rate',\n",
       "       'goal', 'id', 'is_starrable', 'launched_at', 'name', 'pledged', 'slug',\n",
       "       'source_url', 'spotlight', 'staff_pick', 'state', 'state_changed_at',\n",
       "       'static_usd_rate', 'usd_pledged', 'usd_type', 'dur_inactive',\n",
       "       'dur_until_state_changed', 'dur_active', 'dur_ratio', 'cat_name',\n",
       "       'cat_slug', 'loc_name', 'loc_country', 'loc_state', 'loc_type',\n",
       "       'photo_thumb', 'photo_large', 'project_address', 'profile_photo',\n",
       "       'creator_name', 'creator_id', 'creator_thumb', 'creator_address',\n",
       "       'main_category', 'sub_category', 'goal_surpass', 'goal_surpass_share',\n",
       "       'goal_surpass_usd', 'goal_usd', 'goal_categorical', 'blurb_words',\n",
       "       'blurb_len', 'name_len', 'name_words', 'state_bool', 'baseline'],\n",
       "      dtype='object')"
      ]
     },
     "execution_count": 364,
     "metadata": {},
     "output_type": "execute_result"
    }
   ],
   "source": [
    "columns"
   ]
  },
  {
   "cell_type": "code",
   "execution_count": 365,
   "metadata": {},
   "outputs": [],
   "source": [
    "to_delete = ['backers_count',\n",
    " 'blurb',\n",
    " 'created_at',\n",
    " 'converted_pledged_amount',\n",
    " 'currency_symbol',\n",
    " 'currency_trailing_code',\n",
    " 'current_currency',\n",
    " 'deadline',\n",
    " 'goal',\n",
    " 'id',\n",
    " 'is_starrable',\n",
    " 'launched_at',\n",
    " 'name',\n",
    " 'pledged',\n",
    " 'slug',\n",
    " 'source_url',\n",
    " 'spotlight',\n",
    " 'staff_pick',\n",
    " 'state',\n",
    " 'state_changed_at',\n",
    " 'usd_pledged',\n",
    " 'cat_name',\n",
    " 'cat_slug',\n",
    " 'loc_name',\n",
    " 'loc_country',\n",
    " 'loc_state',\n",
    " 'photo_thumb',\n",
    " 'photo_large',\n",
    " 'project_address',\n",
    " 'profile_photo',\n",
    " 'creator_name',\n",
    " 'creator_id',\n",
    " 'creator_thumb',\n",
    " 'creator_address',\n",
    " 'goal_surpass',\n",
    " 'goal_surpass_share',\n",
    " 'goal_surpass_usd',\n",
    " 'baseline',\n",
    " 'disable_communication',\n",
    " 'goal_usd',\n",
    " 'dur_until_state_changed',\n",
    " 'dur_ratio',\n",
    " 'fx_rate',\n",
    " 'static_usd_rate',\n",
    " 'blurb_words',\n",
    " 'name_words'\n",
    " ]\n",
    "\n",
    "# Additionally deleted: \n",
    "# Cannot be known a priori: 'dur_until_state_changed', 'dur_ratio'\n",
    "# Somehow a duplicate: 'goal_usd', 'blurb_words', 'name_words'\n",
    "# For other reasons: 'fx_rate', 'static_usd_rate'"
   ]
  },
  {
   "cell_type": "code",
   "execution_count": 366,
   "metadata": {},
   "outputs": [],
   "source": [
    "frame_all.drop(columns=to_delete, inplace=True)"
   ]
  },
  {
   "cell_type": "code",
   "execution_count": 367,
   "metadata": {},
   "outputs": [],
   "source": [
    "# Save category-column-names in list\n",
    "categorical_cols = frame_all.select_dtypes(include='category').columns\n",
    "\n",
    "#import pandas as pd\n",
    "frame_all = pd.get_dummies(frame_all, columns = categorical_cols, drop_first=True)"
   ]
  },
  {
   "cell_type": "code",
   "execution_count": 368,
   "metadata": {},
   "outputs": [],
   "source": [
    "X = frame_all.drop('state_bool', axis=1)\n",
    "y = frame_all.state_bool"
   ]
  },
  {
   "cell_type": "code",
   "execution_count": 369,
   "metadata": {},
   "outputs": [],
   "source": [
    "RSEED=42\n",
    "X_train, X_test, y_train, y_test = train_test_split(X, y, stratify=y, random_state=RSEED)"
   ]
  },
  {
   "cell_type": "markdown",
   "metadata": {},
   "source": [
    "# Random Forest Model 1"
   ]
  },
  {
   "cell_type": "code",
   "execution_count": 370,
   "metadata": {},
   "outputs": [
    {
     "name": "stderr",
     "output_type": "stream",
     "text": [
      "[Parallel(n_jobs=-1)]: Using backend ThreadingBackend with 8 concurrent workers.\n",
      "[Parallel(n_jobs=-1)]: Done  34 tasks      | elapsed:    3.8s\n",
      "[Parallel(n_jobs=-1)]: Done 100 out of 100 | elapsed:   10.2s finished\n"
     ]
    },
    {
     "name": "stdout",
     "output_type": "stream",
     "text": [
      "Average number of nodes 61897\n",
      "Average maximum depth 104\n"
     ]
    },
    {
     "name": "stderr",
     "output_type": "stream",
     "text": [
      "[Parallel(n_jobs=8)]: Using backend ThreadingBackend with 8 concurrent workers.\n",
      "[Parallel(n_jobs=8)]: Done  34 tasks      | elapsed:    0.6s\n",
      "[Parallel(n_jobs=8)]: Done 100 out of 100 | elapsed:    1.4s finished\n",
      "[Parallel(n_jobs=8)]: Using backend ThreadingBackend with 8 concurrent workers.\n",
      "[Parallel(n_jobs=8)]: Done  34 tasks      | elapsed:    0.4s\n",
      "[Parallel(n_jobs=8)]: Done 100 out of 100 | elapsed:    1.1s finished\n",
      "[Parallel(n_jobs=8)]: Using backend ThreadingBackend with 8 concurrent workers.\n",
      "[Parallel(n_jobs=8)]: Done  34 tasks      | elapsed:    0.3s\n",
      "[Parallel(n_jobs=8)]: Done 100 out of 100 | elapsed:    0.8s finished\n",
      "[Parallel(n_jobs=8)]: Using backend ThreadingBackend with 8 concurrent workers.\n",
      "[Parallel(n_jobs=8)]: Done  34 tasks      | elapsed:    0.2s\n",
      "[Parallel(n_jobs=8)]: Done 100 out of 100 | elapsed:    0.4s finished\n"
     ]
    }
   ],
   "source": [
    "# Features for feature importances\n",
    "features = list(X_train.columns)\n",
    "\n",
    "# Create the model with 100 trees\n",
    "model = RandomForestClassifier(n_estimators=100, \n",
    "                               random_state=RSEED, \n",
    "                               max_features = 'sqrt',\n",
    "                               n_jobs=-1, verbose = 1)\n",
    "\n",
    "# Fit on training data\n",
    "model.fit(X_train, y_train)\n",
    "\n",
    "\n",
    "n_nodes = []\n",
    "max_depths = []\n",
    "\n",
    "# Stats about the trees in random forest\n",
    "for ind_tree in model.estimators_:\n",
    "    n_nodes.append(ind_tree.tree_.node_count)\n",
    "    max_depths.append(ind_tree.tree_.max_depth)\n",
    "    \n",
    "print(f'Average number of nodes {int(np.mean(n_nodes))}')\n",
    "print(f'Average maximum depth {int(np.mean(max_depths))}')\n",
    "\n",
    "# Training predictions (to demonstrate overfitting)\n",
    "train_rf_predictions = model.predict(X_train)\n",
    "train_rf_probs = model.predict_proba(X_train)[:, 1]\n",
    "\n",
    "# Testing predictions (to determine performance)\n",
    "rf_predictions = model.predict(X_test)\n",
    "rf_probs = model.predict_proba(X_test)[:, 1]"
   ]
  },
  {
   "cell_type": "code",
   "execution_count": 371,
   "metadata": {},
   "outputs": [],
   "source": [
    "from sklearn.metrics import precision_score, recall_score, roc_auc_score, roc_curve\n",
    "\n",
    "\n",
    "# Plot formatting\n",
    "plt.style.use('fivethirtyeight')\n",
    "plt.rcParams['font.size'] = 18\n",
    "\n",
    "# Function for calculating the evaluation metrics and plotting the ROC-curve\n",
    "# TODO: CHANGE BASELINE MODEL TO OURS?\n",
    "\n",
    "def evaluate_model(predictions, probs, train_predictions, train_probs):\n",
    "    \"\"\"Compare machine learning model to baseline performance.\n",
    "    Computes statistics and shows ROC curve.\"\"\"\n",
    "    \n",
    "    baseline = {}\n",
    "    \n",
    "    baseline['recall'] = recall_score(y_test, \n",
    "                                     [1 for _ in range(len(y_test))])\n",
    "    baseline['precision'] = precision_score(y_test, \n",
    "                                      [1 for _ in range(len(y_test))])\n",
    "    baseline['roc'] = 0.5\n",
    "    \n",
    "    results = {}\n",
    "    \n",
    "    results['recall'] = recall_score(y_test, predictions)\n",
    "    results['precision'] = precision_score(y_test, predictions)\n",
    "    results['roc'] = roc_auc_score(y_test, probs)\n",
    "    \n",
    "    train_results = {}\n",
    "    train_results['recall'] = recall_score(y_train, train_predictions)\n",
    "    train_results['precision'] = precision_score(y_train, train_predictions)\n",
    "    train_results['roc'] = roc_auc_score(y_train, train_probs)\n",
    "    \n",
    "    for metric in ['recall', 'precision', 'roc']:\n",
    "        print(f'{metric.capitalize()} Baseline: {round(baseline[metric], 2)} Test: {round(results[metric], 2)} Train: {round(train_results[metric], 2)}')\n",
    "    \n",
    "    # Calculate false positive rates and true positive rates\n",
    "    base_fpr, base_tpr, _ = roc_curve(y_test, [1 for _ in range(len(y_test))])\n",
    "    model_fpr, model_tpr, _ = roc_curve(y_test, probs)\n",
    "\n",
    "    plt.figure(figsize = (8, 6))\n",
    "    plt.rcParams['font.size'] = 10\n",
    "    \n",
    "    # Plot both curves\n",
    "    plt.plot(base_fpr, base_tpr, 'b', label = 'baseline')\n",
    "    plt.plot(model_fpr, model_tpr, 'r', label = 'model')\n",
    "    plt.legend();\n",
    "    plt.xlabel('False Positive Rate'); \n",
    "    plt.ylabel('True Positive Rate'); plt.title('ROC Curves');\n",
    "    plt.show();\n"
   ]
  },
  {
   "cell_type": "code",
   "execution_count": 372,
   "metadata": {},
   "outputs": [],
   "source": [
    "from sklearn.metrics import classification_report, confusion_matrix\n",
    "import itertools\n",
    "\n",
    "# Function to plot the confusion matrix\n",
    "\n",
    "def plot_confusion_matrix(cm, classes,\n",
    "                          normalize=False,\n",
    "                          title='Confusion matrix',\n",
    "                          cmap=plt.cm.Oranges):\n",
    "    \"\"\"\n",
    "    This function prints and plots the confusion matrix.\n",
    "    Normalization can be applied by setting `normalize=True`.\n",
    "    Source: http://scikit-learn.org/stable/auto_examples/model_selection/plot_confusion_matrix.html\n",
    "    \"\"\"\n",
    "    if normalize:\n",
    "        cm = cm.astype('float') / cm.sum(axis=1)[:, np.newaxis]\n",
    "        print(\"Normalized confusion matrix\")\n",
    "    else:\n",
    "        print('Confusion matrix, without normalization')\n",
    "\n",
    "    print(cm)\n",
    "\n",
    "    # Plot the confusion matrix\n",
    "    plt.figure(figsize = (5, 5))\n",
    "    plt.imshow(cm, interpolation='nearest', cmap=cmap)\n",
    "    plt.title(title, size = 15)\n",
    "    plt.colorbar(aspect=4)\n",
    "    tick_marks = np.arange(len(classes))\n",
    "    plt.xticks(tick_marks, classes, rotation=45, size = 14)\n",
    "    plt.yticks(tick_marks, classes, size = 14)\n",
    "\n",
    "    fmt = '.2f' if normalize else 'd'\n",
    "    thresh = cm.max() / 2.\n",
    "    \n",
    "    # Labeling the plot\n",
    "    for i, j in itertools.product(range(cm.shape[0]), range(cm.shape[1])):\n",
    "        plt.text(j, i, format(cm[i, j], fmt), fontsize = 10,\n",
    "                 horizontalalignment=\"center\",\n",
    "                 color=\"white\" if cm[i, j] > thresh else \"black\")\n",
    "        \n",
    "    plt.grid(None)\n",
    "    plt.tight_layout()\n",
    "    plt.ylabel('True label', size = 18)\n",
    "    plt.xlabel('Predicted label', size = 18)\n"
   ]
  },
  {
   "cell_type": "code",
   "execution_count": 373,
   "metadata": {},
   "outputs": [
    {
     "name": "stdout",
     "output_type": "stream",
     "text": [
      "Recall Baseline: 1.0 Test: 0.79 Train: 1.0\n",
      "Precision Baseline: 0.56 Test: 0.8 Train: 1.0\n",
      "Roc Baseline: 0.5 Test: 0.86 Train: 1.0\n"
     ]
    },
    {
     "data": {
      "image/png": "[encoded data removed]",
      "text/plain": [
       "<Figure size 576x432 with 1 Axes>"
      ]
     },
     "metadata": {},
     "output_type": "display_data"
    }
   ],
   "source": [
    "evaluate_model(rf_predictions, rf_probs, train_rf_predictions, train_rf_probs)\n",
    "# plt.savefig('image/nb1_roc_auc_curve.png')"
   ]
  },
  {
   "cell_type": "code",
   "execution_count": 374,
   "metadata": {},
   "outputs": [
    {
     "name": "stdout",
     "output_type": "stream",
     "text": [
      "Confusion matrix, without normalization\n",
      "[[13877  4655]\n",
      " [ 4906 18732]]\n",
      "Confusion matrix, without normalization\n",
      "[[55594     0]\n",
      " [    2 70911]]\n"
     ]
    },
    {
     "name": "stderr",
     "output_type": "stream",
     "text": [
      "/var/folders/_2/0mbl5gkd02l3mjd7fnqkpl1c0000gn/T/ipykernel_35682/2516166632.py:27: MatplotlibDeprecationWarning: Auto-removal of grids by pcolor() and pcolormesh() is deprecated since 3.5 and will be removed two minor releases later; please call grid(False) first.\n",
      "  plt.colorbar(aspect=4)\n",
      "/var/folders/_2/0mbl5gkd02l3mjd7fnqkpl1c0000gn/T/ipykernel_35682/2516166632.py:27: MatplotlibDeprecationWarning: Auto-removal of grids by pcolor() and pcolormesh() is deprecated since 3.5 and will be removed two minor releases later; please call grid(False) first.\n",
      "  plt.colorbar(aspect=4)\n"
     ]
    },
    {
     "data": {
      "image/png": "[encoded data removed]",
      "text/plain": [
       "<Figure size 360x360 with 2 Axes>"
      ]
     },
     "metadata": {},
     "output_type": "display_data"
    },
    {
     "data": {
      "image/png": "[encoded data removed]",
      "text/plain": [
       "<Figure size 360x360 with 2 Axes>"
      ]
     },
     "metadata": {},
     "output_type": "display_data"
    }
   ],
   "source": [
    "# Execute confusion matrices\n",
    "\n",
    "# Confusion matrix TEST\n",
    "cm_test = confusion_matrix(y_test, rf_predictions)\n",
    "plot_confusion_matrix(cm_test, classes = ['Failed','Successful'],\n",
    "                      title = 'Kickstarter Confusion Matrix Test')\n",
    "\n",
    "# Confusion matrix TRAIN\n",
    "cm_train = confusion_matrix(y_train, train_rf_predictions)\n",
    "plot_confusion_matrix(cm_train, classes = ['Failed','Successful'],\n",
    "                      title = 'Kickstarter Confusion Matrix Train')\n",
    "\n",
    "# plt.savefig('image/nb1_cm.png')"
   ]
  },
  {
   "cell_type": "code",
   "execution_count": 375,
   "metadata": {},
   "outputs": [
    {
     "name": "stdout",
     "output_type": "stream",
     "text": [
      "Classification on test data\n",
      "              precision    recall  f1-score   support\n",
      "\n",
      "           0       0.74      0.75      0.74     18532\n",
      "           1       0.80      0.79      0.80     23638\n",
      "\n",
      "    accuracy                           0.77     42170\n",
      "   macro avg       0.77      0.77      0.77     42170\n",
      "weighted avg       0.77      0.77      0.77     42170\n",
      "\n",
      "Classification on train data\n",
      "              precision    recall  f1-score   support\n",
      "\n",
      "           0       1.00      1.00      1.00     55594\n",
      "           1       1.00      1.00      1.00     70913\n",
      "\n",
      "    accuracy                           1.00    126507\n",
      "   macro avg       1.00      1.00      1.00    126507\n",
      "weighted avg       1.00      1.00      1.00    126507\n",
      "\n"
     ]
    }
   ],
   "source": [
    "# Execute classification matrices\n",
    "\n",
    "cr_test = classification_report(y_test, rf_predictions)\n",
    "print('Classification on test data')\n",
    "print(cr_test)\n",
    "\n",
    "cr_train = classification_report(y_train, train_rf_predictions)\n",
    "print('Classification on train data')\n",
    "print(cr_train)"
   ]
  },
  {
   "cell_type": "code",
   "execution_count": 376,
   "metadata": {},
   "outputs": [
    {
     "name": "stdout",
     "output_type": "stream",
     "text": [
      "                             feature  importance\n",
      "0                       dur_inactive    0.162345\n",
      "3                           name_len    0.115412\n",
      "1                         dur_active    0.108656\n",
      "2                          blurb_len    0.107478\n",
      "38            usd_type_international    0.018996\n",
      "52                main_category_food    0.014948\n",
      "205        goal_categorical_1_to_500    0.014499\n",
      "210       goal_categorical_500_to_5k    0.013435\n",
      "58          main_category_technology    0.011547\n",
      "94          sub_category_documentary    0.010911\n",
      "176              sub_category_shorts    0.009856\n",
      "193         sub_category_video games    0.009136\n",
      "138        sub_category_mobile games    0.008353\n",
      "196                 sub_category_web    0.008313\n",
      "144          sub_category_nonfiction    0.008247\n",
      "121        sub_category_illustration    0.008092\n",
      "44                     loc_type_Town    0.008083\n",
      "123          sub_category_indie rock    0.007799\n",
      "108             sub_category_fiction    0.007687\n",
      "212       goal_categorical_5k_to_10k    0.007555\n",
      "88       sub_category_country & folk    0.007521\n",
      "204      goal_categorical_10k_to_25k    0.007477\n",
      "142      sub_category_narrative film    0.007466\n",
      "78     sub_category_children's books    0.007332\n",
      "172                sub_category_rock    0.007314\n",
      "161      sub_category_product design    0.007287\n",
      "209      goal_categorical_25k_to_50k    0.007219\n",
      "211     goal_categorical_50k_to_100k    0.006947\n",
      "183      sub_category_tabletop games    0.006806\n",
      "55               main_category_music    0.006160\n",
      "84          sub_category_comic books    0.006023\n",
      "37                      currency_USD    0.005520\n",
      "24                        country_US    0.005502\n",
      "207      goal_categorical_200k_to_1m    0.005066\n",
      "57          main_category_publishing    0.005029\n",
      "51        main_category_film & video    0.004952\n",
      "46              main_category_comics    0.004548\n",
      "48               main_category_dance    0.004463\n",
      "28                      currency_EUR    0.004124\n",
      "119             sub_category_hip-hop    0.003985\n",
      "53               main_category_games    0.003982\n",
      "12                        country_GB    0.003958\n",
      "29                      currency_GBP    0.003935\n",
      "47              main_category_crafts    0.003920\n",
      "43                   loc_type_Suburb    0.003553\n",
      "198           sub_category_webseries    0.003506\n",
      "178            sub_category_software    0.003472\n",
      "56         main_category_photography    0.003460\n",
      "54          main_category_journalism    0.003314\n",
      "59             main_category_theater    0.003294\n",
      "67              sub_category_apparel    0.003278\n",
      "50             main_category_fashion    0.003266\n",
      "62          sub_category_accessories    0.003159\n",
      "49              main_category_design    0.002873\n",
      "65            sub_category_animation    0.002832\n",
      "25                      currency_CAD    0.002814\n",
      "6                         country_CA    0.002789\n",
      "68                 sub_category_apps    0.002680\n",
      "97     sub_category_electronic music    0.002661\n",
      "92                  sub_category_diy    0.002647\n",
      "4                         country_AU    0.002638\n",
      "162          sub_category_public art    0.002614\n",
      "137         sub_category_mixed media    0.002527\n",
      "83               sub_category_comedy    0.002491\n",
      "91          sub_category_digital art    0.002422\n",
      "82      sub_category_classical music    0.002418\n",
      "147     sub_category_performance art    0.002313\n",
      "127             sub_category_jewelry    0.002237\n",
      "111         sub_category_food trucks    0.002225\n",
      "175           sub_category_sculpture    0.002202\n",
      "145            sub_category_painting    0.002186\n",
      "61             sub_category_academic    0.002183\n",
      "201         sub_category_world music    0.002181\n",
      "157                 sub_category_pop    0.002166\n",
      "185          sub_category_television    0.002103\n",
      "134          sub_category_live games    0.002039\n",
      "168       sub_category_ready-to-wear    0.002035\n",
      "70            sub_category_art books    0.001971\n",
      "95                sub_category_drama    0.001969\n",
      "202         sub_category_young adult    0.001900\n",
      "116      sub_category_graphic design    0.001876\n",
      "118            sub_category_hardware    0.001831\n",
      "199         sub_category_woodworking    0.001792\n",
      "146              sub_category_people    0.001713\n",
      "156              sub_category_poetry    0.001713\n",
      "96               sub_category_drinks    0.001698\n",
      "154       sub_category_playing cards    0.001648\n",
      "15                        country_IT    0.001647\n",
      "86       sub_category_conceptual art    0.001611\n",
      "8                         country_DE    0.001600\n",
      "120              sub_category_horror    0.001576\n",
      "99               sub_category_events    0.001551\n",
      "63               sub_category_action    0.001541\n",
      "152          sub_category_photobooks    0.001541\n",
      "153              sub_category_places    0.001515\n",
      "170         sub_category_restaurants    0.001484\n",
      "126                sub_category_jazz    0.001473\n",
      "11                        country_FR    0.001470\n",
      "117      sub_category_graphic novels    0.001412\n",
      "167    sub_category_radio & podcasts    0.001376\n",
      "102               sub_category_faith    0.001357\n",
      "100        sub_category_experimental    0.001354\n",
      "113             sub_category_gadgets    0.001346\n",
      "18                        country_MX    0.001316\n",
      "32                      currency_MXN    0.001305\n",
      "143              sub_category_nature    0.001287\n",
      "155               sub_category_plays    0.001286\n",
      "149         sub_category_periodicals    0.001266\n",
      "76              sub_category_candles    0.001221\n",
      "19                        country_NL    0.001209\n",
      "181              sub_category_spaces    0.001205\n",
      "66          sub_category_anthologies    0.001192\n",
      "187           sub_category_thrillers    0.001160\n",
      "140        sub_category_music videos    0.001154\n",
      "10                        country_ES    0.001144\n",
      "79        sub_category_childrenswear    0.001142\n",
      "107           sub_category_festivals    0.001131\n",
      "166                 sub_category_r&b    0.001110\n",
      "177         sub_category_small batch    0.001095\n",
      "141             sub_category_musical    0.001086\n",
      "194           sub_category_wearables    0.001046\n",
      "112            sub_category_footwear    0.001032\n",
      "136               sub_category_metal    0.001000\n",
      "174     sub_category_science fiction    0.000996\n",
      "41               loc_type_LocalAdmin    0.000975\n",
      "22                        country_SE    0.000946\n",
      "109            sub_category_fine art    0.000936\n",
      "197           sub_category_webcomics    0.000929\n",
      "93      sub_category_diy electronics    0.000922\n",
      "124       sub_category_installations    0.000920\n",
      "159               sub_category_print    0.000913\n",
      "35                      currency_SEK    0.000896\n",
      "69         sub_category_architecture    0.000893\n",
      "191               sub_category_video    0.000886\n",
      "106               sub_category_farms    0.000884\n",
      "103              sub_category_family    0.000864\n",
      "148        sub_category_performances    0.000851\n",
      "186            sub_category_textiles    0.000840\n",
      "125  sub_category_interactive design    0.000823\n",
      "105    sub_category_farmer's markets    0.000799\n",
      "179               sub_category_sound    0.000760\n",
      "77             sub_category_ceramics    0.000743\n",
      "74            sub_category_calendars    0.000728\n",
      "171              sub_category_robots    0.000720\n",
      "60          sub_category_3d printing    0.000720\n",
      "71                sub_category_audio    0.000707\n",
      "114     sub_category_gaming hardware    0.000681\n",
      "203               sub_category_zines    0.000674\n",
      "104             sub_category_fantasy    0.000668\n",
      "9                         country_DK    0.000665\n",
      "200           sub_category_workshops    0.000652\n",
      "27                      currency_DKK    0.000649\n",
      "21                        country_NZ    0.000646\n",
      "34                      currency_NZD    0.000634\n",
      "64              sub_category_animals    0.000621\n",
      "90              sub_category_crochet    0.000618\n",
      "206        goal_categorical_1m_to_5m    0.000614\n",
      "182          sub_category_stationery    0.000608\n",
      "14                        country_IE    0.000607\n",
      "190               sub_category_vegan    0.000606\n",
      "110              sub_category_flight    0.000601\n",
      "75     sub_category_camera equipment    0.000598\n",
      "122           sub_category_immersive    0.000594\n",
      "139      sub_category_movie theaters    0.000577\n",
      "89              sub_category_couture    0.000574\n",
      "87            sub_category_cookbooks    0.000560\n",
      "45                      loc_type_Zip    0.000555\n",
      "163                sub_category_punk    0.000547\n",
      "132   sub_category_literary journals    0.000544\n",
      "73                sub_category_blues    0.000518\n",
      "128                sub_category_kids    0.000510\n",
      "81         sub_category_civic design    0.000496\n",
      "164             sub_category_puzzles    0.000477\n",
      "160            sub_category_printing    0.000477\n",
      "13                        country_HK    0.000475\n",
      "115               sub_category_glass    0.000473\n",
      "30                      currency_HKD    0.000472\n",
      "5                         country_BE    0.000452\n",
      "129            sub_category_knitting    0.000438\n",
      "20                        country_NO    0.000435\n",
      "180   sub_category_space exploration    0.000430\n",
      "192           sub_category_video art    0.000429\n",
      "130               sub_category_latin    0.000420\n",
      "26                      currency_CHF    0.000420\n",
      "33                      currency_NOK    0.000418\n",
      "7                         country_CH    0.000415\n",
      "23                        country_SG    0.000413\n",
      "188        sub_category_translations    0.000409\n",
      "36                      currency_SGD    0.000401\n",
      "151               sub_category_photo    0.000382\n",
      "173             sub_category_romance    0.000376\n",
      "40                   loc_type_Island    0.000357\n",
      "72                sub_category_bacon    0.000347\n",
      "150         sub_category_pet fashion    0.000343\n",
      "135         sub_category_makerspaces    0.000341\n",
      "85    sub_category_community gardens    0.000339\n",
      "101   sub_category_fabrication tools    0.000339\n",
      "98           sub_category_embroidery    0.000313\n",
      "189          sub_category_typography    0.000301\n",
      "31                      currency_JPY    0.000282\n",
      "158             sub_category_pottery    0.000281\n",
      "165              sub_category_quilts    0.000277\n",
      "16                        country_JP    0.000265\n",
      "195             sub_category_weaving    0.000192\n",
      "133     sub_category_literary spaces    0.000171\n",
      "131         sub_category_letterpress    0.000111\n",
      "80             sub_category_chiptune    0.000101\n",
      "169         sub_category_residencies    0.000086\n",
      "213       goal_categorical_5m_to_20m    0.000077\n",
      "208     goal_categorical_20m_to_200m    0.000070\n",
      "17                        country_LU    0.000060\n",
      "184           sub_category_taxidermy    0.000023\n",
      "42            loc_type_Miscellaneous    0.000015\n",
      "39                   loc_type_Estate    0.000009\n"
     ]
    }
   ],
   "source": [
    "# Check feature importances\n",
    "\n",
    "fi_model = pd.DataFrame({'feature': features,\n",
    "                   'importance': model.feature_importances_}).\\\n",
    "                    sort_values('importance', ascending = False)\n",
    "print(fi_model)"
   ]
  },
  {
   "cell_type": "code",
   "execution_count": null,
   "metadata": {},
   "outputs": [],
   "source": []
  },
  {
   "cell_type": "code",
   "execution_count": null,
   "metadata": {},
   "outputs": [],
   "source": []
  }
 ],
 "metadata": {
  "interpreter": {
   "hash": "1a82898d3f503c1e2e9b4dff319af7b4ab4f34b16327799ca293100781c08b39"
  },
  "kernelspec": {
   "display_name": "Python 3.9.4 ('.venv': venv)",
   "language": "python",
   "name": "python3"
  },
  "language_info": {
   "codemirror_mode": {
    "name": "ipython",
    "version": 3
   },
   "file_extension": ".py",
   "mimetype": "text/x-python",
   "name": "python",
   "nbconvert_exporter": "python",
   "pygments_lexer": "ipython3",
   "version": "3.9.4"
  },
  "orig_nbformat": 4
 },
 "nbformat": 4,
 "nbformat_minor": 2
}
