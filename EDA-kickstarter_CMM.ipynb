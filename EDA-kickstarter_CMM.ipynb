{
 "cells": [
  {
   "cell_type": "code",
   "execution_count": 193,
   "metadata": {},
   "outputs": [],
   "source": [
    "import pandas as pd\n",
    "import seaborn as sns\n",
    "import matplotlib.pyplot as plt\n",
    "import warnings\n",
    "warnings.filterwarnings('ignore')"
   ]
  },
  {
   "cell_type": "code",
   "execution_count": 9,
   "metadata": {},
   "outputs": [
    {
     "name": "stdout",
     "output_type": "stream",
     "text": [
      "Observations in each dataset: [3779, 3784, 3790, 3795, 3789, 3780, 3786, 3788, 3784, 3790, 3786, 3784, 3781, 3793, 3786, 3792, 3782, 3786, 3785, 3791, 3786, 3787, 3778, 3780, 3796, 3784, 3793, 3779, 3785, 3785, 3793, 3787, 3788, 3780, 3784, 3794, 3784, 3793, 3781, 3786, 3779, 3792, 3786, 3790, 3779, 3787, 3786, 3788, 3792, 3784, 3789, 3780, 3791, 3787, 3793, 965]\n",
      "Number of features in each dataset: [37, 37, 37, 37, 37, 37, 37, 37, 37, 37, 37, 37, 37, 37, 37, 37, 37, 37, 37, 37, 37, 37, 37, 37, 37, 37, 37, 37, 37, 37, 37, 37, 37, 37, 37, 37, 37, 37, 37, 37, 37, 37, 37, 37, 37, 37, 37, 37, 37, 37, 37, 37, 37, 37, 37, 37]\n"
     ]
    }
   ],
   "source": [
    "# set_length = []\n",
    "# set_feat_num = []\n",
    "\n",
    "# for i in range(10):\n",
    "#     df_check = pd.read_csv(f'data/Kickstarter00{i}.csv')\n",
    "#     set_length.append(len(df_check))\n",
    "#     set_feat_num.append(df_check.shape[1])\n",
    "\n",
    "\n",
    "# for i in range(10, 56):\n",
    "#     df_check = pd.read_csv(f'data/Kickstarter0{i}.csv')\n",
    "#     set_length.append(len(df_check))\n",
    "#     set_feat_num.append(df_check.shape[1])\n",
    "\n",
    "# print(f\"Observations in each dataset: {set_length}\")\n",
    "# print(f\"Number of features in each dataset: {set_feat_num}\")"
   ]
  },
  {
   "cell_type": "code",
   "execution_count": 194,
   "metadata": {},
   "outputs": [],
   "source": [
    "frame_all = pd.read_csv('data/Kickstarter_full.csv', index_col=0)"
   ]
  },
  {
   "cell_type": "code",
   "execution_count": 200,
   "metadata": {},
   "outputs": [
    {
     "name": "stdout",
     "output_type": "stream",
     "text": [
      "<class 'pandas.core.frame.DataFrame'>\n",
      "Int64Index: 168698 entries, 0 to 209220\n",
      "Data columns (total 57 columns):\n",
      " #   Column                    Non-Null Count   Dtype  \n",
      "---  ------                    --------------   -----  \n",
      " 0   backers_count             168698 non-null  int64  \n",
      " 1   blurb                     168698 non-null  object \n",
      " 2   converted_pledged_amount  168698 non-null  int64  \n",
      " 3   country                   168698 non-null  object \n",
      " 4   created_at                168698 non-null  object \n",
      " 5   currency                  168698 non-null  object \n",
      " 6   currency_symbol           168698 non-null  object \n",
      " 7   currency_trailing_code    168698 non-null  bool   \n",
      " 8   current_currency          168698 non-null  object \n",
      " 9   deadline                  168698 non-null  object \n",
      " 10  disable_communication     168698 non-null  bool   \n",
      " 11  fx_rate                   168698 non-null  float64\n",
      " 12  goal                      168698 non-null  float64\n",
      " 13  id                        168698 non-null  int64  \n",
      " 14  is_starrable              168698 non-null  bool   \n",
      " 15  launched_at               168698 non-null  object \n",
      " 16  name                      168698 non-null  object \n",
      " 17  pledged                   168698 non-null  float64\n",
      " 18  slug                      168698 non-null  object \n",
      " 19  source_url                168698 non-null  object \n",
      " 20  spotlight                 168698 non-null  bool   \n",
      " 21  staff_pick                168698 non-null  bool   \n",
      " 22  state                     168698 non-null  object \n",
      " 23  state_changed_at          168698 non-null  object \n",
      " 24  static_usd_rate           168698 non-null  float64\n",
      " 25  usd_pledged               168698 non-null  float64\n",
      " 26  usd_type                  168698 non-null  object \n",
      " 27  dur_inactive              168698 non-null  float64\n",
      " 28  dur_until_state_changed   168698 non-null  float64\n",
      " 29  dur_active                168698 non-null  float64\n",
      " 30  dur_ratio                 168698 non-null  float64\n",
      " 31  cat_name                  168698 non-null  object \n",
      " 32  cat_slug                  168698 non-null  object \n",
      " 33  loc_name                  168698 non-null  object \n",
      " 34  loc_country               168689 non-null  object \n",
      " 35  loc_state                 168698 non-null  object \n",
      " 36  loc_type                  168698 non-null  object \n",
      " 37  photo_thumb               168698 non-null  object \n",
      " 38  photo_large               168698 non-null  object \n",
      " 39  project_address           168698 non-null  object \n",
      " 40  profile_photo             168698 non-null  object \n",
      " 41  creator_name              168669 non-null  object \n",
      " 42  creator_id                168698 non-null  int64  \n",
      " 43  creator_thumb             168698 non-null  object \n",
      " 44  creator_address           168698 non-null  object \n",
      " 45  main_category             168698 non-null  object \n",
      " 46  sub_category              168698 non-null  object \n",
      " 47  goal_surpass              168698 non-null  float64\n",
      " 48  goal_surpass_share        168698 non-null  float64\n",
      " 49  goal_surpass_usd          168698 non-null  float64\n",
      " 50  goal_usd                  168698 non-null  float64\n",
      " 51  blurb_words               168698 non-null  float64\n",
      " 52  blurb_len                 168698 non-null  float64\n",
      " 53  name_len                  168698 non-null  int64  \n",
      " 54  name_words                168698 non-null  int64  \n",
      " 55  state_bool                168698 non-null  int64  \n",
      " 56  baseline                  168698 non-null  int64  \n",
      "dtypes: bool(5), float64(15), int64(8), object(29)\n",
      "memory usage: 69.0+ MB\n"
     ]
    }
   ],
   "source": [
    "frame_all.info()"
   ]
  },
  {
   "cell_type": "code",
   "execution_count": 205,
   "metadata": {},
   "outputs": [
    {
     "data": {
      "text/plain": [
       "<AxesSubplot:xlabel='dur_inactive', ylabel='state'>"
      ]
     },
     "execution_count": 205,
     "metadata": {},
     "output_type": "execute_result"
    },
    {
     "data": {
      "image/png": "[encoded data removed]",
      "text/plain": [
       "<Figure size 432x288 with 1 Axes>"
      ]
     },
     "metadata": {
      "needs_background": "light"
     },
     "output_type": "display_data"
    }
   ],
   "source": [
    "sns.scatterplot(x='dur_inactive', y='state',hue='state', data=frame_all)"
   ]
  },
  {
   "cell_type": "code",
   "execution_count": 135,
   "metadata": {},
   "outputs": [
    {
     "data": {
      "text/plain": [
       "count    168698.000000\n",
       "mean          1.014544\n",
       "std           0.225134\n",
       "min           0.008771\n",
       "25%           1.000000\n",
       "50%           1.000000\n",
       "75%           1.000000\n",
       "max           1.716408\n",
       "Name: static_usd_rate, dtype: float64"
      ]
     },
     "execution_count": 135,
     "metadata": {},
     "output_type": "execute_result"
    }
   ],
   "source": [
    "frame_all.static_usd_rate.describe()"
   ]
  },
  {
   "cell_type": "code",
   "execution_count": 104,
   "metadata": {},
   "outputs": [
    {
     "data": {
      "text/plain": [
       "<AxesSubplot:xlabel='static_usd_rate', ylabel='Count'>"
      ]
     },
     "execution_count": 104,
     "metadata": {},
     "output_type": "execute_result"
    },
    {
     "data": {
      "image/png": "[encoded data removed]",
      "text/plain": [
       "<Figure size 432x288 with 1 Axes>"
      ]
     },
     "metadata": {
      "needs_background": "light"
     },
     "output_type": "display_data"
    }
   ],
   "source": [
    "sns.histplot(frame_all['static_usd_rate'])"
   ]
  },
  {
   "cell_type": "code",
   "execution_count": 105,
   "metadata": {},
   "outputs": [
    {
     "data": {
      "text/plain": [
       "<AxesSubplot:xlabel='fx_rate', ylabel='Count'>"
      ]
     },
     "execution_count": 105,
     "metadata": {},
     "output_type": "execute_result"
    },
    {
     "data": {
      "image/png": "[encoded data removed]",
      "text/plain": [
       "<Figure size 432x288 with 1 Axes>"
      ]
     },
     "metadata": {
      "needs_background": "light"
     },
     "output_type": "display_data"
    }
   ],
   "source": [
    "sns.histplot(frame_all['fx_rate'])"
   ]
  },
  {
   "cell_type": "code",
   "execution_count": 106,
   "metadata": {},
   "outputs": [
    {
     "data": {
      "text/plain": [
       "<AxesSubplot:xlabel='currency', ylabel='Count'>"
      ]
     },
     "execution_count": 106,
     "metadata": {},
     "output_type": "execute_result"
    },
    {
     "data": {
      "image/png": "[encoded data removed]",
      "text/plain": [
       "<Figure size 432x288 with 1 Axes>"
      ]
     },
     "metadata": {
      "needs_background": "light"
     },
     "output_type": "display_data"
    }
   ],
   "source": [
    "sns.histplot(frame_all['currency'])"
   ]
  },
  {
   "cell_type": "code",
   "execution_count": 147,
   "metadata": {},
   "outputs": [
    {
     "data": {
      "text/plain": [
       "USD    122267\n",
       "GBP     17867\n",
       "EUR     10638\n",
       "CAD      7642\n",
       "AUD      3833\n",
       "MXN      1671\n",
       "SEK      1073\n",
       "NZD       738\n",
       "DKK       711\n",
       "HKD       656\n",
       "CHF       511\n",
       "SGD       469\n",
       "NOK       396\n",
       "JPY       226\n",
       "Name: currency, dtype: int64"
      ]
     },
     "execution_count": 147,
     "metadata": {},
     "output_type": "execute_result"
    }
   ],
   "source": [
    "frame_all.currency.value_counts()"
   ]
  },
  {
   "cell_type": "code",
   "execution_count": 148,
   "metadata": {},
   "outputs": [
    {
     "data": {
      "text/plain": [
       "USD    168698\n",
       "Name: current_currency, dtype: int64"
      ]
     },
     "execution_count": 148,
     "metadata": {},
     "output_type": "execute_result"
    }
   ],
   "source": [
    "frame_all.current_currency.value_counts()"
   ]
  },
  {
   "cell_type": "code",
   "execution_count": 136,
   "metadata": {},
   "outputs": [
    {
     "data": {
      "text/html": [
       "<div>\n",
       "<style scoped>\n",
       "    .dataframe tbody tr th:only-of-type {\n",
       "        vertical-align: middle;\n",
       "    }\n",
       "\n",
       "    .dataframe tbody tr th {\n",
       "        vertical-align: top;\n",
       "    }\n",
       "\n",
       "    .dataframe thead th {\n",
       "        text-align: right;\n",
       "    }\n",
       "</style>\n",
       "<table border=\"1\" class=\"dataframe\">\n",
       "  <thead>\n",
       "    <tr style=\"text-align: right;\">\n",
       "      <th></th>\n",
       "      <th>backers_count</th>\n",
       "      <th>blurb</th>\n",
       "      <th>converted_pledged_amount</th>\n",
       "      <th>country</th>\n",
       "      <th>created_at</th>\n",
       "      <th>currency</th>\n",
       "      <th>currency_symbol</th>\n",
       "      <th>currency_trailing_code</th>\n",
       "      <th>current_currency</th>\n",
       "      <th>deadline</th>\n",
       "      <th>...</th>\n",
       "      <th>project_address</th>\n",
       "      <th>profile_photo</th>\n",
       "      <th>creator_name</th>\n",
       "      <th>creator_id</th>\n",
       "      <th>creator_thumb</th>\n",
       "      <th>creator_address</th>\n",
       "      <th>main_category</th>\n",
       "      <th>sub_category</th>\n",
       "      <th>state_bool</th>\n",
       "      <th>baseline</th>\n",
       "    </tr>\n",
       "  </thead>\n",
       "  <tbody>\n",
       "    <tr>\n",
       "      <th>0</th>\n",
       "      <td>21</td>\n",
       "      <td>2006 was almost 7 years ago.... Can you believ...</td>\n",
       "      <td>802</td>\n",
       "      <td>US</td>\n",
       "      <td>2013-12-21 21:01:30</td>\n",
       "      <td>USD</td>\n",
       "      <td>$</td>\n",
       "      <td>True</td>\n",
       "      <td>USD</td>\n",
       "      <td>2014-02-08 22:37:26</td>\n",
       "      <td>...</td>\n",
       "      <td>https://www.kickstarter.com/projects/149592564...</td>\n",
       "      <td>https://ksr-ugc.imgix.net/assets/011/625/534/5...</td>\n",
       "      <td>Daniel</td>\n",
       "      <td>1495925645</td>\n",
       "      <td>https://ksr-ugc.imgix.net/assets/006/041/047/c...</td>\n",
       "      <td>https://www.kickstarter.com/profile/1495925645</td>\n",
       "      <td>music</td>\n",
       "      <td>rock</td>\n",
       "      <td>1.0</td>\n",
       "      <td>1</td>\n",
       "    </tr>\n",
       "    <tr>\n",
       "      <th>1</th>\n",
       "      <td>97</td>\n",
       "      <td>An adorable fantasy enamel pin series of princ...</td>\n",
       "      <td>2259</td>\n",
       "      <td>US</td>\n",
       "      <td>2019-02-08 21:02:48</td>\n",
       "      <td>USD</td>\n",
       "      <td>$</td>\n",
       "      <td>True</td>\n",
       "      <td>USD</td>\n",
       "      <td>2019-03-05 16:00:11</td>\n",
       "      <td>...</td>\n",
       "      <td>https://www.kickstarter.com/projects/freckledd...</td>\n",
       "      <td>https://ksr-ugc.imgix.net/assets/024/033/030/d...</td>\n",
       "      <td>Katherine</td>\n",
       "      <td>1175589980</td>\n",
       "      <td>https://ksr-ugc.imgix.net/assets/023/302/489/4...</td>\n",
       "      <td>https://www.kickstarter.com/profile/freckleddi...</td>\n",
       "      <td>art</td>\n",
       "      <td>mixed media</td>\n",
       "      <td>1.0</td>\n",
       "      <td>1</td>\n",
       "    </tr>\n",
       "    <tr>\n",
       "      <th>2</th>\n",
       "      <td>88</td>\n",
       "      <td>Helping a community come together to set the s...</td>\n",
       "      <td>29638</td>\n",
       "      <td>US</td>\n",
       "      <td>2016-10-23 17:06:24</td>\n",
       "      <td>USD</td>\n",
       "      <td>$</td>\n",
       "      <td>True</td>\n",
       "      <td>USD</td>\n",
       "      <td>2016-12-01 15:58:50</td>\n",
       "      <td>...</td>\n",
       "      <td>https://www.kickstarter.com/projects/119685626...</td>\n",
       "      <td>https://ksr-ugc.imgix.net/assets/014/262/672/9...</td>\n",
       "      <td>MelissaThomas</td>\n",
       "      <td>1196856269</td>\n",
       "      <td>https://ksr-ugc.imgix.net/assets/014/275/164/5...</td>\n",
       "      <td>https://www.kickstarter.com/profile/1196856269</td>\n",
       "      <td>photography</td>\n",
       "      <td>photobooks</td>\n",
       "      <td>1.0</td>\n",
       "      <td>0</td>\n",
       "    </tr>\n",
       "    <tr>\n",
       "      <th>3</th>\n",
       "      <td>193</td>\n",
       "      <td>Every revolution starts from the bottom and we...</td>\n",
       "      <td>49158</td>\n",
       "      <td>IT</td>\n",
       "      <td>2018-10-24 08:32:00</td>\n",
       "      <td>EUR</td>\n",
       "      <td>€</td>\n",
       "      <td>False</td>\n",
       "      <td>USD</td>\n",
       "      <td>2018-12-08 22:59:00</td>\n",
       "      <td>...</td>\n",
       "      <td>https://www.kickstarter.com/projects/wearewao/...</td>\n",
       "      <td>https://ksr-ugc.imgix.net/assets/023/008/626/a...</td>\n",
       "      <td>WAO</td>\n",
       "      <td>1569700626</td>\n",
       "      <td>https://ksr-ugc.imgix.net/assets/023/008/808/d...</td>\n",
       "      <td>https://www.kickstarter.com/profile/wearewao</td>\n",
       "      <td>fashion</td>\n",
       "      <td>footwear</td>\n",
       "      <td>1.0</td>\n",
       "      <td>1</td>\n",
       "    </tr>\n",
       "    <tr>\n",
       "      <th>4</th>\n",
       "      <td>20</td>\n",
       "      <td>Learn to build 10+ Applications in this comple...</td>\n",
       "      <td>549</td>\n",
       "      <td>US</td>\n",
       "      <td>2015-03-07 05:35:17</td>\n",
       "      <td>USD</td>\n",
       "      <td>$</td>\n",
       "      <td>True</td>\n",
       "      <td>USD</td>\n",
       "      <td>2015-04-08 16:36:57</td>\n",
       "      <td>...</td>\n",
       "      <td>https://www.kickstarter.com/projects/187084538...</td>\n",
       "      <td>https://ksr-ugc.imgix.net/assets/012/061/410/1...</td>\n",
       "      <td>Kalpit Jain</td>\n",
       "      <td>1870845385</td>\n",
       "      <td>https://ksr-ugc.imgix.net/assets/008/757/546/9...</td>\n",
       "      <td>https://www.kickstarter.com/profile/1870845385</td>\n",
       "      <td>technology</td>\n",
       "      <td>software</td>\n",
       "      <td>0.0</td>\n",
       "      <td>0</td>\n",
       "    </tr>\n",
       "  </tbody>\n",
       "</table>\n",
       "<p>5 rows × 45 columns</p>\n",
       "</div>"
      ],
      "text/plain": [
       "   backers_count                                              blurb  \\\n",
       "0             21  2006 was almost 7 years ago.... Can you believ...   \n",
       "1             97  An adorable fantasy enamel pin series of princ...   \n",
       "2             88  Helping a community come together to set the s...   \n",
       "3            193  Every revolution starts from the bottom and we...   \n",
       "4             20  Learn to build 10+ Applications in this comple...   \n",
       "\n",
       "   converted_pledged_amount country           created_at currency  \\\n",
       "0                       802      US  2013-12-21 21:01:30      USD   \n",
       "1                      2259      US  2019-02-08 21:02:48      USD   \n",
       "2                     29638      US  2016-10-23 17:06:24      USD   \n",
       "3                     49158      IT  2018-10-24 08:32:00      EUR   \n",
       "4                       549      US  2015-03-07 05:35:17      USD   \n",
       "\n",
       "  currency_symbol  currency_trailing_code current_currency  \\\n",
       "0               $                    True              USD   \n",
       "1               $                    True              USD   \n",
       "2               $                    True              USD   \n",
       "3               €                   False              USD   \n",
       "4               $                    True              USD   \n",
       "\n",
       "              deadline  ...  \\\n",
       "0  2014-02-08 22:37:26  ...   \n",
       "1  2019-03-05 16:00:11  ...   \n",
       "2  2016-12-01 15:58:50  ...   \n",
       "3  2018-12-08 22:59:00  ...   \n",
       "4  2015-04-08 16:36:57  ...   \n",
       "\n",
       "                                     project_address  \\\n",
       "0  https://www.kickstarter.com/projects/149592564...   \n",
       "1  https://www.kickstarter.com/projects/freckledd...   \n",
       "2  https://www.kickstarter.com/projects/119685626...   \n",
       "3  https://www.kickstarter.com/projects/wearewao/...   \n",
       "4  https://www.kickstarter.com/projects/187084538...   \n",
       "\n",
       "                                       profile_photo   creator_name  \\\n",
       "0  https://ksr-ugc.imgix.net/assets/011/625/534/5...         Daniel   \n",
       "1  https://ksr-ugc.imgix.net/assets/024/033/030/d...      Katherine   \n",
       "2  https://ksr-ugc.imgix.net/assets/014/262/672/9...  MelissaThomas   \n",
       "3  https://ksr-ugc.imgix.net/assets/023/008/626/a...            WAO   \n",
       "4  https://ksr-ugc.imgix.net/assets/012/061/410/1...    Kalpit Jain   \n",
       "\n",
       "   creator_id                                      creator_thumb  \\\n",
       "0  1495925645  https://ksr-ugc.imgix.net/assets/006/041/047/c...   \n",
       "1  1175589980  https://ksr-ugc.imgix.net/assets/023/302/489/4...   \n",
       "2  1196856269  https://ksr-ugc.imgix.net/assets/014/275/164/5...   \n",
       "3  1569700626  https://ksr-ugc.imgix.net/assets/023/008/808/d...   \n",
       "4  1870845385  https://ksr-ugc.imgix.net/assets/008/757/546/9...   \n",
       "\n",
       "                                     creator_address main_category  \\\n",
       "0     https://www.kickstarter.com/profile/1495925645         music   \n",
       "1  https://www.kickstarter.com/profile/freckleddi...           art   \n",
       "2     https://www.kickstarter.com/profile/1196856269   photography   \n",
       "3       https://www.kickstarter.com/profile/wearewao       fashion   \n",
       "4     https://www.kickstarter.com/profile/1870845385    technology   \n",
       "\n",
       "   sub_category state_bool baseline  \n",
       "0          rock        1.0        1  \n",
       "1   mixed media        1.0        1  \n",
       "2    photobooks        1.0        0  \n",
       "3      footwear        1.0        1  \n",
       "4      software        0.0        0  \n",
       "\n",
       "[5 rows x 45 columns]"
      ]
     },
     "execution_count": 136,
     "metadata": {},
     "output_type": "execute_result"
    }
   ],
   "source": [
    "frame_all.head()"
   ]
  },
  {
   "cell_type": "code",
   "execution_count": 138,
   "metadata": {},
   "outputs": [],
   "source": [
    "df['conv-pledged'] = df['converted_pledged_amount'] - df['usd_pledged']"
   ]
  },
  {
   "cell_type": "code",
   "execution_count": 141,
   "metadata": {},
   "outputs": [
    {
     "data": {
      "text/plain": [
       "0        0.000000\n",
       "1        0.000000\n",
       "2        0.000000\n",
       "3        0.000000\n",
       "4        0.000000\n",
       "          ...    \n",
       "3781     0.000000\n",
       "3782     0.000000\n",
       "3783    -0.289238\n",
       "3784   -10.353630\n",
       "3785     0.000000\n",
       "Name: conv-pledged, Length: 3786, dtype: float64"
      ]
     },
     "execution_count": 141,
     "metadata": {},
     "output_type": "execute_result"
    }
   ],
   "source": [
    "df['conv-pledged']"
   ]
  },
  {
   "cell_type": "code",
   "execution_count": 5,
   "metadata": {},
   "outputs": [
    {
     "data": {
      "text/plain": [
       "<AxesSubplot:xlabel='state', ylabel='count'>"
      ]
     },
     "execution_count": 5,
     "metadata": {},
     "output_type": "execute_result"
    },
    {
     "data": {
      "image/png": "[encoded data removed]",
      "text/plain": [
       "<Figure size 432x288 with 1 Axes>"
      ]
     },
     "metadata": {
      "needs_background": "light"
     },
     "output_type": "display_data"
    }
   ],
   "source": [
    "sns.countplot('state', data=frame_all, hue='staff_pick')"
   ]
  },
  {
   "cell_type": "code",
   "execution_count": 6,
   "metadata": {},
   "outputs": [
    {
     "data": {
      "text/plain": [
       "<AxesSubplot:xlabel='state', ylabel='count'>"
      ]
     },
     "execution_count": 6,
     "metadata": {},
     "output_type": "execute_result"
    },
    {
     "data": {
      "image/png": "[encoded data removed]",
      "text/plain": [
       "<Figure size 432x288 with 1 Axes>"
      ]
     },
     "metadata": {
      "needs_background": "light"
     },
     "output_type": "display_data"
    }
   ],
   "source": [
    "sns.countplot('state', data=frame_all)"
   ]
  },
  {
   "cell_type": "code",
   "execution_count": 112,
   "metadata": {},
   "outputs": [
    {
     "data": {
      "text/plain": [
       "<AxesSubplot:xlabel='state', ylabel='count'>"
      ]
     },
     "execution_count": 112,
     "metadata": {},
     "output_type": "execute_result"
    },
    {
     "data": {
      "image/png": "[encoded data removed]",
      "text/plain": [
       "<Figure size 432x288 with 1 Axes>"
      ]
     },
     "metadata": {
      "needs_background": "light"
     },
     "output_type": "display_data"
    }
   ],
   "source": [
    "sns.countplot('state', data=frame_all, hue='spotlight')"
   ]
  },
  {
   "cell_type": "code",
   "execution_count": 144,
   "metadata": {},
   "outputs": [],
   "source": [
    "df['pledg-usd_pledg'] = df['pledged'] - df['usd_pledged']"
   ]
  },
  {
   "cell_type": "code",
   "execution_count": 178,
   "metadata": {},
   "outputs": [
    {
     "data": {
      "text/html": [
       "<div>\n",
       "<style scoped>\n",
       "    .dataframe tbody tr th:only-of-type {\n",
       "        vertical-align: middle;\n",
       "    }\n",
       "\n",
       "    .dataframe tbody tr th {\n",
       "        vertical-align: top;\n",
       "    }\n",
       "\n",
       "    .dataframe thead th {\n",
       "        text-align: right;\n",
       "    }\n",
       "</style>\n",
       "<table border=\"1\" class=\"dataframe\">\n",
       "  <thead>\n",
       "    <tr style=\"text-align: right;\">\n",
       "      <th></th>\n",
       "      <th>backers_count</th>\n",
       "      <th>blurb</th>\n",
       "      <th>category</th>\n",
       "      <th>converted_pledged_amount</th>\n",
       "      <th>country</th>\n",
       "      <th>created_at</th>\n",
       "      <th>creator</th>\n",
       "      <th>currency</th>\n",
       "      <th>currency_symbol</th>\n",
       "      <th>currency_trailing_code</th>\n",
       "      <th>...</th>\n",
       "      <th>spotlight</th>\n",
       "      <th>staff_pick</th>\n",
       "      <th>state</th>\n",
       "      <th>state_changed_at</th>\n",
       "      <th>static_usd_rate</th>\n",
       "      <th>urls</th>\n",
       "      <th>usd_pledged</th>\n",
       "      <th>usd_type</th>\n",
       "      <th>conv-pledged</th>\n",
       "      <th>pledg-usd_pledg</th>\n",
       "    </tr>\n",
       "  </thead>\n",
       "  <tbody>\n",
       "    <tr>\n",
       "      <th>2130</th>\n",
       "      <td>1754</td>\n",
       "      <td>Black Rock Shooter Creator \"huke\" Produced \"LM...</td>\n",
       "      <td>{\"id\":28,\"name\":\"Product Design\",\"slug\":\"desig...</td>\n",
       "      <td>473187</td>\n",
       "      <td>JP</td>\n",
       "      <td>1525669820</td>\n",
       "      <td>{\"id\":992618958,\"name\":\"TRIKT\",\"is_registered\"...</td>\n",
       "      <td>JPY</td>\n",
       "      <td>¥</td>\n",
       "      <td>False</td>\n",
       "      <td>...</td>\n",
       "      <td>True</td>\n",
       "      <td>True</td>\n",
       "      <td>successful</td>\n",
       "      <td>1530406865</td>\n",
       "      <td>0.009208</td>\n",
       "      <td>{\"web\":{\"project\":\"https://www.kickstarter.com...</td>\n",
       "      <td>482492.927754</td>\n",
       "      <td>international</td>\n",
       "      <td>-9305.927754</td>\n",
       "      <td>5.191922e+07</td>\n",
       "    </tr>\n",
       "    <tr>\n",
       "      <th>3722</th>\n",
       "      <td>221</td>\n",
       "      <td>An international craft school in Kyoto, Japan,...</td>\n",
       "      <td>{\"id\":356,\"name\":\"Woodworking\",\"slug\":\"crafts/...</td>\n",
       "      <td>33779</td>\n",
       "      <td>JP</td>\n",
       "      <td>1517993169</td>\n",
       "      <td>{\"id\":1911438091,\"name\":\"Takami Kawai   河井 尊臣\"...</td>\n",
       "      <td>JPY</td>\n",
       "      <td>¥</td>\n",
       "      <td>False</td>\n",
       "      <td>...</td>\n",
       "      <td>True</td>\n",
       "      <td>True</td>\n",
       "      <td>successful</td>\n",
       "      <td>1521172251</td>\n",
       "      <td>0.009337</td>\n",
       "      <td>{\"web\":{\"project\":\"https://www.kickstarter.com...</td>\n",
       "      <td>33438.872934</td>\n",
       "      <td>international</td>\n",
       "      <td>340.127066</td>\n",
       "      <td>3.547994e+06</td>\n",
       "    </tr>\n",
       "    <tr>\n",
       "      <th>626</th>\n",
       "      <td>118</td>\n",
       "      <td>Hand crafted richness for a reasonable price.</td>\n",
       "      <td>{\"id\":266,\"name\":\"Footwear\",\"slug\":\"fashion/fo...</td>\n",
       "      <td>11224</td>\n",
       "      <td>JP</td>\n",
       "      <td>1508235887</td>\n",
       "      <td>{\"id\":557662762,\"name\":\"proef\",\"is_registered\"...</td>\n",
       "      <td>JPY</td>\n",
       "      <td>¥</td>\n",
       "      <td>False</td>\n",
       "      <td>...</td>\n",
       "      <td>True</td>\n",
       "      <td>True</td>\n",
       "      <td>successful</td>\n",
       "      <td>1512373906</td>\n",
       "      <td>0.008771</td>\n",
       "      <td>{\"web\":{\"project\":\"https://www.kickstarter.com...</td>\n",
       "      <td>11103.731520</td>\n",
       "      <td>international</td>\n",
       "      <td>120.268480</td>\n",
       "      <td>1.254896e+06</td>\n",
       "    </tr>\n",
       "    <tr>\n",
       "      <th>2623</th>\n",
       "      <td>46</td>\n",
       "      <td>The goal of the game is to build the tallest b...</td>\n",
       "      <td>{\"id\":34,\"name\":\"Tabletop Games\",\"slug\":\"games...</td>\n",
       "      <td>2680</td>\n",
       "      <td>JP</td>\n",
       "      <td>1540445597</td>\n",
       "      <td>{\"id\":2039314666,\"name\":\"Mitsuo Yamamoto\",\"is_...</td>\n",
       "      <td>JPY</td>\n",
       "      <td>¥</td>\n",
       "      <td>False</td>\n",
       "      <td>...</td>\n",
       "      <td>True</td>\n",
       "      <td>False</td>\n",
       "      <td>successful</td>\n",
       "      <td>1544490549</td>\n",
       "      <td>0.008851</td>\n",
       "      <td>{\"web\":{\"project\":\"https://www.kickstarter.com...</td>\n",
       "      <td>2667.921763</td>\n",
       "      <td>international</td>\n",
       "      <td>12.078237</td>\n",
       "      <td>2.987411e+05</td>\n",
       "    </tr>\n",
       "    <tr>\n",
       "      <th>1720</th>\n",
       "      <td>637</td>\n",
       "      <td>Tracks your heart-rate, analyzes your sleep qu...</td>\n",
       "      <td>{\"id\":341,\"name\":\"Wearables\",\"slug\":\"technolog...</td>\n",
       "      <td>43215</td>\n",
       "      <td>HK</td>\n",
       "      <td>1521177704</td>\n",
       "      <td>{\"id\":1237640011,\"name\":\"BozGo\",\"is_registered...</td>\n",
       "      <td>HKD</td>\n",
       "      <td>$</td>\n",
       "      <td>True</td>\n",
       "      <td>...</td>\n",
       "      <td>True</td>\n",
       "      <td>False</td>\n",
       "      <td>successful</td>\n",
       "      <td>1525017513</td>\n",
       "      <td>0.127452</td>\n",
       "      <td>{\"web\":{\"project\":\"https://www.kickstarter.com...</td>\n",
       "      <td>43227.592452</td>\n",
       "      <td>international</td>\n",
       "      <td>-12.592452</td>\n",
       "      <td>2.959404e+05</td>\n",
       "    </tr>\n",
       "    <tr>\n",
       "      <th>...</th>\n",
       "      <td>...</td>\n",
       "      <td>...</td>\n",
       "      <td>...</td>\n",
       "      <td>...</td>\n",
       "      <td>...</td>\n",
       "      <td>...</td>\n",
       "      <td>...</td>\n",
       "      <td>...</td>\n",
       "      <td>...</td>\n",
       "      <td>...</td>\n",
       "      <td>...</td>\n",
       "      <td>...</td>\n",
       "      <td>...</td>\n",
       "      <td>...</td>\n",
       "      <td>...</td>\n",
       "      <td>...</td>\n",
       "      <td>...</td>\n",
       "      <td>...</td>\n",
       "      <td>...</td>\n",
       "      <td>...</td>\n",
       "      <td>...</td>\n",
       "    </tr>\n",
       "    <tr>\n",
       "      <th>1581</th>\n",
       "      <td>3892</td>\n",
       "      <td>Smart interdental cleaning! Thanks to its feel...</td>\n",
       "      <td>{\"id\":28,\"name\":\"Product Design\",\"slug\":\"desig...</td>\n",
       "      <td>116997</td>\n",
       "      <td>DE</td>\n",
       "      <td>1516370898</td>\n",
       "      <td>{\"id\":2106362391,\"name\":\"Louis, Marc &amp; Burak\",...</td>\n",
       "      <td>EUR</td>\n",
       "      <td>€</td>\n",
       "      <td>False</td>\n",
       "      <td>...</td>\n",
       "      <td>True</td>\n",
       "      <td>False</td>\n",
       "      <td>successful</td>\n",
       "      <td>1524150035</td>\n",
       "      <td>1.227155</td>\n",
       "      <td>{\"web\":{\"project\":\"https://www.kickstarter.com...</td>\n",
       "      <td>115985.780090</td>\n",
       "      <td>international</td>\n",
       "      <td>1011.219910</td>\n",
       "      <td>-2.146978e+04</td>\n",
       "    </tr>\n",
       "    <tr>\n",
       "      <th>2413</th>\n",
       "      <td>1228</td>\n",
       "      <td>Black Hallows Townsfolk, a range of 28mm or 32...</td>\n",
       "      <td>{\"id\":34,\"name\":\"Tabletop Games\",\"slug\":\"games...</td>\n",
       "      <td>101715</td>\n",
       "      <td>GB</td>\n",
       "      <td>1535453174</td>\n",
       "      <td>{\"id\":147900702,\"name\":\"Jon Stynes\",\"is_regist...</td>\n",
       "      <td>GBP</td>\n",
       "      <td>£</td>\n",
       "      <td>False</td>\n",
       "      <td>...</td>\n",
       "      <td>True</td>\n",
       "      <td>False</td>\n",
       "      <td>successful</td>\n",
       "      <td>1538396701</td>\n",
       "      <td>1.303302</td>\n",
       "      <td>{\"web\":{\"project\":\"https://www.kickstarter.com...</td>\n",
       "      <td>101731.827041</td>\n",
       "      <td>international</td>\n",
       "      <td>-16.827041</td>\n",
       "      <td>-2.367483e+04</td>\n",
       "    </tr>\n",
       "    <tr>\n",
       "      <th>2841</th>\n",
       "      <td>1203</td>\n",
       "      <td>Pro Pinball: Timeshock! remade from scratch an...</td>\n",
       "      <td>{\"id\":35,\"name\":\"Video Games\",\"slug\":\"games/vi...</td>\n",
       "      <td>78349</td>\n",
       "      <td>GB</td>\n",
       "      <td>1362497177</td>\n",
       "      <td>{\"id\":500643708,\"name\":\"Barnstorm Games\",\"is_r...</td>\n",
       "      <td>GBP</td>\n",
       "      <td>£</td>\n",
       "      <td>False</td>\n",
       "      <td>...</td>\n",
       "      <td>True</td>\n",
       "      <td>False</td>\n",
       "      <td>successful</td>\n",
       "      <td>1379188835</td>\n",
       "      <td>1.533599</td>\n",
       "      <td>{\"web\":{\"project\":\"https://www.kickstarter.com...</td>\n",
       "      <td>75682.351784</td>\n",
       "      <td>international</td>\n",
       "      <td>2666.648216</td>\n",
       "      <td>-2.633284e+04</td>\n",
       "    </tr>\n",
       "    <tr>\n",
       "      <th>2534</th>\n",
       "      <td>1226</td>\n",
       "      <td>Finally, a toy you can have a real conversatio...</td>\n",
       "      <td>{\"id\":52,\"name\":\"Hardware\",\"slug\":\"technology/...</td>\n",
       "      <td>106403</td>\n",
       "      <td>GB</td>\n",
       "      <td>1372675554</td>\n",
       "      <td>{\"id\":2117525416,\"name\":\"Supertoy Robotics\",\"i...</td>\n",
       "      <td>GBP</td>\n",
       "      <td>£</td>\n",
       "      <td>False</td>\n",
       "      <td>...</td>\n",
       "      <td>True</td>\n",
       "      <td>False</td>\n",
       "      <td>successful</td>\n",
       "      <td>1377213479</td>\n",
       "      <td>1.528141</td>\n",
       "      <td>{\"web\":{\"project\":\"https://www.kickstarter.com...</td>\n",
       "      <td>104098.473306</td>\n",
       "      <td>international</td>\n",
       "      <td>2304.526694</td>\n",
       "      <td>-3.597747e+04</td>\n",
       "    </tr>\n",
       "    <tr>\n",
       "      <th>1728</th>\n",
       "      <td>805</td>\n",
       "      <td>Unique opportunity to get your hands on our fl...</td>\n",
       "      <td>{\"id\":28,\"name\":\"Product Design\",\"slug\":\"desig...</td>\n",
       "      <td>577488</td>\n",
       "      <td>IT</td>\n",
       "      <td>1525422466</td>\n",
       "      <td>{\"id\":975712226,\"name\":\"Meccaniche Veneziane T...</td>\n",
       "      <td>EUR</td>\n",
       "      <td>€</td>\n",
       "      <td>False</td>\n",
       "      <td>...</td>\n",
       "      <td>True</td>\n",
       "      <td>False</td>\n",
       "      <td>successful</td>\n",
       "      <td>1538398792</td>\n",
       "      <td>1.166383</td>\n",
       "      <td>{\"web\":{\"project\":\"https://www.kickstarter.com...</td>\n",
       "      <td>580844.951539</td>\n",
       "      <td>international</td>\n",
       "      <td>-3356.951539</td>\n",
       "      <td>-8.285695e+04</td>\n",
       "    </tr>\n",
       "  </tbody>\n",
       "</table>\n",
       "<p>1870 rows × 39 columns</p>\n",
       "</div>"
      ],
      "text/plain": [
       "      backers_count                                              blurb  \\\n",
       "2130           1754  Black Rock Shooter Creator \"huke\" Produced \"LM...   \n",
       "3722            221  An international craft school in Kyoto, Japan,...   \n",
       "626             118      Hand crafted richness for a reasonable price.   \n",
       "2623             46  The goal of the game is to build the tallest b...   \n",
       "1720            637  Tracks your heart-rate, analyzes your sleep qu...   \n",
       "...             ...                                                ...   \n",
       "1581           3892  Smart interdental cleaning! Thanks to its feel...   \n",
       "2413           1228  Black Hallows Townsfolk, a range of 28mm or 32...   \n",
       "2841           1203  Pro Pinball: Timeshock! remade from scratch an...   \n",
       "2534           1226  Finally, a toy you can have a real conversatio...   \n",
       "1728            805  Unique opportunity to get your hands on our fl...   \n",
       "\n",
       "                                               category  \\\n",
       "2130  {\"id\":28,\"name\":\"Product Design\",\"slug\":\"desig...   \n",
       "3722  {\"id\":356,\"name\":\"Woodworking\",\"slug\":\"crafts/...   \n",
       "626   {\"id\":266,\"name\":\"Footwear\",\"slug\":\"fashion/fo...   \n",
       "2623  {\"id\":34,\"name\":\"Tabletop Games\",\"slug\":\"games...   \n",
       "1720  {\"id\":341,\"name\":\"Wearables\",\"slug\":\"technolog...   \n",
       "...                                                 ...   \n",
       "1581  {\"id\":28,\"name\":\"Product Design\",\"slug\":\"desig...   \n",
       "2413  {\"id\":34,\"name\":\"Tabletop Games\",\"slug\":\"games...   \n",
       "2841  {\"id\":35,\"name\":\"Video Games\",\"slug\":\"games/vi...   \n",
       "2534  {\"id\":52,\"name\":\"Hardware\",\"slug\":\"technology/...   \n",
       "1728  {\"id\":28,\"name\":\"Product Design\",\"slug\":\"desig...   \n",
       "\n",
       "      converted_pledged_amount country  created_at  \\\n",
       "2130                    473187      JP  1525669820   \n",
       "3722                     33779      JP  1517993169   \n",
       "626                      11224      JP  1508235887   \n",
       "2623                      2680      JP  1540445597   \n",
       "1720                     43215      HK  1521177704   \n",
       "...                        ...     ...         ...   \n",
       "1581                    116997      DE  1516370898   \n",
       "2413                    101715      GB  1535453174   \n",
       "2841                     78349      GB  1362497177   \n",
       "2534                    106403      GB  1372675554   \n",
       "1728                    577488      IT  1525422466   \n",
       "\n",
       "                                                creator currency  \\\n",
       "2130  {\"id\":992618958,\"name\":\"TRIKT\",\"is_registered\"...      JPY   \n",
       "3722  {\"id\":1911438091,\"name\":\"Takami Kawai   河井 尊臣\"...      JPY   \n",
       "626   {\"id\":557662762,\"name\":\"proef\",\"is_registered\"...      JPY   \n",
       "2623  {\"id\":2039314666,\"name\":\"Mitsuo Yamamoto\",\"is_...      JPY   \n",
       "1720  {\"id\":1237640011,\"name\":\"BozGo\",\"is_registered...      HKD   \n",
       "...                                                 ...      ...   \n",
       "1581  {\"id\":2106362391,\"name\":\"Louis, Marc & Burak\",...      EUR   \n",
       "2413  {\"id\":147900702,\"name\":\"Jon Stynes\",\"is_regist...      GBP   \n",
       "2841  {\"id\":500643708,\"name\":\"Barnstorm Games\",\"is_r...      GBP   \n",
       "2534  {\"id\":2117525416,\"name\":\"Supertoy Robotics\",\"i...      GBP   \n",
       "1728  {\"id\":975712226,\"name\":\"Meccaniche Veneziane T...      EUR   \n",
       "\n",
       "     currency_symbol  currency_trailing_code  ... spotlight  staff_pick  \\\n",
       "2130               ¥                   False  ...      True        True   \n",
       "3722               ¥                   False  ...      True        True   \n",
       "626                ¥                   False  ...      True        True   \n",
       "2623               ¥                   False  ...      True       False   \n",
       "1720               $                    True  ...      True       False   \n",
       "...              ...                     ...  ...       ...         ...   \n",
       "1581               €                   False  ...      True       False   \n",
       "2413               £                   False  ...      True       False   \n",
       "2841               £                   False  ...      True       False   \n",
       "2534               £                   False  ...      True       False   \n",
       "1728               €                   False  ...      True       False   \n",
       "\n",
       "           state state_changed_at  static_usd_rate  \\\n",
       "2130  successful       1530406865         0.009208   \n",
       "3722  successful       1521172251         0.009337   \n",
       "626   successful       1512373906         0.008771   \n",
       "2623  successful       1544490549         0.008851   \n",
       "1720  successful       1525017513         0.127452   \n",
       "...          ...              ...              ...   \n",
       "1581  successful       1524150035         1.227155   \n",
       "2413  successful       1538396701         1.303302   \n",
       "2841  successful       1379188835         1.533599   \n",
       "2534  successful       1377213479         1.528141   \n",
       "1728  successful       1538398792         1.166383   \n",
       "\n",
       "                                                   urls    usd_pledged  \\\n",
       "2130  {\"web\":{\"project\":\"https://www.kickstarter.com...  482492.927754   \n",
       "3722  {\"web\":{\"project\":\"https://www.kickstarter.com...   33438.872934   \n",
       "626   {\"web\":{\"project\":\"https://www.kickstarter.com...   11103.731520   \n",
       "2623  {\"web\":{\"project\":\"https://www.kickstarter.com...    2667.921763   \n",
       "1720  {\"web\":{\"project\":\"https://www.kickstarter.com...   43227.592452   \n",
       "...                                                 ...            ...   \n",
       "1581  {\"web\":{\"project\":\"https://www.kickstarter.com...  115985.780090   \n",
       "2413  {\"web\":{\"project\":\"https://www.kickstarter.com...  101731.827041   \n",
       "2841  {\"web\":{\"project\":\"https://www.kickstarter.com...   75682.351784   \n",
       "2534  {\"web\":{\"project\":\"https://www.kickstarter.com...  104098.473306   \n",
       "1728  {\"web\":{\"project\":\"https://www.kickstarter.com...  580844.951539   \n",
       "\n",
       "           usd_type  conv-pledged pledg-usd_pledg  \n",
       "2130  international  -9305.927754    5.191922e+07  \n",
       "3722  international    340.127066    3.547994e+06  \n",
       "626   international    120.268480    1.254896e+06  \n",
       "2623  international     12.078237    2.987411e+05  \n",
       "1720  international    -12.592452    2.959404e+05  \n",
       "...             ...           ...             ...  \n",
       "1581  international   1011.219910   -2.146978e+04  \n",
       "2413  international    -16.827041   -2.367483e+04  \n",
       "2841  international   2666.648216   -2.633284e+04  \n",
       "2534  international   2304.526694   -3.597747e+04  \n",
       "1728  international  -3356.951539   -8.285695e+04  \n",
       "\n",
       "[1870 rows x 39 columns]"
      ]
     },
     "metadata": {},
     "output_type": "display_data"
    }
   ],
   "source": [
    "display(df[df['usd_type']=='international'].sort_values('pledg-usd_pledg', ascending=False))"
   ]
  },
  {
   "cell_type": "code",
   "execution_count": 113,
   "metadata": {},
   "outputs": [
    {
     "data": {
      "text/plain": [
       "<AxesSubplot:xlabel='converted_pledged_amount', ylabel='usd_pledged'>"
      ]
     },
     "execution_count": 113,
     "metadata": {},
     "output_type": "execute_result"
    },
    {
     "data": {
      "image/png": "[encoded data removed]",
      "text/plain": [
       "<Figure size 1440x720 with 1 Axes>"
      ]
     },
     "metadata": {
      "needs_background": "light"
     },
     "output_type": "display_data"
    }
   ],
   "source": [
    "fig = plt.figure(figsize=(20, 10))\n",
    "sns.scatterplot('converted_pledged_amount', 'usd_pledged', hue='current_currency', data=frame_all)\n",
    "\n",
    "# RESULT: 'converted_pledged_amount' and 'usd_pledged'seem to deliver in most cases the same numbers."
   ]
  },
  {
   "cell_type": "code",
   "execution_count": 114,
   "metadata": {},
   "outputs": [
    {
     "data": {
      "text/plain": [
       "<AxesSubplot:xlabel='pledged', ylabel='usd_pledged'>"
      ]
     },
     "execution_count": 114,
     "metadata": {},
     "output_type": "execute_result"
    },
    {
     "data": {
      "image/png": "[encoded data removed]",
      "text/plain": [
       "<Figure size 1440x720 with 1 Axes>"
      ]
     },
     "metadata": {
      "needs_background": "light"
     },
     "output_type": "display_data"
    }
   ],
   "source": [
    "fig = plt.figure(figsize=(20, 10))\n",
    "sns.scatterplot('pledged', 'usd_pledged', hue='currency', data=frame_all)\n",
    "\n",
    "# RESULT: 'pledged' and 'usd_pledged'do not deliver the same absolute numbers, since sometimes different currencies are shown.\n",
    "# See for example the observation on the bottom right, which seems to be a campaign in JPN YEN, which is much smaller in USD.\n",
    "# NOT use 'pledged' in model\n",
    "# Use 'pledged' only for comparing with 'goal'variable in order to calculate surpass or not surpassed goals."
   ]
  },
  {
   "cell_type": "code",
   "execution_count": 115,
   "metadata": {},
   "outputs": [
    {
     "data": {
      "text/plain": [
       "Unnamed: 0                                                               1719\n",
       "backers_count                                                           12613\n",
       "blurb                       The Good Life is a new video game co-developed...\n",
       "converted_pledged_amount                                               743538\n",
       "country                                                                    JP\n",
       "created_at                                                2017-12-18 02:31:05\n",
       "currency                                                                  JPY\n",
       "currency_symbol                                                             ¥\n",
       "currency_trailing_code                                                  False\n",
       "current_currency                                                          USD\n",
       "deadline                                                  2018-05-05 00:00:00\n",
       "disable_communication                                                   False\n",
       "fx_rate                                                              0.008966\n",
       "goal                                                               68000000.0\n",
       "id                                                                  128197700\n",
       "is_starrable                                                            False\n",
       "launched_at                                               2018-03-26 17:02:00\n",
       "name                                                            The Good Life\n",
       "pledged                                                            81030744.0\n",
       "slug                                                            the-good-life\n",
       "source_url                  https://www.kickstarter.com/discover/categorie...\n",
       "spotlight                                                                True\n",
       "staff_pick                                                               True\n",
       "state                                                              successful\n",
       "state_changed_at                                          2018-05-05 00:00:01\n",
       "static_usd_rate                                                      0.009548\n",
       "usd_pledged                                                       773674.2509\n",
       "usd_type                                                        international\n",
       "cat_name                                                          Video Games\n",
       "cat_slug                                                    games/video games\n",
       "loc_name                                                                Osaka\n",
       "loc_country                                                                JP\n",
       "loc_state                                                 Ishikawa Prefecture\n",
       "loc_type                                                           LocalAdmin\n",
       "photo_thumb                 https://ksr-ugc.imgix.net/assets/020/008/155/a...\n",
       "photo_large                 https://ksr-ugc.imgix.net/assets/020/008/155/a...\n",
       "project_address             https://www.kickstarter.com/projects/476090608...\n",
       "profile_photo               https://ksr-ugc.imgix.net/assets/023/889/576/1...\n",
       "creator_name                                                  White Owls Inc.\n",
       "creator_id                                                          476090608\n",
       "creator_thumb               https://ksr-ugc.imgix.net/assets/019/629/368/6...\n",
       "creator_address                 https://www.kickstarter.com/profile/476090608\n",
       "main_category                                                           games\n",
       "sub_category                                                      video games\n",
       "state_bool                                                                1.0\n",
       "baseline                                                                    1\n",
       "Name: 1585, dtype: object"
      ]
     },
     "execution_count": 115,
     "metadata": {},
     "output_type": "execute_result"
    }
   ],
   "source": [
    "frame_all.iloc[frame_all['pledged'].idxmax()] "
   ]
  },
  {
   "cell_type": "code",
   "execution_count": 117,
   "metadata": {},
   "outputs": [
    {
     "data": {
      "text/plain": [
       "<AxesSubplot:xlabel='goal', ylabel='usd_pledged'>"
      ]
     },
     "execution_count": 117,
     "metadata": {},
     "output_type": "execute_result"
    },
    {
     "data": {
      "image/png": "[encoded data removed]",
      "text/plain": [
       "<Figure size 1440x720 with 1 Axes>"
      ]
     },
     "metadata": {
      "needs_background": "light"
     },
     "output_type": "display_data"
    }
   ],
   "source": [
    "fig = plt.figure(figsize=(20, 10))\n",
    "sns.scatterplot('goal', 'usd_pledged', hue='state', data=frame_all)"
   ]
  },
  {
   "cell_type": "code",
   "execution_count": 118,
   "metadata": {},
   "outputs": [
    {
     "data": {
      "text/html": [
       "<div>\n",
       "<style scoped>\n",
       "    .dataframe tbody tr th:only-of-type {\n",
       "        vertical-align: middle;\n",
       "    }\n",
       "\n",
       "    .dataframe tbody tr th {\n",
       "        vertical-align: top;\n",
       "    }\n",
       "\n",
       "    .dataframe thead th {\n",
       "        text-align: right;\n",
       "    }\n",
       "</style>\n",
       "<table border=\"1\" class=\"dataframe\">\n",
       "  <thead>\n",
       "    <tr style=\"text-align: right;\">\n",
       "      <th></th>\n",
       "      <th>Unnamed: 0</th>\n",
       "      <th>backers_count</th>\n",
       "      <th>converted_pledged_amount</th>\n",
       "      <th>currency_trailing_code</th>\n",
       "      <th>disable_communication</th>\n",
       "      <th>fx_rate</th>\n",
       "      <th>goal</th>\n",
       "      <th>id</th>\n",
       "      <th>is_starrable</th>\n",
       "      <th>pledged</th>\n",
       "      <th>spotlight</th>\n",
       "      <th>staff_pick</th>\n",
       "      <th>static_usd_rate</th>\n",
       "      <th>usd_pledged</th>\n",
       "      <th>creator_id</th>\n",
       "      <th>state_bool</th>\n",
       "      <th>baseline</th>\n",
       "    </tr>\n",
       "    <tr>\n",
       "      <th>state</th>\n",
       "      <th></th>\n",
       "      <th></th>\n",
       "      <th></th>\n",
       "      <th></th>\n",
       "      <th></th>\n",
       "      <th></th>\n",
       "      <th></th>\n",
       "      <th></th>\n",
       "      <th></th>\n",
       "      <th></th>\n",
       "      <th></th>\n",
       "      <th></th>\n",
       "      <th></th>\n",
       "      <th></th>\n",
       "      <th></th>\n",
       "      <th></th>\n",
       "      <th></th>\n",
       "    </tr>\n",
       "  </thead>\n",
       "  <tbody>\n",
       "    <tr>\n",
       "      <th>failed</th>\n",
       "      <td>104062.635568</td>\n",
       "      <td>12.311659</td>\n",
       "      <td>1093.026359</td>\n",
       "      <td>0.811140</td>\n",
       "      <td>0.0</td>\n",
       "      <td>0.991108</td>\n",
       "      <td>93559.720535</td>\n",
       "      <td>1.072412e+09</td>\n",
       "      <td>0.0</td>\n",
       "      <td>1619.362907</td>\n",
       "      <td>0.0</td>\n",
       "      <td>0.030352</td>\n",
       "      <td>1.010286</td>\n",
       "      <td>1094.499354</td>\n",
       "      <td>1.075015e+09</td>\n",
       "      <td>0.0</td>\n",
       "      <td>0.598942</td>\n",
       "    </tr>\n",
       "    <tr>\n",
       "      <th>successful</th>\n",
       "      <td>96239.511214</td>\n",
       "      <td>240.337140</td>\n",
       "      <td>20743.456587</td>\n",
       "      <td>0.838827</td>\n",
       "      <td>0.0</td>\n",
       "      <td>1.000928</td>\n",
       "      <td>12960.477943</td>\n",
       "      <td>1.073433e+09</td>\n",
       "      <td>0.0</td>\n",
       "      <td>28306.564273</td>\n",
       "      <td>1.0</td>\n",
       "      <td>0.204560</td>\n",
       "      <td>1.017882</td>\n",
       "      <td>20760.766856</td>\n",
       "      <td>1.074254e+09</td>\n",
       "      <td>1.0</td>\n",
       "      <td>0.829574</td>\n",
       "    </tr>\n",
       "  </tbody>\n",
       "</table>\n",
       "</div>"
      ],
      "text/plain": [
       "               Unnamed: 0  backers_count  converted_pledged_amount  \\\n",
       "state                                                                \n",
       "failed      104062.635568      12.311659               1093.026359   \n",
       "successful   96239.511214     240.337140              20743.456587   \n",
       "\n",
       "            currency_trailing_code  disable_communication   fx_rate  \\\n",
       "state                                                                 \n",
       "failed                    0.811140                    0.0  0.991108   \n",
       "successful                0.838827                    0.0  1.000928   \n",
       "\n",
       "                    goal            id  is_starrable       pledged  spotlight  \\\n",
       "state                                                                           \n",
       "failed      93559.720535  1.072412e+09           0.0   1619.362907        0.0   \n",
       "successful  12960.477943  1.073433e+09           0.0  28306.564273        1.0   \n",
       "\n",
       "            staff_pick  static_usd_rate   usd_pledged    creator_id  \\\n",
       "state                                                                 \n",
       "failed        0.030352         1.010286   1094.499354  1.075015e+09   \n",
       "successful    0.204560         1.017882  20760.766856  1.074254e+09   \n",
       "\n",
       "            state_bool  baseline  \n",
       "state                             \n",
       "failed             0.0  0.598942  \n",
       "successful         1.0  0.829574  "
      ]
     },
     "execution_count": 118,
     "metadata": {},
     "output_type": "execute_result"
    }
   ],
   "source": [
    "frame_all.groupby('state').mean()"
   ]
  },
  {
   "cell_type": "code",
   "execution_count": 149,
   "metadata": {},
   "outputs": [],
   "source": [
    "# Calculate amount of surpass or not surpass (pledged - goal)\n",
    "frame_all['goal_surpass'] = frame_all['pledged'] - frame_all['goal']\n",
    "# Calculate share of surpassing or not surpassing\n",
    "frame_all['goal_surpass_share'] = frame_all['goal_surpass'] / frame_all['goal']\n",
    "# Convert goal_surpass into USD\n",
    "frame_all['goal_surpass_usd'] = frame_all['goal_surpass'] * frame_all['static_usd_rate']\n",
    "# Convert goal into USD\n",
    "frame_all['goal_usd'] = frame_all['goal'] * frame_all['static_usd_rate']\n",
    "\n",
    "# JUST FOR DOUBLE CHECKING THE RESULTS:\n",
    "# Calculate amount of surpass or not surpass in USD for check (usd_pledged - goal_usd)\n",
    "frame_all['goal_surpass_usd_check'] = frame_all['usd_pledged'] - frame_all['goal_usd']\n",
    "# Calculate share of surpassing or not surpassing of the USD check\n",
    "frame_all['goal_surpass_share_usd'] = frame_all['goal_surpass_usd_check'] / frame_all['goal_usd']\n"
   ]
  },
  {
   "cell_type": "code",
   "execution_count": 150,
   "metadata": {},
   "outputs": [
    {
     "data": {
      "text/plain": [
       "2.4387541347862918e-08"
      ]
     },
     "execution_count": 150,
     "metadata": {},
     "output_type": "execute_result"
    }
   ],
   "source": [
    "frame_all['error_share']= frame_all['goal_surpass_share_usd'] - frame_all['goal_surpass_share']\n",
    "frame_all['error_share'].sum()"
   ]
  },
  {
   "cell_type": "code",
   "execution_count": 121,
   "metadata": {},
   "outputs": [
    {
     "name": "stdout",
     "output_type": "stream",
     "text": [
      "count    168698.000000\n",
      "mean          3.710631\n",
      "std         253.799076\n",
      "min          -1.000000\n",
      "25%          -0.980000\n",
      "50%           0.012882\n",
      "75%           0.225250\n",
      "max       68763.100000\n",
      "Name: goal_surpass_share, dtype: float64\n",
      "count    168698.000000\n",
      "mean          3.710631\n",
      "std         253.799076\n",
      "min          -1.000000\n",
      "25%          -0.980000\n",
      "50%           0.012882\n",
      "75%           0.225250\n",
      "max       68763.100000\n",
      "Name: goal_surpass_share_usd, dtype: float64\n"
     ]
    }
   ],
   "source": [
    "print(frame_all.goal_surpass_share.describe())\n",
    "print(frame_all.goal_surpass_share_usd.describe())"
   ]
  },
  {
   "cell_type": "markdown",
   "metadata": {},
   "source": [
    "#### RESULT: 'goal_surpass_share' and 'goal_surpass_usd' can be used since the \"check-columns\" provide the same results.\n",
    "#### TAKE CARE: There are huge outliers in the share --> Max 68763 (project id: 1947298033)"
   ]
  },
  {
   "cell_type": "code",
   "execution_count": 176,
   "metadata": {},
   "outputs": [
    {
     "name": "stdout",
     "output_type": "stream",
     "text": [
      "backers_count                                                             955\n",
      "blurb                       The 3rd installment of the popular Covers with...\n",
      "converted_pledged_amount                                                68764\n",
      "country                                                                    US\n",
      "created_at                                                2016-10-11 23:14:53\n",
      "currency                                                                  USD\n",
      "currency_symbol                                                             $\n",
      "currency_trailing_code                                                   True\n",
      "current_currency                                                          USD\n",
      "deadline                                                  2016-12-13 18:04:27\n",
      "disable_communication                                                   False\n",
      "fx_rate                                                                   1.0\n",
      "goal                                                                      1.0\n",
      "id                                                                 1947298033\n",
      "is_starrable                                                            False\n",
      "launched_at                                               2016-10-14 17:04:27\n",
      "name                                                 Re-covering with Friends\n",
      "pledged                                                               68764.1\n",
      "slug                                                 re-covering-with-friends\n",
      "source_url                  https://www.kickstarter.com/discover/categorie...\n",
      "spotlight                                                                True\n",
      "staff_pick                                                              False\n",
      "state                                                              successful\n",
      "state_changed_at                                          2016-12-13 18:04:27\n",
      "static_usd_rate                                                           1.0\n",
      "usd_pledged                                                           68764.1\n",
      "usd_type                                                        international\n",
      "cat_name                                                                 Rock\n",
      "cat_slug                                                           music/rock\n",
      "loc_name                                                          Los Angeles\n",
      "loc_country                                                                US\n",
      "loc_state                                                                  CA\n",
      "loc_type                                                                 Town\n",
      "photo_thumb                 https://ksr-ugc.imgix.net/assets/014/073/650/1...\n",
      "photo_large                 https://ksr-ugc.imgix.net/assets/014/073/650/1...\n",
      "project_address             https://www.kickstarter.com/projects/134312379...\n",
      "profile_photo               https://ksr-ugc.imgix.net/assets/014/073/650/1...\n",
      "creator_name                                                      Jason Manns\n",
      "creator_id                                                         1343123793\n",
      "creator_thumb               https://ksr-ugc.imgix.net/assets/006/237/285/f...\n",
      "creator_address                https://www.kickstarter.com/profile/1343123793\n",
      "main_category                                                           music\n",
      "sub_category                                                             rock\n",
      "state_bool                                                                1.0\n",
      "baseline                                                                    1\n",
      "goal_surpass                                                          68763.1\n",
      "goal_surpass_share                                                    68763.1\n",
      "goal_surpass_usd                                                      68763.1\n",
      "goal_usd                                                                  1.0\n",
      "goal_surpass_usd_check                                                68763.1\n",
      "goal_surpass_share_usd                                                68763.1\n",
      "error_share                                                               0.0\n",
      "Name: 70691, dtype: object\n"
     ]
    }
   ],
   "source": [
    "i = frame_all.goal_surpass_share.argmax()\n",
    "print(frame_all.iloc[i])"
   ]
  },
  {
   "cell_type": "code",
   "execution_count": 151,
   "metadata": {},
   "outputs": [],
   "source": [
    "goal_1 = frame_all.loc[frame_all['goal'] == 1]\n",
    "\n",
    "# RESULT: There are 246+17 rows where the goal only was 1 (Currency). Valid observations?"
   ]
  },
  {
   "cell_type": "code",
   "execution_count": 124,
   "metadata": {},
   "outputs": [
    {
     "data": {
      "text/plain": [
       "successful    246\n",
       "failed         17\n",
       "Name: state, dtype: int64"
      ]
     },
     "execution_count": 124,
     "metadata": {},
     "output_type": "execute_result"
    }
   ],
   "source": [
    "goal_1.state.value_counts()"
   ]
  },
  {
   "cell_type": "code",
   "execution_count": 174,
   "metadata": {},
   "outputs": [],
   "source": [
    "failed = frame_all.loc[frame_all['state'] == 'failed']\n",
    "success = frame_all.loc[frame_all['state'] == 'successful']\n",
    "\n"
   ]
  },
  {
   "cell_type": "code",
   "execution_count": 175,
   "metadata": {},
   "outputs": [
    {
     "data": {
      "text/plain": [
       "backers_count                                                          105857\n",
       "blurb                       🚨 Limited-Time Offers 🚨 Early Access 🚨 World-C...\n",
       "converted_pledged_amount                                              8596474\n",
       "country                                                                    US\n",
       "created_at                                                2019-03-04 04:34:18\n",
       "currency                                                                  USD\n",
       "currency_symbol                                                             €\n",
       "currency_trailing_code                                                   True\n",
       "current_currency                                                          USD\n",
       "deadline                                                  2019-03-14 04:06:01\n",
       "disable_communication                                                   False\n",
       "fx_rate                                                               1.32568\n",
       "goal                                                               68000000.0\n",
       "id                                                                 2147476221\n",
       "is_starrable                                                            False\n",
       "launched_at                                               2019-03-06 05:07:40\n",
       "name                        📜🎨🤖 Quickstarter: A Genealogy of Public Street...\n",
       "pledged                                                            81030744.0\n",
       "slug                                     zzap-64-annual-2019-the-next-chapter\n",
       "source_url                  https://www.kickstarter.com/discover/categorie...\n",
       "spotlight                                                                True\n",
       "staff_pick                                                               True\n",
       "state                                                              successful\n",
       "state_changed_at                                          2019-03-14 04:06:02\n",
       "static_usd_rate                                                      1.716408\n",
       "usd_pledged                                                        8596474.58\n",
       "usd_type                                                        international\n",
       "cat_name                                                                Zines\n",
       "cat_slug                                                       theater/spaces\n",
       "loc_name                                                          Želechovice\n",
       "loc_state                                             مراكش ـ تانسيفت ـ الحوز\n",
       "loc_type                                                                  Zip\n",
       "photo_thumb                 https://ksr-ugc.imgix.net/projects/1260778/pho...\n",
       "photo_large                 https://ksr-ugc.imgix.net/projects/1260778/pho...\n",
       "project_address             https://www.kickstarter.com/projects/zzkrecord...\n",
       "profile_photo                                       projects/missing_full.png\n",
       "creator_id                                                         2147465423\n",
       "creator_thumb               https://ksr-ugc.imgix.net/missing_user_avatar....\n",
       "creator_address                https://www.kickstarter.com/profile/zzkrecords\n",
       "main_category                                                         theater\n",
       "sub_category                                                            zines\n",
       "state_bool                                                                1.0\n",
       "baseline                                                                    1\n",
       "goal_surpass                                                       42401709.0\n",
       "goal_surpass_share                                                    68763.1\n",
       "goal_surpass_usd                                                   7646474.58\n",
       "goal_usd                                                            2000000.0\n",
       "goal_surpass_usd_check                                             7646474.58\n",
       "goal_surpass_share_usd                                                68763.1\n",
       "error_share                                                               0.0\n",
       "dtype: object"
      ]
     },
     "execution_count": 175,
     "metadata": {},
     "output_type": "execute_result"
    }
   ],
   "source": [
    "success.max()\n",
    "\n",
    "# RESULT: Within the successful projects, max goal is 200.000 USD "
   ]
  },
  {
   "cell_type": "code",
   "execution_count": 177,
   "metadata": {},
   "outputs": [],
   "source": [
    "failed_0 = failed.loc[failed['goal_surpass'] > 0]\n",
    "\n",
    "# RESULT: 3 observations surpassed the goal but nevertheless failed --> Shall be removed??\n"
   ]
  },
  {
   "cell_type": "code",
   "execution_count": 178,
   "metadata": {},
   "outputs": [
    {
     "data": {
      "text/plain": [
       "40082     1085047405\n",
       "60727     1880688778\n",
       "149883    1090065437\n",
       "Name: id, dtype: int64"
      ]
     },
     "execution_count": 178,
     "metadata": {},
     "output_type": "execute_result"
    }
   ],
   "source": [
    "failed_0.id"
   ]
  },
  {
   "cell_type": "code",
   "execution_count": 168,
   "metadata": {},
   "outputs": [
    {
     "data": {
      "text/plain": [
       "<AxesSubplot:xlabel='goal_usd', ylabel='goal_surpass_usd'>"
      ]
     },
     "execution_count": 168,
     "metadata": {},
     "output_type": "execute_result"
    },
    {
     "data": {
      "image/png": "[encoded data removed]",
      "text/plain": [
       "<Figure size 1440x720 with 1 Axes>"
      ]
     },
     "metadata": {
      "needs_background": "light"
     },
     "output_type": "display_data"
    }
   ],
   "source": [
    "fig = plt.figure(figsize=(20, 10))\n",
    "sns.scatterplot(x='goal_usd', y='goal_surpass_usd', data=frame_all, hue='state')\n",
    "# RESULT: The higher the goal the more projects have failed."
   ]
  },
  {
   "cell_type": "code",
   "execution_count": 170,
   "metadata": {},
   "outputs": [
    {
     "data": {
      "text/plain": [
       "<AxesSubplot:xlabel='goal_usd', ylabel='state'>"
      ]
     },
     "execution_count": 170,
     "metadata": {},
     "output_type": "execute_result"
    },
    {
     "data": {
      "image/png": "[encoded data removed]",
      "text/plain": [
       "<Figure size 1440x720 with 1 Axes>"
      ]
     },
     "metadata": {
      "needs_background": "light"
     },
     "output_type": "display_data"
    }
   ],
   "source": [
    "fig = plt.figure(figsize=(20, 10))\n",
    "sns.scatterplot(x='goal_usd', y='state', data=frame_all, hue='state')\n",
    "# RESULT: The higher the goal the more projects have failed."
   ]
  },
  {
   "cell_type": "code",
   "execution_count": 165,
   "metadata": {},
   "outputs": [
    {
     "name": "stdout",
     "output_type": "stream",
     "text": [
      "backers_count                                                               0\n",
      "blurb                       A 2000 year old \"Romeo & Juliet\" love story, s...\n",
      "converted_pledged_amount                                                    0\n",
      "country                                                                    GB\n",
      "created_at                                                2015-10-29 22:01:46\n",
      "currency                                                                  GBP\n",
      "currency_symbol                                                             £\n",
      "currency_trailing_code                                                  False\n",
      "current_currency                                                          USD\n",
      "deadline                                                  2015-11-30 22:01:00\n",
      "disable_communication                                                   False\n",
      "fx_rate                                                               1.32568\n",
      "goal                                                              100000000.0\n",
      "id                                                                 2000749004\n",
      "is_starrable                                                            False\n",
      "launched_at                                               2015-11-16 23:47:15\n",
      "name                                                       A Celtic Lovestory\n",
      "pledged                                                                   0.0\n",
      "slug                                                       a-celtic-lovestory\n",
      "source_url                  https://www.kickstarter.com/discover/categorie...\n",
      "spotlight                                                               False\n",
      "staff_pick                                                              False\n",
      "state                                                                  failed\n",
      "state_changed_at                                          2015-11-30 22:01:00\n",
      "static_usd_rate                                                      1.523501\n",
      "usd_pledged                                                               0.0\n",
      "usd_type                                                        international\n",
      "cat_name                                                                Drama\n",
      "cat_slug                                                   film & video/drama\n",
      "loc_name                                                               Dorset\n",
      "loc_country                                                                GB\n",
      "loc_state                                                             England\n",
      "loc_type                                                               County\n",
      "photo_thumb                 https://ksr-ugc.imgix.net/assets/012/292/886/6...\n",
      "photo_large                 https://ksr-ugc.imgix.net/assets/012/292/886/6...\n",
      "project_address             https://www.kickstarter.com/projects/245190432...\n",
      "profile_photo               https://ksr-ugc.imgix.net/assets/012/292/886/6...\n",
      "creator_name                                                              Joe\n",
      "creator_id                                                          245190432\n",
      "creator_thumb               https://ksr-ugc.imgix.net/assets/010/481/306/9...\n",
      "creator_address                 https://www.kickstarter.com/profile/245190432\n",
      "main_category                                                    film & video\n",
      "sub_category                                                            drama\n",
      "state_bool                                                                0.0\n",
      "baseline                                                                    1\n",
      "goal_surpass                                                     -100000000.0\n",
      "goal_surpass_share                                                       -1.0\n",
      "goal_surpass_usd                                                 -152350076.0\n",
      "goal_usd                                                          152350076.0\n",
      "goal_surpass_usd_check                                           -152350076.0\n",
      "goal_surpass_share_usd                                                   -1.0\n",
      "error_share                                                               0.0\n",
      "Name: 60060, dtype: object\n"
     ]
    }
   ],
   "source": [
    "i=frame_all.goal_usd.argmax()\n",
    "print(frame_all.iloc[i])"
   ]
  },
  {
   "cell_type": "code",
   "execution_count": 186,
   "metadata": {},
   "outputs": [],
   "source": [
    "# Calculate number of words in blurb\n",
    "frame_all['blurb_words'] = frame_all['blurb'].str.split().str.len()\n",
    "# Calculate number of characters in blurb\n",
    "frame_all['blurb_len'] = frame_all['blurb'].str.len()\n",
    "# Calculate number of characters in name\n",
    "frame_all['name_len'] = frame_all['name'].str.len()\n",
    "# Calculate number of words in name\n",
    "frame_all['name_words'] = frame_all['name'].str.split().str.len()"
   ]
  },
  {
   "cell_type": "code",
   "execution_count": 184,
   "metadata": {},
   "outputs": [],
   "source": []
  },
  {
   "cell_type": "code",
   "execution_count": 190,
   "metadata": {},
   "outputs": [],
   "source": []
  },
  {
   "cell_type": "code",
   "execution_count": 191,
   "metadata": {},
   "outputs": [],
   "source": []
  },
  {
   "cell_type": "code",
   "execution_count": null,
   "metadata": {},
   "outputs": [],
   "source": []
  }
 ],
 "metadata": {
  "interpreter": {
   "hash": "1a82898d3f503c1e2e9b4dff319af7b4ab4f34b16327799ca293100781c08b39"
  },
  "kernelspec": {
   "display_name": "Python 3.9.4 ('.venv': venv)",
   "language": "python",
   "name": "python3"
  },
  "language_info": {
   "codemirror_mode": {
    "name": "ipython",
    "version": 3
   },
   "file_extension": ".py",
   "mimetype": "text/x-python",
   "name": "python",
   "nbconvert_exporter": "python",
   "pygments_lexer": "ipython3",
   "version": "3.9.4"
  },
  "orig_nbformat": 4
 },
 "nbformat": 4,
 "nbformat_minor": 2
}
