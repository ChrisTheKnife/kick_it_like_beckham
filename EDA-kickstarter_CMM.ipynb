{
 "cells": [
  {
   "cell_type": "code",
   "execution_count": 111,
   "metadata": {},
   "outputs": [],
   "source": [
    "import pandas as pd\n",
    "import seaborn as sns\n",
    "import matplotlib.pyplot as plt\n",
    "import warnings\n",
    "warnings.filterwarnings('ignore')"
   ]
  },
  {
   "cell_type": "code",
   "execution_count": 112,
   "metadata": {},
   "outputs": [],
   "source": [
    "# set_length = []\n",
    "# set_feat_num = []\n",
    "\n",
    "# for i in range(10):\n",
    "#     df_check = pd.read_csv(f'data/Kickstarter00{i}.csv')\n",
    "#     set_length.append(len(df_check))\n",
    "#     set_feat_num.append(df_check.shape[1])\n",
    "\n",
    "\n",
    "# for i in range(10, 56):\n",
    "#     df_check = pd.read_csv(f'data/Kickstarter0{i}.csv')\n",
    "#     set_length.append(len(df_check))\n",
    "#     set_feat_num.append(df_check.shape[1])\n",
    "\n",
    "# print(f\"Observations in each dataset: {set_length}\")\n",
    "# print(f\"Number of features in each dataset: {set_feat_num}\")"
   ]
  },
  {
   "cell_type": "code",
   "execution_count": 189,
   "metadata": {},
   "outputs": [],
   "source": [
    "frame_all = pd.read_csv('data/Kickstarter_full.csv', index_col=0)"
   ]
  },
  {
   "cell_type": "code",
   "execution_count": 190,
   "metadata": {},
   "outputs": [
    {
     "name": "stdout",
     "output_type": "stream",
     "text": [
      "<class 'pandas.core.frame.DataFrame'>\n",
      "Int64Index: 168677 entries, 0 to 209220\n",
      "Data columns (total 58 columns):\n",
      " #   Column                    Non-Null Count   Dtype  \n",
      "---  ------                    --------------   -----  \n",
      " 0   backers_count             168677 non-null  int64  \n",
      " 1   blurb                     168677 non-null  object \n",
      " 2   converted_pledged_amount  168677 non-null  int64  \n",
      " 3   country                   168677 non-null  object \n",
      " 4   created_at                168677 non-null  object \n",
      " 5   currency                  168677 non-null  object \n",
      " 6   currency_symbol           168677 non-null  object \n",
      " 7   currency_trailing_code    168677 non-null  bool   \n",
      " 8   current_currency          168677 non-null  object \n",
      " 9   deadline                  168677 non-null  object \n",
      " 10  disable_communication     168677 non-null  bool   \n",
      " 11  fx_rate                   168677 non-null  float64\n",
      " 12  goal                      168677 non-null  float64\n",
      " 13  id                        168677 non-null  int64  \n",
      " 14  is_starrable              168677 non-null  bool   \n",
      " 15  launched_at               168677 non-null  object \n",
      " 16  name                      168677 non-null  object \n",
      " 17  pledged                   168677 non-null  float64\n",
      " 18  slug                      168677 non-null  object \n",
      " 19  source_url                168677 non-null  object \n",
      " 20  spotlight                 168677 non-null  bool   \n",
      " 21  staff_pick                168677 non-null  bool   \n",
      " 22  state                     168677 non-null  object \n",
      " 23  state_changed_at          168677 non-null  object \n",
      " 24  static_usd_rate           168677 non-null  float64\n",
      " 25  usd_pledged               168677 non-null  float64\n",
      " 26  usd_type                  168677 non-null  object \n",
      " 27  dur_inactive              168677 non-null  float64\n",
      " 28  dur_until_state_changed   168677 non-null  float64\n",
      " 29  dur_active                168677 non-null  float64\n",
      " 30  dur_ratio                 168677 non-null  float64\n",
      " 31  cat_name                  168677 non-null  object \n",
      " 32  cat_slug                  168677 non-null  object \n",
      " 33  loc_name                  168677 non-null  object \n",
      " 34  loc_country               168668 non-null  object \n",
      " 35  loc_state                 168677 non-null  object \n",
      " 36  loc_type                  168677 non-null  object \n",
      " 37  photo_thumb               168677 non-null  object \n",
      " 38  photo_large               168677 non-null  object \n",
      " 39  project_address           168677 non-null  object \n",
      " 40  profile_photo             168677 non-null  object \n",
      " 41  creator_name              168648 non-null  object \n",
      " 42  creator_id                168677 non-null  int64  \n",
      " 43  creator_thumb             168677 non-null  object \n",
      " 44  creator_address           168677 non-null  object \n",
      " 45  main_category             168677 non-null  object \n",
      " 46  sub_category              168677 non-null  object \n",
      " 47  goal_surpass              168677 non-null  float64\n",
      " 48  goal_surpass_share        168677 non-null  float64\n",
      " 49  goal_surpass_usd          168677 non-null  float64\n",
      " 50  goal_usd                  168677 non-null  float64\n",
      " 51  goal_categorical          168677 non-null  object \n",
      " 52  blurb_words               168677 non-null  float64\n",
      " 53  blurb_len                 168677 non-null  float64\n",
      " 54  name_len                  168677 non-null  int64  \n",
      " 55  name_words                168677 non-null  int64  \n",
      " 56  state_bool                168677 non-null  int64  \n",
      " 57  baseline                  168677 non-null  int64  \n",
      "dtypes: bool(5), float64(15), int64(8), object(30)\n",
      "memory usage: 70.3+ MB\n"
     ]
    }
   ],
   "source": [
    "frame_all.info()"
   ]
  },
  {
   "cell_type": "code",
   "execution_count": 194,
   "metadata": {},
   "outputs": [],
   "source": [
    "frame_all_sorted = frame_all.sort_values('deadline', ascending=False).copy(deep=True)"
   ]
  },
  {
   "cell_type": "code",
   "execution_count": 199,
   "metadata": {},
   "outputs": [
    {
     "data": {
      "text/plain": [
       "backers_count                                                            4640\n",
       "blurb                       The next evolution in showering: more heat, mo...\n",
       "converted_pledged_amount                                              1926542\n",
       "country                                                                    US\n",
       "created_at                                                2018-06-22 19:02:43\n",
       "currency                                                                  USD\n",
       "currency_symbol                                                             $\n",
       "currency_trailing_code                                                   True\n",
       "current_currency                                                          USD\n",
       "deadline                                                  2019-03-14 04:06:01\n",
       "disable_communication                                                   False\n",
       "fx_rate                                                                   1.0\n",
       "goal                                                                 100000.0\n",
       "id                                                                 1688735364\n",
       "is_starrable                                                            False\n",
       "launched_at                                               2019-02-12 05:06:01\n",
       "name                        Nebia Spa Shower 2.0: Better for You. Better f...\n",
       "pledged                                                            1926542.99\n",
       "slug                        nebia-spa-shower-20-better-for-you-better-for-the\n",
       "source_url                  https://www.kickstarter.com/discover/categorie...\n",
       "spotlight                                                                True\n",
       "staff_pick                                                               True\n",
       "state                                                              successful\n",
       "state_changed_at                                          2019-03-14 04:06:02\n",
       "static_usd_rate                                                           1.0\n",
       "usd_pledged                                                        1926542.99\n",
       "usd_type                                                        international\n",
       "dur_inactive                                                       20253798.0\n",
       "dur_until_state_changed                                             2588401.0\n",
       "dur_active                                                          2588400.0\n",
       "dur_ratio                                                                 1.0\n",
       "cat_name                                                       Product Design\n",
       "cat_slug                                                design/product design\n",
       "loc_name                                                        San Francisco\n",
       "loc_country                                                                US\n",
       "loc_state                                                                  CA\n",
       "loc_type                                                                 Town\n",
       "photo_thumb                 https://ksr-ugc.imgix.net/assets/024/032/091/c...\n",
       "photo_large                 https://ksr-ugc.imgix.net/assets/024/032/091/c...\n",
       "project_address             https://www.kickstarter.com/projects/nebia/neb...\n",
       "profile_photo               https://ksr-ugc.imgix.net/assets/024/032/091/c...\n",
       "creator_name                                                            Nebia\n",
       "creator_id                                                         1499369835\n",
       "creator_thumb               https://ksr-ugc.imgix.net/assets/010/184/042/4...\n",
       "creator_address                     https://www.kickstarter.com/profile/nebia\n",
       "main_category                                                          design\n",
       "sub_category                                                   product design\n",
       "goal_surpass                                                       1826542.99\n",
       "goal_surpass_share                                                   18.26543\n",
       "goal_surpass_usd                                                   1826542.99\n",
       "goal_usd                                                             100000.0\n",
       "goal_categorical                                                  50k_to_100k\n",
       "blurb_words                                                              17.0\n",
       "blurb_len                                                               104.0\n",
       "name_len                                                                   60\n",
       "name_words                                                                 11\n",
       "state_bool                                                                  1\n",
       "baseline                                                                    1\n",
       "Name: 44363, dtype: object"
      ]
     },
     "execution_count": 199,
     "metadata": {},
     "output_type": "execute_result"
    }
   ],
   "source": [
    "frame_all_sorted.loc[44363]"
   ]
  },
  {
   "cell_type": "code",
   "execution_count": 178,
   "metadata": {},
   "outputs": [
    {
     "data": {
      "text/plain": [
       "<AxesSubplot:xlabel='goal_usd', ylabel='state'>"
      ]
     },
     "execution_count": 178,
     "metadata": {},
     "output_type": "execute_result"
    },
    {
     "data": {
      "image/png": "[encoded data removed]",
      "text/plain": [
       "<Figure size 432x288 with 1 Axes>"
      ]
     },
     "metadata": {
      "needs_background": "light"
     },
     "output_type": "display_data"
    }
   ],
   "source": [
    "sns.scatterplot(x='goal_usd', y='state',hue='state', data=frame_all)"
   ]
  },
  {
   "cell_type": "code",
   "execution_count": 116,
   "metadata": {},
   "outputs": [
    {
     "data": {
      "text/plain": [
       "count    168698.000000\n",
       "mean          1.014544\n",
       "std           0.225134\n",
       "min           0.008771\n",
       "25%           1.000000\n",
       "50%           1.000000\n",
       "75%           1.000000\n",
       "max           1.716408\n",
       "Name: static_usd_rate, dtype: float64"
      ]
     },
     "execution_count": 116,
     "metadata": {},
     "output_type": "execute_result"
    }
   ],
   "source": [
    "frame_all.static_usd_rate.describe()"
   ]
  },
  {
   "cell_type": "code",
   "execution_count": 117,
   "metadata": {},
   "outputs": [
    {
     "data": {
      "text/plain": [
       "<AxesSubplot:xlabel='static_usd_rate', ylabel='Count'>"
      ]
     },
     "execution_count": 117,
     "metadata": {},
     "output_type": "execute_result"
    },
    {
     "data": {
      "image/png": "[encoded data removed]",
      "text/plain": [
       "<Figure size 432x288 with 1 Axes>"
      ]
     },
     "metadata": {
      "needs_background": "light"
     },
     "output_type": "display_data"
    }
   ],
   "source": [
    "sns.histplot(frame_all['static_usd_rate'])"
   ]
  },
  {
   "cell_type": "code",
   "execution_count": 118,
   "metadata": {},
   "outputs": [
    {
     "data": {
      "text/plain": [
       "<AxesSubplot:xlabel='fx_rate', ylabel='Count'>"
      ]
     },
     "execution_count": 118,
     "metadata": {},
     "output_type": "execute_result"
    },
    {
     "data": {
      "image/png": "[encoded data removed]",
      "text/plain": [
       "<Figure size 432x288 with 1 Axes>"
      ]
     },
     "metadata": {
      "needs_background": "light"
     },
     "output_type": "display_data"
    }
   ],
   "source": [
    "sns.histplot(frame_all['fx_rate'])"
   ]
  },
  {
   "cell_type": "code",
   "execution_count": 119,
   "metadata": {},
   "outputs": [
    {
     "data": {
      "text/plain": [
       "<AxesSubplot:xlabel='currency', ylabel='Count'>"
      ]
     },
     "execution_count": 119,
     "metadata": {},
     "output_type": "execute_result"
    },
    {
     "data": {
      "image/png": "[encoded data removed]",
      "text/plain": [
       "<Figure size 432x288 with 1 Axes>"
      ]
     },
     "metadata": {
      "needs_background": "light"
     },
     "output_type": "display_data"
    }
   ],
   "source": [
    "sns.histplot(frame_all['currency'])"
   ]
  },
  {
   "cell_type": "code",
   "execution_count": 120,
   "metadata": {},
   "outputs": [
    {
     "data": {
      "text/plain": [
       "USD    122267\n",
       "GBP     17867\n",
       "EUR     10638\n",
       "CAD      7642\n",
       "AUD      3833\n",
       "MXN      1671\n",
       "SEK      1073\n",
       "NZD       738\n",
       "DKK       711\n",
       "HKD       656\n",
       "CHF       511\n",
       "SGD       469\n",
       "NOK       396\n",
       "JPY       226\n",
       "Name: currency, dtype: int64"
      ]
     },
     "execution_count": 120,
     "metadata": {},
     "output_type": "execute_result"
    }
   ],
   "source": [
    "frame_all.currency.value_counts()"
   ]
  },
  {
   "cell_type": "code",
   "execution_count": 121,
   "metadata": {},
   "outputs": [
    {
     "data": {
      "text/plain": [
       "USD    168698\n",
       "Name: current_currency, dtype: int64"
      ]
     },
     "execution_count": 121,
     "metadata": {},
     "output_type": "execute_result"
    }
   ],
   "source": [
    "frame_all.current_currency.value_counts()"
   ]
  },
  {
   "cell_type": "code",
   "execution_count": 122,
   "metadata": {},
   "outputs": [
    {
     "data": {
      "text/html": [
       "<div>\n",
       "<style scoped>\n",
       "    .dataframe tbody tr th:only-of-type {\n",
       "        vertical-align: middle;\n",
       "    }\n",
       "\n",
       "    .dataframe tbody tr th {\n",
       "        vertical-align: top;\n",
       "    }\n",
       "\n",
       "    .dataframe thead th {\n",
       "        text-align: right;\n",
       "    }\n",
       "</style>\n",
       "<table border=\"1\" class=\"dataframe\">\n",
       "  <thead>\n",
       "    <tr style=\"text-align: right;\">\n",
       "      <th></th>\n",
       "      <th>backers_count</th>\n",
       "      <th>blurb</th>\n",
       "      <th>converted_pledged_amount</th>\n",
       "      <th>country</th>\n",
       "      <th>created_at</th>\n",
       "      <th>currency</th>\n",
       "      <th>currency_symbol</th>\n",
       "      <th>currency_trailing_code</th>\n",
       "      <th>current_currency</th>\n",
       "      <th>deadline</th>\n",
       "      <th>...</th>\n",
       "      <th>goal_surpass</th>\n",
       "      <th>goal_surpass_share</th>\n",
       "      <th>goal_surpass_usd</th>\n",
       "      <th>goal_usd</th>\n",
       "      <th>blurb_words</th>\n",
       "      <th>blurb_len</th>\n",
       "      <th>name_len</th>\n",
       "      <th>name_words</th>\n",
       "      <th>state_bool</th>\n",
       "      <th>baseline</th>\n",
       "    </tr>\n",
       "  </thead>\n",
       "  <tbody>\n",
       "    <tr>\n",
       "      <th>0</th>\n",
       "      <td>21</td>\n",
       "      <td>2006 was almost 7 years ago.... Can you believ...</td>\n",
       "      <td>802</td>\n",
       "      <td>US</td>\n",
       "      <td>2013-12-21 21:01:30</td>\n",
       "      <td>USD</td>\n",
       "      <td>$</td>\n",
       "      <td>True</td>\n",
       "      <td>USD</td>\n",
       "      <td>2014-02-08 22:37:26</td>\n",
       "      <td>...</td>\n",
       "      <td>602.0</td>\n",
       "      <td>3.010000</td>\n",
       "      <td>602.000000</td>\n",
       "      <td>200.0000</td>\n",
       "      <td>26.0</td>\n",
       "      <td>134.0</td>\n",
       "      <td>21</td>\n",
       "      <td>4</td>\n",
       "      <td>1</td>\n",
       "      <td>1</td>\n",
       "    </tr>\n",
       "    <tr>\n",
       "      <th>1</th>\n",
       "      <td>97</td>\n",
       "      <td>An adorable fantasy enamel pin series of princ...</td>\n",
       "      <td>2259</td>\n",
       "      <td>US</td>\n",
       "      <td>2019-02-08 21:02:48</td>\n",
       "      <td>USD</td>\n",
       "      <td>$</td>\n",
       "      <td>True</td>\n",
       "      <td>USD</td>\n",
       "      <td>2019-03-05 16:00:11</td>\n",
       "      <td>...</td>\n",
       "      <td>1859.0</td>\n",
       "      <td>4.647500</td>\n",
       "      <td>1859.000000</td>\n",
       "      <td>400.0000</td>\n",
       "      <td>9.0</td>\n",
       "      <td>55.0</td>\n",
       "      <td>31</td>\n",
       "      <td>5</td>\n",
       "      <td>1</td>\n",
       "      <td>1</td>\n",
       "    </tr>\n",
       "    <tr>\n",
       "      <th>2</th>\n",
       "      <td>88</td>\n",
       "      <td>Helping a community come together to set the s...</td>\n",
       "      <td>29638</td>\n",
       "      <td>US</td>\n",
       "      <td>2016-10-23 17:06:24</td>\n",
       "      <td>USD</td>\n",
       "      <td>$</td>\n",
       "      <td>True</td>\n",
       "      <td>USD</td>\n",
       "      <td>2016-12-01 15:58:50</td>\n",
       "      <td>...</td>\n",
       "      <td>2414.0</td>\n",
       "      <td>0.088672</td>\n",
       "      <td>2414.000000</td>\n",
       "      <td>27224.0000</td>\n",
       "      <td>25.0</td>\n",
       "      <td>135.0</td>\n",
       "      <td>60</td>\n",
       "      <td>9</td>\n",
       "      <td>1</td>\n",
       "      <td>0</td>\n",
       "    </tr>\n",
       "    <tr>\n",
       "      <th>3</th>\n",
       "      <td>193</td>\n",
       "      <td>Every revolution starts from the bottom and we...</td>\n",
       "      <td>49158</td>\n",
       "      <td>IT</td>\n",
       "      <td>2018-10-24 08:32:00</td>\n",
       "      <td>EUR</td>\n",
       "      <td>€</td>\n",
       "      <td>False</td>\n",
       "      <td>USD</td>\n",
       "      <td>2018-12-08 22:59:00</td>\n",
       "      <td>...</td>\n",
       "      <td>3180.0</td>\n",
       "      <td>0.079500</td>\n",
       "      <td>3614.149723</td>\n",
       "      <td>45461.0028</td>\n",
       "      <td>13.0</td>\n",
       "      <td>75.0</td>\n",
       "      <td>25</td>\n",
       "      <td>5</td>\n",
       "      <td>1</td>\n",
       "      <td>1</td>\n",
       "    </tr>\n",
       "    <tr>\n",
       "      <th>4</th>\n",
       "      <td>20</td>\n",
       "      <td>Learn to build 10+ Applications in this comple...</td>\n",
       "      <td>549</td>\n",
       "      <td>US</td>\n",
       "      <td>2015-03-07 05:35:17</td>\n",
       "      <td>USD</td>\n",
       "      <td>$</td>\n",
       "      <td>True</td>\n",
       "      <td>USD</td>\n",
       "      <td>2015-04-08 16:36:57</td>\n",
       "      <td>...</td>\n",
       "      <td>-451.0</td>\n",
       "      <td>-0.451000</td>\n",
       "      <td>-451.000000</td>\n",
       "      <td>1000.0000</td>\n",
       "      <td>22.0</td>\n",
       "      <td>133.0</td>\n",
       "      <td>30</td>\n",
       "      <td>4</td>\n",
       "      <td>0</td>\n",
       "      <td>0</td>\n",
       "    </tr>\n",
       "  </tbody>\n",
       "</table>\n",
       "<p>5 rows × 57 columns</p>\n",
       "</div>"
      ],
      "text/plain": [
       "   backers_count                                              blurb  \\\n",
       "0             21  2006 was almost 7 years ago.... Can you believ...   \n",
       "1             97  An adorable fantasy enamel pin series of princ...   \n",
       "2             88  Helping a community come together to set the s...   \n",
       "3            193  Every revolution starts from the bottom and we...   \n",
       "4             20  Learn to build 10+ Applications in this comple...   \n",
       "\n",
       "   converted_pledged_amount country           created_at currency  \\\n",
       "0                       802      US  2013-12-21 21:01:30      USD   \n",
       "1                      2259      US  2019-02-08 21:02:48      USD   \n",
       "2                     29638      US  2016-10-23 17:06:24      USD   \n",
       "3                     49158      IT  2018-10-24 08:32:00      EUR   \n",
       "4                       549      US  2015-03-07 05:35:17      USD   \n",
       "\n",
       "  currency_symbol  currency_trailing_code current_currency  \\\n",
       "0               $                    True              USD   \n",
       "1               $                    True              USD   \n",
       "2               $                    True              USD   \n",
       "3               €                   False              USD   \n",
       "4               $                    True              USD   \n",
       "\n",
       "              deadline  ...  goal_surpass  goal_surpass_share  \\\n",
       "0  2014-02-08 22:37:26  ...         602.0            3.010000   \n",
       "1  2019-03-05 16:00:11  ...        1859.0            4.647500   \n",
       "2  2016-12-01 15:58:50  ...        2414.0            0.088672   \n",
       "3  2018-12-08 22:59:00  ...        3180.0            0.079500   \n",
       "4  2015-04-08 16:36:57  ...        -451.0           -0.451000   \n",
       "\n",
       "   goal_surpass_usd    goal_usd  blurb_words blurb_len name_len  name_words  \\\n",
       "0        602.000000    200.0000         26.0     134.0       21           4   \n",
       "1       1859.000000    400.0000          9.0      55.0       31           5   \n",
       "2       2414.000000  27224.0000         25.0     135.0       60           9   \n",
       "3       3614.149723  45461.0028         13.0      75.0       25           5   \n",
       "4       -451.000000   1000.0000         22.0     133.0       30           4   \n",
       "\n",
       "  state_bool baseline  \n",
       "0          1        1  \n",
       "1          1        1  \n",
       "2          1        0  \n",
       "3          1        1  \n",
       "4          0        0  \n",
       "\n",
       "[5 rows x 57 columns]"
      ]
     },
     "execution_count": 122,
     "metadata": {},
     "output_type": "execute_result"
    }
   ],
   "source": [
    "frame_all.head()"
   ]
  },
  {
   "cell_type": "code",
   "execution_count": 123,
   "metadata": {},
   "outputs": [
    {
     "data": {
      "text/plain": [
       "<AxesSubplot:xlabel='state', ylabel='count'>"
      ]
     },
     "execution_count": 123,
     "metadata": {},
     "output_type": "execute_result"
    },
    {
     "data": {
      "image/png": "[encoded data removed]",
      "text/plain": [
       "<Figure size 432x288 with 1 Axes>"
      ]
     },
     "metadata": {
      "needs_background": "light"
     },
     "output_type": "display_data"
    }
   ],
   "source": [
    "sns.countplot('state', data=frame_all, hue='staff_pick')"
   ]
  },
  {
   "cell_type": "code",
   "execution_count": 124,
   "metadata": {},
   "outputs": [
    {
     "data": {
      "text/plain": [
       "<AxesSubplot:xlabel='state', ylabel='count'>"
      ]
     },
     "execution_count": 124,
     "metadata": {},
     "output_type": "execute_result"
    },
    {
     "data": {
      "image/png": "[encoded data removed]",
      "text/plain": [
       "<Figure size 432x288 with 1 Axes>"
      ]
     },
     "metadata": {
      "needs_background": "light"
     },
     "output_type": "display_data"
    }
   ],
   "source": [
    "sns.countplot('state', data=frame_all)"
   ]
  },
  {
   "cell_type": "code",
   "execution_count": 125,
   "metadata": {},
   "outputs": [
    {
     "data": {
      "text/plain": [
       "<AxesSubplot:xlabel='state', ylabel='count'>"
      ]
     },
     "execution_count": 125,
     "metadata": {},
     "output_type": "execute_result"
    },
    {
     "data": {
      "image/png": "[encoded data removed]",
      "text/plain": [
       "<Figure size 432x288 with 1 Axes>"
      ]
     },
     "metadata": {
      "needs_background": "light"
     },
     "output_type": "display_data"
    }
   ],
   "source": [
    "sns.countplot('state', data=frame_all, hue='spotlight')"
   ]
  },
  {
   "cell_type": "code",
   "execution_count": 126,
   "metadata": {},
   "outputs": [
    {
     "data": {
      "text/plain": [
       "<AxesSubplot:xlabel='converted_pledged_amount', ylabel='usd_pledged'>"
      ]
     },
     "execution_count": 126,
     "metadata": {},
     "output_type": "execute_result"
    },
    {
     "data": {
      "image/png": "[encoded data removed]",
      "text/plain": [
       "<Figure size 1440x720 with 1 Axes>"
      ]
     },
     "metadata": {
      "needs_background": "light"
     },
     "output_type": "display_data"
    }
   ],
   "source": [
    "fig = plt.figure(figsize=(20, 10))\n",
    "sns.scatterplot('converted_pledged_amount', 'usd_pledged', hue='current_currency', data=frame_all)\n",
    "\n",
    "# RESULT: 'converted_pledged_amount' and 'usd_pledged'seem to deliver in most cases the same numbers."
   ]
  },
  {
   "cell_type": "code",
   "execution_count": 127,
   "metadata": {},
   "outputs": [
    {
     "data": {
      "text/plain": [
       "<AxesSubplot:xlabel='pledged', ylabel='usd_pledged'>"
      ]
     },
     "execution_count": 127,
     "metadata": {},
     "output_type": "execute_result"
    },
    {
     "data": {
      "image/png": "[encoded data removed]",
      "text/plain": [
       "<Figure size 1440x720 with 1 Axes>"
      ]
     },
     "metadata": {
      "needs_background": "light"
     },
     "output_type": "display_data"
    }
   ],
   "source": [
    "fig = plt.figure(figsize=(20, 10))\n",
    "sns.scatterplot('pledged', 'usd_pledged', hue='currency', data=frame_all)\n",
    "\n",
    "# RESULT: 'pledged' and 'usd_pledged'do not deliver the same absolute numbers, since sometimes different currencies are shown.\n",
    "# See for example the observation on the bottom right, which seems to be a campaign in JPN YEN, which is much smaller in USD.\n",
    "# NOT use 'pledged' in model\n",
    "# Use 'pledged' only for comparing with 'goal'variable in order to calculate surpass or not surpassed goals."
   ]
  },
  {
   "cell_type": "code",
   "execution_count": 191,
   "metadata": {},
   "outputs": [
    {
     "data": {
      "text/plain": [
       "backers_count                                                             357\n",
       "blurb                       We are building a professional coffee mill in ...\n",
       "converted_pledged_amount                                               145720\n",
       "country                                                                    NZ\n",
       "created_at                                                2016-11-04 21:43:52\n",
       "currency                                                                  NZD\n",
       "currency_symbol                                                             $\n",
       "currency_trailing_code                                                   True\n",
       "current_currency                                                          USD\n",
       "deadline                                                  2016-12-31 00:00:00\n",
       "disable_communication                                                   False\n",
       "fx_rate                                                              0.684442\n",
       "goal                                                                 100000.0\n",
       "id                                                                 1882931502\n",
       "is_starrable                                                            False\n",
       "launched_at                                               2016-12-02 18:44:46\n",
       "name                                     El Fénix - Community Coffee Wet Mill\n",
       "pledged                                                              209354.0\n",
       "slug                                       el-fenix-community-coffee-wet-mill\n",
       "source_url                  https://www.kickstarter.com/discover/categorie...\n",
       "spotlight                                                                True\n",
       "staff_pick                                                               True\n",
       "state                                                              successful\n",
       "state_changed_at                                          2016-12-31 00:00:02\n",
       "static_usd_rate                                                       0.70819\n",
       "usd_pledged                                                       148262.4553\n",
       "usd_type                                                        international\n",
       "dur_inactive                                                        2408454.0\n",
       "dur_until_state_changed                                             2438116.0\n",
       "dur_active                                                          2438114.0\n",
       "dur_ratio                                                            1.000001\n",
       "cat_name                                                                Farms\n",
       "cat_slug                                                           food/farms\n",
       "loc_name                                                              Calarcá\n",
       "loc_country                                                                CO\n",
       "loc_state                                                             Quindio\n",
       "loc_type                                                                 Town\n",
       "photo_thumb                 https://ksr-ugc.imgix.net/assets/014/438/295/a...\n",
       "photo_large                 https://ksr-ugc.imgix.net/assets/014/438/295/a...\n",
       "project_address             https://www.kickstarter.com/projects/150599087...\n",
       "profile_photo               https://ksr-ugc.imgix.net/assets/015/858/766/9...\n",
       "creator_name                                      Matt Graylee - Raw Material\n",
       "creator_id                                                         1505990870\n",
       "creator_thumb               https://ksr-ugc.imgix.net/assets/014/443/234/1...\n",
       "creator_address                https://www.kickstarter.com/profile/1505990870\n",
       "main_category                                                            food\n",
       "sub_category                                                            farms\n",
       "goal_surpass                                                         109354.0\n",
       "goal_surpass_share                                                    1.09354\n",
       "goal_surpass_usd                                                 77443.433318\n",
       "goal_usd                                                            70819.022\n",
       "goal_categorical                                                  50k_to_100k\n",
       "blurb_words                                                              19.0\n",
       "blurb_len                                                               130.0\n",
       "name_len                                                                   36\n",
       "name_words                                                                  7\n",
       "state_bool                                                                  1\n",
       "baseline                                                                    0\n",
       "Name: 1865, dtype: object"
      ]
     },
     "execution_count": 191,
     "metadata": {},
     "output_type": "execute_result"
    }
   ],
   "source": [
    "frame_all.iloc[frame_all['pledged'].idxmax()] "
   ]
  },
  {
   "cell_type": "code",
   "execution_count": 179,
   "metadata": {},
   "outputs": [
    {
     "data": {
      "text/plain": [
       "<AxesSubplot:xlabel='goal_usd', ylabel='usd_pledged'>"
      ]
     },
     "execution_count": 179,
     "metadata": {},
     "output_type": "execute_result"
    },
    {
     "data": {
      "image/png": "[encoded data removed]",
      "text/plain": [
       "<Figure size 1440x720 with 1 Axes>"
      ]
     },
     "metadata": {
      "needs_background": "light"
     },
     "output_type": "display_data"
    }
   ],
   "source": [
    "fig = plt.figure(figsize=(20, 10))\n",
    "sns.scatterplot('goal_usd', 'usd_pledged', hue='state', data=frame_all)"
   ]
  },
  {
   "cell_type": "code",
   "execution_count": 130,
   "metadata": {},
   "outputs": [
    {
     "data": {
      "text/html": [
       "<div>\n",
       "<style scoped>\n",
       "    .dataframe tbody tr th:only-of-type {\n",
       "        vertical-align: middle;\n",
       "    }\n",
       "\n",
       "    .dataframe tbody tr th {\n",
       "        vertical-align: top;\n",
       "    }\n",
       "\n",
       "    .dataframe thead th {\n",
       "        text-align: right;\n",
       "    }\n",
       "</style>\n",
       "<table border=\"1\" class=\"dataframe\">\n",
       "  <thead>\n",
       "    <tr style=\"text-align: right;\">\n",
       "      <th></th>\n",
       "      <th>backers_count</th>\n",
       "      <th>converted_pledged_amount</th>\n",
       "      <th>currency_trailing_code</th>\n",
       "      <th>disable_communication</th>\n",
       "      <th>fx_rate</th>\n",
       "      <th>goal</th>\n",
       "      <th>id</th>\n",
       "      <th>is_starrable</th>\n",
       "      <th>pledged</th>\n",
       "      <th>spotlight</th>\n",
       "      <th>...</th>\n",
       "      <th>goal_surpass</th>\n",
       "      <th>goal_surpass_share</th>\n",
       "      <th>goal_surpass_usd</th>\n",
       "      <th>goal_usd</th>\n",
       "      <th>blurb_words</th>\n",
       "      <th>blurb_len</th>\n",
       "      <th>name_len</th>\n",
       "      <th>name_words</th>\n",
       "      <th>state_bool</th>\n",
       "      <th>baseline</th>\n",
       "    </tr>\n",
       "    <tr>\n",
       "      <th>state</th>\n",
       "      <th></th>\n",
       "      <th></th>\n",
       "      <th></th>\n",
       "      <th></th>\n",
       "      <th></th>\n",
       "      <th></th>\n",
       "      <th></th>\n",
       "      <th></th>\n",
       "      <th></th>\n",
       "      <th></th>\n",
       "      <th></th>\n",
       "      <th></th>\n",
       "      <th></th>\n",
       "      <th></th>\n",
       "      <th></th>\n",
       "      <th></th>\n",
       "      <th></th>\n",
       "      <th></th>\n",
       "      <th></th>\n",
       "      <th></th>\n",
       "      <th></th>\n",
       "    </tr>\n",
       "  </thead>\n",
       "  <tbody>\n",
       "    <tr>\n",
       "      <th>failed</th>\n",
       "      <td>12.311659</td>\n",
       "      <td>1093.026359</td>\n",
       "      <td>0.811140</td>\n",
       "      <td>0.0</td>\n",
       "      <td>0.991108</td>\n",
       "      <td>93559.720535</td>\n",
       "      <td>1.072412e+09</td>\n",
       "      <td>0.0</td>\n",
       "      <td>1619.362907</td>\n",
       "      <td>0.0</td>\n",
       "      <td>...</td>\n",
       "      <td>-91940.357628</td>\n",
       "      <td>-0.920050</td>\n",
       "      <td>-80548.314729</td>\n",
       "      <td>81642.814083</td>\n",
       "      <td>19.125848</td>\n",
       "      <td>112.884714</td>\n",
       "      <td>32.625369</td>\n",
       "      <td>5.269341</td>\n",
       "      <td>0.0</td>\n",
       "      <td>0.598942</td>\n",
       "    </tr>\n",
       "    <tr>\n",
       "      <th>successful</th>\n",
       "      <td>240.337140</td>\n",
       "      <td>20743.456587</td>\n",
       "      <td>0.838827</td>\n",
       "      <td>0.0</td>\n",
       "      <td>1.000928</td>\n",
       "      <td>12960.477943</td>\n",
       "      <td>1.073433e+09</td>\n",
       "      <td>0.0</td>\n",
       "      <td>28306.564273</td>\n",
       "      <td>1.0</td>\n",
       "      <td>...</td>\n",
       "      <td>15346.086330</td>\n",
       "      <td>7.340443</td>\n",
       "      <td>11500.767314</td>\n",
       "      <td>9259.999542</td>\n",
       "      <td>18.915279</td>\n",
       "      <td>112.814781</td>\n",
       "      <td>36.486671</td>\n",
       "      <td>6.049763</td>\n",
       "      <td>1.0</td>\n",
       "      <td>0.829574</td>\n",
       "    </tr>\n",
       "  </tbody>\n",
       "</table>\n",
       "<p>2 rows × 28 columns</p>\n",
       "</div>"
      ],
      "text/plain": [
       "            backers_count  converted_pledged_amount  currency_trailing_code  \\\n",
       "state                                                                         \n",
       "failed          12.311659               1093.026359                0.811140   \n",
       "successful     240.337140              20743.456587                0.838827   \n",
       "\n",
       "            disable_communication   fx_rate          goal            id  \\\n",
       "state                                                                     \n",
       "failed                        0.0  0.991108  93559.720535  1.072412e+09   \n",
       "successful                    0.0  1.000928  12960.477943  1.073433e+09   \n",
       "\n",
       "            is_starrable       pledged  spotlight  ...  goal_surpass  \\\n",
       "state                                              ...                 \n",
       "failed               0.0   1619.362907        0.0  ... -91940.357628   \n",
       "successful           0.0  28306.564273        1.0  ...  15346.086330   \n",
       "\n",
       "            goal_surpass_share  goal_surpass_usd      goal_usd  blurb_words  \\\n",
       "state                                                                         \n",
       "failed               -0.920050     -80548.314729  81642.814083    19.125848   \n",
       "successful            7.340443      11500.767314   9259.999542    18.915279   \n",
       "\n",
       "             blurb_len   name_len  name_words  state_bool  baseline  \n",
       "state                                                                \n",
       "failed      112.884714  32.625369    5.269341         0.0  0.598942  \n",
       "successful  112.814781  36.486671    6.049763         1.0  0.829574  \n",
       "\n",
       "[2 rows x 28 columns]"
      ]
     },
     "execution_count": 130,
     "metadata": {},
     "output_type": "execute_result"
    }
   ],
   "source": [
    "frame_all.groupby('state').mean()"
   ]
  },
  {
   "cell_type": "code",
   "execution_count": 131,
   "metadata": {},
   "outputs": [],
   "source": [
    "# # Calculate amount of surpass or not surpass (pledged - goal)\n",
    "# frame_all['goal_surpass'] = frame_all['pledged'] - frame_all['goal']\n",
    "# # Calculate share of surpassing or not surpassing\n",
    "# frame_all['goal_surpass_share'] = frame_all['goal_surpass'] / frame_all['goal']\n",
    "# # Convert goal_surpass into USD\n",
    "# frame_all['goal_surpass_usd'] = frame_all['goal_surpass'] * frame_all['static_usd_rate']\n",
    "# # Convert goal into USD\n",
    "# frame_all['goal_usd'] = frame_all['goal'] * frame_all['static_usd_rate']\n",
    "\n",
    "# # JUST FOR DOUBLE CHECKING THE RESULTS:\n",
    "# # Calculate amount of surpass or not surpass in USD for check (usd_pledged - goal_usd)\n",
    "# frame_all['goal_surpass_usd_check'] = frame_all['usd_pledged'] - frame_all['goal_usd']\n",
    "# # Calculate share of surpassing or not surpassing of the USD check\n",
    "# frame_all['goal_surpass_share_usd'] = frame_all['goal_surpass_usd_check'] / frame_all['goal_usd']\n"
   ]
  },
  {
   "cell_type": "code",
   "execution_count": 132,
   "metadata": {},
   "outputs": [],
   "source": [
    "# frame_all['error_share']= frame_all['goal_surpass_share_usd'] - frame_all['goal_surpass_share']\n",
    "# frame_all['error_share'].abs().sum()"
   ]
  },
  {
   "cell_type": "code",
   "execution_count": 133,
   "metadata": {},
   "outputs": [],
   "source": [
    "# print(frame_all.goal_surpass_share.describe())\n",
    "# print(frame_all.goal_surpass_share_usd.describe())"
   ]
  },
  {
   "cell_type": "markdown",
   "metadata": {},
   "source": [
    "#### RESULT: 'goal_surpass_share' and 'goal_surpass_usd' can be used since the \"check-columns\" provide the same results.\n",
    "#### TAKE CARE: There are huge outliers in the share --> Max 68763 (project id: 1947298033)"
   ]
  },
  {
   "cell_type": "code",
   "execution_count": 188,
   "metadata": {},
   "outputs": [
    {
     "name": "stdout",
     "output_type": "stream",
     "text": [
      "backers_count                                                             955\n",
      "blurb                       The 3rd installment of the popular Covers with...\n",
      "converted_pledged_amount                                                68764\n",
      "country                                                                    US\n",
      "created_at                                                2016-10-11 23:14:53\n",
      "                                                  ...                        \n",
      "currency_NOK                                                                0\n",
      "currency_NZD                                                                0\n",
      "currency_SEK                                                                0\n",
      "currency_SGD                                                                0\n",
      "currency_USD                                                                1\n",
      "Name: 70691, Length: 82, dtype: object\n"
     ]
    }
   ],
   "source": [
    "i = frame_all.goal_surpass_share.argmax()\n",
    "print(frame_all.iloc[i])"
   ]
  },
  {
   "cell_type": "code",
   "execution_count": 135,
   "metadata": {},
   "outputs": [],
   "source": [
    "goal_1 = frame_all.loc[frame_all['goal'] == 1]\n",
    "\n",
    "# RESULT: There are 246+17 rows where the goal only was 1 (Currency). Valid observations?"
   ]
  },
  {
   "cell_type": "code",
   "execution_count": 136,
   "metadata": {},
   "outputs": [
    {
     "data": {
      "text/plain": [
       "successful    246\n",
       "failed         17\n",
       "Name: state, dtype: int64"
      ]
     },
     "execution_count": 136,
     "metadata": {},
     "output_type": "execute_result"
    }
   ],
   "source": [
    "goal_1.state.value_counts()"
   ]
  },
  {
   "cell_type": "code",
   "execution_count": 137,
   "metadata": {},
   "outputs": [],
   "source": [
    "failed = frame_all.loc[frame_all['state'] == 'failed']\n",
    "success = frame_all.loc[frame_all['state'] == 'successful']\n",
    "\n"
   ]
  },
  {
   "cell_type": "code",
   "execution_count": 138,
   "metadata": {},
   "outputs": [
    {
     "data": {
      "text/html": [
       "<div>\n",
       "<style scoped>\n",
       "    .dataframe tbody tr th:only-of-type {\n",
       "        vertical-align: middle;\n",
       "    }\n",
       "\n",
       "    .dataframe tbody tr th {\n",
       "        vertical-align: top;\n",
       "    }\n",
       "\n",
       "    .dataframe thead th {\n",
       "        text-align: right;\n",
       "    }\n",
       "</style>\n",
       "<table border=\"1\" class=\"dataframe\">\n",
       "  <thead>\n",
       "    <tr style=\"text-align: right;\">\n",
       "      <th></th>\n",
       "      <th>backers_count</th>\n",
       "      <th>blurb</th>\n",
       "      <th>converted_pledged_amount</th>\n",
       "      <th>country</th>\n",
       "      <th>created_at</th>\n",
       "      <th>currency</th>\n",
       "      <th>currency_symbol</th>\n",
       "      <th>currency_trailing_code</th>\n",
       "      <th>current_currency</th>\n",
       "      <th>deadline</th>\n",
       "      <th>...</th>\n",
       "      <th>goal_surpass</th>\n",
       "      <th>goal_surpass_share</th>\n",
       "      <th>goal_surpass_usd</th>\n",
       "      <th>goal_usd</th>\n",
       "      <th>blurb_words</th>\n",
       "      <th>blurb_len</th>\n",
       "      <th>name_len</th>\n",
       "      <th>name_words</th>\n",
       "      <th>state_bool</th>\n",
       "      <th>baseline</th>\n",
       "    </tr>\n",
       "  </thead>\n",
       "  <tbody>\n",
       "    <tr>\n",
       "      <th>4</th>\n",
       "      <td>20</td>\n",
       "      <td>Learn to build 10+ Applications in this comple...</td>\n",
       "      <td>549</td>\n",
       "      <td>US</td>\n",
       "      <td>2015-03-07 05:35:17</td>\n",
       "      <td>USD</td>\n",
       "      <td>$</td>\n",
       "      <td>True</td>\n",
       "      <td>USD</td>\n",
       "      <td>2015-04-08 16:36:57</td>\n",
       "      <td>...</td>\n",
       "      <td>-451.0</td>\n",
       "      <td>-0.451000</td>\n",
       "      <td>-451.000000</td>\n",
       "      <td>1000.000000</td>\n",
       "      <td>22.0</td>\n",
       "      <td>133.0</td>\n",
       "      <td>30</td>\n",
       "      <td>4</td>\n",
       "      <td>0</td>\n",
       "      <td>0</td>\n",
       "    </tr>\n",
       "    <tr>\n",
       "      <th>7</th>\n",
       "      <td>1</td>\n",
       "      <td>Let's build and remix a new Personal Web Theme...</td>\n",
       "      <td>30</td>\n",
       "      <td>US</td>\n",
       "      <td>2014-04-14 00:24:36</td>\n",
       "      <td>USD</td>\n",
       "      <td>$</td>\n",
       "      <td>True</td>\n",
       "      <td>USD</td>\n",
       "      <td>2014-11-22 18:22:00</td>\n",
       "      <td>...</td>\n",
       "      <td>-19970.0</td>\n",
       "      <td>-0.998500</td>\n",
       "      <td>-19970.000000</td>\n",
       "      <td>20000.000000</td>\n",
       "      <td>22.0</td>\n",
       "      <td>132.0</td>\n",
       "      <td>45</td>\n",
       "      <td>7</td>\n",
       "      <td>0</td>\n",
       "      <td>0</td>\n",
       "    </tr>\n",
       "    <tr>\n",
       "      <th>8</th>\n",
       "      <td>2</td>\n",
       "      <td>A limited edition, signed and numbered hand sc...</td>\n",
       "      <td>70</td>\n",
       "      <td>US</td>\n",
       "      <td>2012-07-23 16:29:15</td>\n",
       "      <td>USD</td>\n",
       "      <td>$</td>\n",
       "      <td>True</td>\n",
       "      <td>USD</td>\n",
       "      <td>2012-10-06 16:37:30</td>\n",
       "      <td>...</td>\n",
       "      <td>-14430.0</td>\n",
       "      <td>-0.995172</td>\n",
       "      <td>-14430.000000</td>\n",
       "      <td>14500.000000</td>\n",
       "      <td>17.0</td>\n",
       "      <td>111.0</td>\n",
       "      <td>40</td>\n",
       "      <td>5</td>\n",
       "      <td>0</td>\n",
       "      <td>1</td>\n",
       "    </tr>\n",
       "    <tr>\n",
       "      <th>9</th>\n",
       "      <td>31</td>\n",
       "      <td>Play this hilarious, nonsensical card game for...</td>\n",
       "      <td>1344</td>\n",
       "      <td>US</td>\n",
       "      <td>2016-06-06 17:26:56</td>\n",
       "      <td>USD</td>\n",
       "      <td>$</td>\n",
       "      <td>True</td>\n",
       "      <td>USD</td>\n",
       "      <td>2016-07-29 23:57:58</td>\n",
       "      <td>...</td>\n",
       "      <td>-8656.0</td>\n",
       "      <td>-0.865600</td>\n",
       "      <td>-8656.000000</td>\n",
       "      <td>10000.000000</td>\n",
       "      <td>9.0</td>\n",
       "      <td>65.0</td>\n",
       "      <td>7</td>\n",
       "      <td>1</td>\n",
       "      <td>0</td>\n",
       "      <td>1</td>\n",
       "    </tr>\n",
       "    <tr>\n",
       "      <th>14</th>\n",
       "      <td>0</td>\n",
       "      <td>OVERTHROW THE KING AND TAKE WHAT IS YOURS &amp; Ki...</td>\n",
       "      <td>0</td>\n",
       "      <td>US</td>\n",
       "      <td>2016-04-26 08:56:26</td>\n",
       "      <td>USD</td>\n",
       "      <td>$</td>\n",
       "      <td>True</td>\n",
       "      <td>USD</td>\n",
       "      <td>2016-06-01 09:46:59</td>\n",
       "      <td>...</td>\n",
       "      <td>-5000.0</td>\n",
       "      <td>-1.000000</td>\n",
       "      <td>-5000.000000</td>\n",
       "      <td>5000.000000</td>\n",
       "      <td>20.0</td>\n",
       "      <td>107.0</td>\n",
       "      <td>35</td>\n",
       "      <td>7</td>\n",
       "      <td>0</td>\n",
       "      <td>1</td>\n",
       "    </tr>\n",
       "    <tr>\n",
       "      <th>...</th>\n",
       "      <td>...</td>\n",
       "      <td>...</td>\n",
       "      <td>...</td>\n",
       "      <td>...</td>\n",
       "      <td>...</td>\n",
       "      <td>...</td>\n",
       "      <td>...</td>\n",
       "      <td>...</td>\n",
       "      <td>...</td>\n",
       "      <td>...</td>\n",
       "      <td>...</td>\n",
       "      <td>...</td>\n",
       "      <td>...</td>\n",
       "      <td>...</td>\n",
       "      <td>...</td>\n",
       "      <td>...</td>\n",
       "      <td>...</td>\n",
       "      <td>...</td>\n",
       "      <td>...</td>\n",
       "      <td>...</td>\n",
       "      <td>...</td>\n",
       "    </tr>\n",
       "    <tr>\n",
       "      <th>209210</th>\n",
       "      <td>5</td>\n",
       "      <td>Alison's a UK musician specialising in bollywo...</td>\n",
       "      <td>167</td>\n",
       "      <td>GB</td>\n",
       "      <td>2014-02-28 15:05:30</td>\n",
       "      <td>GBP</td>\n",
       "      <td>£</td>\n",
       "      <td>False</td>\n",
       "      <td>USD</td>\n",
       "      <td>2014-05-02 14:33:00</td>\n",
       "      <td>...</td>\n",
       "      <td>-401.0</td>\n",
       "      <td>-0.802000</td>\n",
       "      <td>-667.603418</td>\n",
       "      <td>832.423215</td>\n",
       "      <td>23.0</td>\n",
       "      <td>134.0</td>\n",
       "      <td>58</td>\n",
       "      <td>7</td>\n",
       "      <td>0</td>\n",
       "      <td>1</td>\n",
       "    </tr>\n",
       "    <tr>\n",
       "      <th>209213</th>\n",
       "      <td>0</td>\n",
       "      <td>The Liberal Studies Leader is a website for sh...</td>\n",
       "      <td>0</td>\n",
       "      <td>US</td>\n",
       "      <td>2017-03-17 15:46:49</td>\n",
       "      <td>USD</td>\n",
       "      <td>$</td>\n",
       "      <td>True</td>\n",
       "      <td>USD</td>\n",
       "      <td>2017-04-16 16:55:34</td>\n",
       "      <td>...</td>\n",
       "      <td>-2500.0</td>\n",
       "      <td>-1.000000</td>\n",
       "      <td>-2500.000000</td>\n",
       "      <td>2500.000000</td>\n",
       "      <td>18.0</td>\n",
       "      <td>122.0</td>\n",
       "      <td>26</td>\n",
       "      <td>4</td>\n",
       "      <td>0</td>\n",
       "      <td>1</td>\n",
       "    </tr>\n",
       "    <tr>\n",
       "      <th>209214</th>\n",
       "      <td>7</td>\n",
       "      <td>There are known website for providing free and...</td>\n",
       "      <td>135</td>\n",
       "      <td>US</td>\n",
       "      <td>2017-02-21 18:39:30</td>\n",
       "      <td>USD</td>\n",
       "      <td>$</td>\n",
       "      <td>True</td>\n",
       "      <td>USD</td>\n",
       "      <td>2017-03-23 17:42:00</td>\n",
       "      <td>...</td>\n",
       "      <td>-4865.0</td>\n",
       "      <td>-0.973000</td>\n",
       "      <td>-4865.000000</td>\n",
       "      <td>5000.000000</td>\n",
       "      <td>23.0</td>\n",
       "      <td>134.0</td>\n",
       "      <td>36</td>\n",
       "      <td>6</td>\n",
       "      <td>0</td>\n",
       "      <td>0</td>\n",
       "    </tr>\n",
       "    <tr>\n",
       "      <th>209218</th>\n",
       "      <td>11</td>\n",
       "      <td>Over 250 healthy recipes free from ANY added S...</td>\n",
       "      <td>305</td>\n",
       "      <td>AU</td>\n",
       "      <td>2015-12-22 03:01:05</td>\n",
       "      <td>AUD</td>\n",
       "      <td>$</td>\n",
       "      <td>True</td>\n",
       "      <td>USD</td>\n",
       "      <td>2016-01-25 09:15:09</td>\n",
       "      <td>...</td>\n",
       "      <td>-7565.0</td>\n",
       "      <td>-0.945625</td>\n",
       "      <td>-5504.103892</td>\n",
       "      <td>5820.598960</td>\n",
       "      <td>20.0</td>\n",
       "      <td>132.0</td>\n",
       "      <td>60</td>\n",
       "      <td>10</td>\n",
       "      <td>0</td>\n",
       "      <td>0</td>\n",
       "    </tr>\n",
       "    <tr>\n",
       "      <th>209219</th>\n",
       "      <td>0</td>\n",
       "      <td>Give your baby style and flair with \"Gorgeous ...</td>\n",
       "      <td>0</td>\n",
       "      <td>US</td>\n",
       "      <td>2016-08-12 08:48:02</td>\n",
       "      <td>USD</td>\n",
       "      <td>$</td>\n",
       "      <td>True</td>\n",
       "      <td>USD</td>\n",
       "      <td>2016-09-25 21:09:13</td>\n",
       "      <td>...</td>\n",
       "      <td>-8000.0</td>\n",
       "      <td>-1.000000</td>\n",
       "      <td>-8000.000000</td>\n",
       "      <td>8000.000000</td>\n",
       "      <td>12.0</td>\n",
       "      <td>82.0</td>\n",
       "      <td>36</td>\n",
       "      <td>4</td>\n",
       "      <td>0</td>\n",
       "      <td>1</td>\n",
       "    </tr>\n",
       "  </tbody>\n",
       "</table>\n",
       "<p>74129 rows × 57 columns</p>\n",
       "</div>"
      ],
      "text/plain": [
       "        backers_count                                              blurb  \\\n",
       "4                  20  Learn to build 10+ Applications in this comple...   \n",
       "7                   1  Let's build and remix a new Personal Web Theme...   \n",
       "8                   2  A limited edition, signed and numbered hand sc...   \n",
       "9                  31  Play this hilarious, nonsensical card game for...   \n",
       "14                  0  OVERTHROW THE KING AND TAKE WHAT IS YOURS & Ki...   \n",
       "...               ...                                                ...   \n",
       "209210              5  Alison's a UK musician specialising in bollywo...   \n",
       "209213              0  The Liberal Studies Leader is a website for sh...   \n",
       "209214              7  There are known website for providing free and...   \n",
       "209218             11  Over 250 healthy recipes free from ANY added S...   \n",
       "209219              0  Give your baby style and flair with \"Gorgeous ...   \n",
       "\n",
       "        converted_pledged_amount country           created_at currency  \\\n",
       "4                            549      US  2015-03-07 05:35:17      USD   \n",
       "7                             30      US  2014-04-14 00:24:36      USD   \n",
       "8                             70      US  2012-07-23 16:29:15      USD   \n",
       "9                           1344      US  2016-06-06 17:26:56      USD   \n",
       "14                             0      US  2016-04-26 08:56:26      USD   \n",
       "...                          ...     ...                  ...      ...   \n",
       "209210                       167      GB  2014-02-28 15:05:30      GBP   \n",
       "209213                         0      US  2017-03-17 15:46:49      USD   \n",
       "209214                       135      US  2017-02-21 18:39:30      USD   \n",
       "209218                       305      AU  2015-12-22 03:01:05      AUD   \n",
       "209219                         0      US  2016-08-12 08:48:02      USD   \n",
       "\n",
       "       currency_symbol  currency_trailing_code current_currency  \\\n",
       "4                    $                    True              USD   \n",
       "7                    $                    True              USD   \n",
       "8                    $                    True              USD   \n",
       "9                    $                    True              USD   \n",
       "14                   $                    True              USD   \n",
       "...                ...                     ...              ...   \n",
       "209210               £                   False              USD   \n",
       "209213               $                    True              USD   \n",
       "209214               $                    True              USD   \n",
       "209218               $                    True              USD   \n",
       "209219               $                    True              USD   \n",
       "\n",
       "                   deadline  ...  goal_surpass  goal_surpass_share  \\\n",
       "4       2015-04-08 16:36:57  ...        -451.0           -0.451000   \n",
       "7       2014-11-22 18:22:00  ...      -19970.0           -0.998500   \n",
       "8       2012-10-06 16:37:30  ...      -14430.0           -0.995172   \n",
       "9       2016-07-29 23:57:58  ...       -8656.0           -0.865600   \n",
       "14      2016-06-01 09:46:59  ...       -5000.0           -1.000000   \n",
       "...                     ...  ...           ...                 ...   \n",
       "209210  2014-05-02 14:33:00  ...        -401.0           -0.802000   \n",
       "209213  2017-04-16 16:55:34  ...       -2500.0           -1.000000   \n",
       "209214  2017-03-23 17:42:00  ...       -4865.0           -0.973000   \n",
       "209218  2016-01-25 09:15:09  ...       -7565.0           -0.945625   \n",
       "209219  2016-09-25 21:09:13  ...       -8000.0           -1.000000   \n",
       "\n",
       "        goal_surpass_usd      goal_usd  blurb_words blurb_len name_len  \\\n",
       "4            -451.000000   1000.000000         22.0     133.0       30   \n",
       "7          -19970.000000  20000.000000         22.0     132.0       45   \n",
       "8          -14430.000000  14500.000000         17.0     111.0       40   \n",
       "9           -8656.000000  10000.000000          9.0      65.0        7   \n",
       "14          -5000.000000   5000.000000         20.0     107.0       35   \n",
       "...                  ...           ...          ...       ...      ...   \n",
       "209210       -667.603418    832.423215         23.0     134.0       58   \n",
       "209213      -2500.000000   2500.000000         18.0     122.0       26   \n",
       "209214      -4865.000000   5000.000000         23.0     134.0       36   \n",
       "209218      -5504.103892   5820.598960         20.0     132.0       60   \n",
       "209219      -8000.000000   8000.000000         12.0      82.0       36   \n",
       "\n",
       "        name_words state_bool baseline  \n",
       "4                4          0        0  \n",
       "7                7          0        0  \n",
       "8                5          0        1  \n",
       "9                1          0        1  \n",
       "14               7          0        1  \n",
       "...            ...        ...      ...  \n",
       "209210           7          0        1  \n",
       "209213           4          0        1  \n",
       "209214           6          0        0  \n",
       "209218          10          0        0  \n",
       "209219           4          0        1  \n",
       "\n",
       "[74129 rows x 57 columns]"
      ]
     },
     "execution_count": 138,
     "metadata": {},
     "output_type": "execute_result"
    }
   ],
   "source": [
    "failed"
   ]
  },
  {
   "cell_type": "code",
   "execution_count": 139,
   "metadata": {},
   "outputs": [
    {
     "data": {
      "text/plain": [
       "backers_count                                                          105857\n",
       "blurb                       🚨 Limited-Time Offers 🚨 Early Access 🚨 World-C...\n",
       "converted_pledged_amount                                              8596474\n",
       "country                                                                    US\n",
       "created_at                                                2019-03-04 04:34:18\n",
       "currency                                                                  USD\n",
       "currency_symbol                                                             €\n",
       "currency_trailing_code                                                   True\n",
       "current_currency                                                          USD\n",
       "deadline                                                  2019-03-14 04:06:01\n",
       "disable_communication                                                   False\n",
       "fx_rate                                                               1.32568\n",
       "goal                                                               68000000.0\n",
       "id                                                                 2147476221\n",
       "is_starrable                                                            False\n",
       "launched_at                                               2019-03-06 05:07:40\n",
       "name                        📜🎨🤖 Quickstarter: A Genealogy of Public Street...\n",
       "pledged                                                            81030744.0\n",
       "slug                                     zzap-64-annual-2019-the-next-chapter\n",
       "source_url                  https://www.kickstarter.com/discover/categorie...\n",
       "spotlight                                                                True\n",
       "staff_pick                                                               True\n",
       "state                                                              successful\n",
       "state_changed_at                                          2019-03-14 04:06:02\n",
       "static_usd_rate                                                      1.716408\n",
       "usd_pledged                                                        8596474.58\n",
       "usd_type                                                        international\n",
       "dur_inactive                                                      285428640.0\n",
       "dur_until_state_changed                                             8044324.0\n",
       "dur_active                                                          8044324.0\n",
       "dur_ratio                                                            2.265945\n",
       "cat_name                                                                Zines\n",
       "cat_slug                                                       theater/spaces\n",
       "loc_name                                                          Želechovice\n",
       "loc_state                                             مراكش ـ تانسيفت ـ الحوز\n",
       "loc_type                                                                  Zip\n",
       "photo_thumb                 https://ksr-ugc.imgix.net/projects/1260778/pho...\n",
       "photo_large                 https://ksr-ugc.imgix.net/projects/1260778/pho...\n",
       "project_address             https://www.kickstarter.com/projects/zzkrecord...\n",
       "profile_photo                                       projects/missing_full.png\n",
       "creator_id                                                         2147465423\n",
       "creator_thumb               https://ksr-ugc.imgix.net/missing_user_avatar....\n",
       "creator_address                https://www.kickstarter.com/profile/zzkrecords\n",
       "main_category                                                         theater\n",
       "sub_category                                                            zines\n",
       "goal_surpass                                                       42401709.0\n",
       "goal_surpass_share                                                    68763.1\n",
       "goal_surpass_usd                                                   7646474.58\n",
       "goal_usd                                                            2000000.0\n",
       "blurb_words                                                              35.0\n",
       "blurb_len                                                               196.0\n",
       "name_len                                                                   85\n",
       "name_words                                                                 27\n",
       "state_bool                                                                  1\n",
       "baseline                                                                    1\n",
       "dtype: object"
      ]
     },
     "execution_count": 139,
     "metadata": {},
     "output_type": "execute_result"
    }
   ],
   "source": [
    "success.max()\n",
    "\n",
    "# RESULT: Within the successful projects, max goal is 200.000 USD "
   ]
  },
  {
   "cell_type": "code",
   "execution_count": 140,
   "metadata": {},
   "outputs": [],
   "source": [
    "failed_0 = failed.loc[failed['goal_surpass'] > 0]\n",
    "\n",
    "# RESULT: 3 observations surpassed the goal but nevertheless failed --> Shall be removed??\n"
   ]
  },
  {
   "cell_type": "code",
   "execution_count": 141,
   "metadata": {},
   "outputs": [
    {
     "data": {
      "text/html": [
       "<div>\n",
       "<style scoped>\n",
       "    .dataframe tbody tr th:only-of-type {\n",
       "        vertical-align: middle;\n",
       "    }\n",
       "\n",
       "    .dataframe tbody tr th {\n",
       "        vertical-align: top;\n",
       "    }\n",
       "\n",
       "    .dataframe thead th {\n",
       "        text-align: right;\n",
       "    }\n",
       "</style>\n",
       "<table border=\"1\" class=\"dataframe\">\n",
       "  <thead>\n",
       "    <tr style=\"text-align: right;\">\n",
       "      <th></th>\n",
       "      <th>backers_count</th>\n",
       "      <th>blurb</th>\n",
       "      <th>converted_pledged_amount</th>\n",
       "      <th>country</th>\n",
       "      <th>created_at</th>\n",
       "      <th>currency</th>\n",
       "      <th>currency_symbol</th>\n",
       "      <th>currency_trailing_code</th>\n",
       "      <th>current_currency</th>\n",
       "      <th>deadline</th>\n",
       "      <th>...</th>\n",
       "      <th>goal_surpass</th>\n",
       "      <th>goal_surpass_share</th>\n",
       "      <th>goal_surpass_usd</th>\n",
       "      <th>goal_usd</th>\n",
       "      <th>blurb_words</th>\n",
       "      <th>blurb_len</th>\n",
       "      <th>name_len</th>\n",
       "      <th>name_words</th>\n",
       "      <th>state_bool</th>\n",
       "      <th>baseline</th>\n",
       "    </tr>\n",
       "  </thead>\n",
       "  <tbody>\n",
       "    <tr>\n",
       "      <th>40082</th>\n",
       "      <td>141</td>\n",
       "      <td>A variety of textures, and grooves  from heavy...</td>\n",
       "      <td>23020</td>\n",
       "      <td>US</td>\n",
       "      <td>2013-01-15 13:47:00</td>\n",
       "      <td>USD</td>\n",
       "      <td>$</td>\n",
       "      <td>True</td>\n",
       "      <td>USD</td>\n",
       "      <td>2013-04-04 08:55:56</td>\n",
       "      <td>...</td>\n",
       "      <td>20.01</td>\n",
       "      <td>0.00087</td>\n",
       "      <td>20.01</td>\n",
       "      <td>23000.0</td>\n",
       "      <td>18.0</td>\n",
       "      <td>114.0</td>\n",
       "      <td>9</td>\n",
       "      <td>1</td>\n",
       "      <td>0</td>\n",
       "      <td>1</td>\n",
       "    </tr>\n",
       "    <tr>\n",
       "      <th>60727</th>\n",
       "      <td>5</td>\n",
       "      <td>A must have in your outdoor survivalist backpa...</td>\n",
       "      <td>1551</td>\n",
       "      <td>US</td>\n",
       "      <td>2018-07-27 03:03:12</td>\n",
       "      <td>USD</td>\n",
       "      <td>$</td>\n",
       "      <td>True</td>\n",
       "      <td>USD</td>\n",
       "      <td>2018-08-19 19:26:51</td>\n",
       "      <td>...</td>\n",
       "      <td>1051.00</td>\n",
       "      <td>2.10200</td>\n",
       "      <td>1051.00</td>\n",
       "      <td>500.0</td>\n",
       "      <td>15.0</td>\n",
       "      <td>93.0</td>\n",
       "      <td>28</td>\n",
       "      <td>5</td>\n",
       "      <td>0</td>\n",
       "      <td>0</td>\n",
       "    </tr>\n",
       "    <tr>\n",
       "      <th>149883</th>\n",
       "      <td>86</td>\n",
       "      <td>qFoods is the app that helps you make healthie...</td>\n",
       "      <td>25022</td>\n",
       "      <td>US</td>\n",
       "      <td>2016-10-27 17:12:58</td>\n",
       "      <td>USD</td>\n",
       "      <td>$</td>\n",
       "      <td>True</td>\n",
       "      <td>USD</td>\n",
       "      <td>2018-05-21 19:12:52</td>\n",
       "      <td>...</td>\n",
       "      <td>22.00</td>\n",
       "      <td>0.00088</td>\n",
       "      <td>22.00</td>\n",
       "      <td>25000.0</td>\n",
       "      <td>24.0</td>\n",
       "      <td>135.0</td>\n",
       "      <td>58</td>\n",
       "      <td>10</td>\n",
       "      <td>0</td>\n",
       "      <td>0</td>\n",
       "    </tr>\n",
       "  </tbody>\n",
       "</table>\n",
       "<p>3 rows × 57 columns</p>\n",
       "</div>"
      ],
      "text/plain": [
       "        backers_count                                              blurb  \\\n",
       "40082             141  A variety of textures, and grooves  from heavy...   \n",
       "60727               5  A must have in your outdoor survivalist backpa...   \n",
       "149883             86  qFoods is the app that helps you make healthie...   \n",
       "\n",
       "        converted_pledged_amount country           created_at currency  \\\n",
       "40082                      23020      US  2013-01-15 13:47:00      USD   \n",
       "60727                       1551      US  2018-07-27 03:03:12      USD   \n",
       "149883                     25022      US  2016-10-27 17:12:58      USD   \n",
       "\n",
       "       currency_symbol  currency_trailing_code current_currency  \\\n",
       "40082                $                    True              USD   \n",
       "60727                $                    True              USD   \n",
       "149883               $                    True              USD   \n",
       "\n",
       "                   deadline  ...  goal_surpass  goal_surpass_share  \\\n",
       "40082   2013-04-04 08:55:56  ...         20.01             0.00087   \n",
       "60727   2018-08-19 19:26:51  ...       1051.00             2.10200   \n",
       "149883  2018-05-21 19:12:52  ...         22.00             0.00088   \n",
       "\n",
       "        goal_surpass_usd  goal_usd  blurb_words blurb_len name_len  \\\n",
       "40082              20.01   23000.0         18.0     114.0        9   \n",
       "60727            1051.00     500.0         15.0      93.0       28   \n",
       "149883             22.00   25000.0         24.0     135.0       58   \n",
       "\n",
       "        name_words state_bool baseline  \n",
       "40082            1          0        1  \n",
       "60727            5          0        0  \n",
       "149883          10          0        0  \n",
       "\n",
       "[3 rows x 57 columns]"
      ]
     },
     "execution_count": 141,
     "metadata": {},
     "output_type": "execute_result"
    }
   ],
   "source": [
    "failed_0"
   ]
  },
  {
   "cell_type": "code",
   "execution_count": 142,
   "metadata": {},
   "outputs": [
    {
     "data": {
      "text/plain": [
       "<AxesSubplot:xlabel='goal_usd', ylabel='goal_surpass_usd'>"
      ]
     },
     "execution_count": 142,
     "metadata": {},
     "output_type": "execute_result"
    },
    {
     "data": {
      "image/png": "[encoded data removed]",
      "text/plain": [
       "<Figure size 1440x720 with 1 Axes>"
      ]
     },
     "metadata": {
      "needs_background": "light"
     },
     "output_type": "display_data"
    }
   ],
   "source": [
    "fig = plt.figure(figsize=(20, 10))\n",
    "sns.scatterplot(x='goal_usd', y='goal_surpass_usd', data=frame_all, hue='state')\n",
    "# RESULT: The higher the goal the more projects have failed."
   ]
  },
  {
   "cell_type": "code",
   "execution_count": 143,
   "metadata": {},
   "outputs": [
    {
     "data": {
      "text/plain": [
       "<AxesSubplot:xlabel='goal_usd', ylabel='state'>"
      ]
     },
     "execution_count": 143,
     "metadata": {},
     "output_type": "execute_result"
    },
    {
     "data": {
      "image/png": "[encoded data removed]",
      "text/plain": [
       "<Figure size 1440x720 with 1 Axes>"
      ]
     },
     "metadata": {
      "needs_background": "light"
     },
     "output_type": "display_data"
    }
   ],
   "source": [
    "fig = plt.figure(figsize=(20, 10))\n",
    "sns.scatterplot(x='goal_usd', y='state', data=frame_all, hue='state')\n",
    "# RESULT: The higher the goal the more projects have failed."
   ]
  },
  {
   "cell_type": "code",
   "execution_count": 144,
   "metadata": {},
   "outputs": [
    {
     "name": "stdout",
     "output_type": "stream",
     "text": [
      "backers_count                                                               0\n",
      "blurb                       A 2000 year old \"Romeo & Juliet\" love story, s...\n",
      "converted_pledged_amount                                                    0\n",
      "country                                                                    GB\n",
      "created_at                                                2015-10-29 22:01:46\n",
      "currency                                                                  GBP\n",
      "currency_symbol                                                             £\n",
      "currency_trailing_code                                                  False\n",
      "current_currency                                                          USD\n",
      "deadline                                                  2015-11-30 22:01:00\n",
      "disable_communication                                                   False\n",
      "fx_rate                                                               1.32568\n",
      "goal                                                              100000000.0\n",
      "id                                                                 2000749004\n",
      "is_starrable                                                            False\n",
      "launched_at                                               2015-11-16 23:47:15\n",
      "name                                                       A Celtic Lovestory\n",
      "pledged                                                                   0.0\n",
      "slug                                                       a-celtic-lovestory\n",
      "source_url                  https://www.kickstarter.com/discover/categorie...\n",
      "spotlight                                                               False\n",
      "staff_pick                                                              False\n",
      "state                                                                  failed\n",
      "state_changed_at                                          2015-11-30 22:01:00\n",
      "static_usd_rate                                                      1.523501\n",
      "usd_pledged                                                               0.0\n",
      "usd_type                                                        international\n",
      "dur_inactive                                                        1561529.0\n",
      "dur_until_state_changed                                             1203225.0\n",
      "dur_active                                                          1203225.0\n",
      "dur_ratio                                                                 1.0\n",
      "cat_name                                                                Drama\n",
      "cat_slug                                                   film & video/drama\n",
      "loc_name                                                               Dorset\n",
      "loc_country                                                                GB\n",
      "loc_state                                                             England\n",
      "loc_type                                                               County\n",
      "photo_thumb                 https://ksr-ugc.imgix.net/assets/012/292/886/6...\n",
      "photo_large                 https://ksr-ugc.imgix.net/assets/012/292/886/6...\n",
      "project_address             https://www.kickstarter.com/projects/245190432...\n",
      "profile_photo               https://ksr-ugc.imgix.net/assets/012/292/886/6...\n",
      "creator_name                                                              Joe\n",
      "creator_id                                                          245190432\n",
      "creator_thumb               https://ksr-ugc.imgix.net/assets/010/481/306/9...\n",
      "creator_address                 https://www.kickstarter.com/profile/245190432\n",
      "main_category                                                    film & video\n",
      "sub_category                                                            drama\n",
      "goal_surpass                                                     -100000000.0\n",
      "goal_surpass_share                                                       -1.0\n",
      "goal_surpass_usd                                                 -152350076.0\n",
      "goal_usd                                                          152350076.0\n",
      "blurb_words                                                              22.0\n",
      "blurb_len                                                               132.0\n",
      "name_len                                                                   18\n",
      "name_words                                                                  3\n",
      "state_bool                                                                  0\n",
      "baseline                                                                    1\n",
      "Name: 60060, dtype: object\n"
     ]
    }
   ],
   "source": [
    "i=frame_all.goal_usd.argmax()\n",
    "print(frame_all.iloc[i])"
   ]
  },
  {
   "cell_type": "code",
   "execution_count": 145,
   "metadata": {},
   "outputs": [],
   "source": [
    "# # Calculate number of words in blurb\n",
    "# frame_all['blurb_words'] = frame_all['blurb'].str.split().str.len()\n",
    "# # Calculate number of characters in blurb\n",
    "# frame_all['blurb_len'] = frame_all['blurb'].str.len()\n",
    "# # Calculate number of characters in name\n",
    "# frame_all['name_len'] = frame_all['name'].str.len()\n",
    "# # Calculate number of words in name\n",
    "# frame_all['name_words'] = frame_all['name'].str.split().str.len()"
   ]
  },
  {
   "cell_type": "code",
   "execution_count": 149,
   "metadata": {},
   "outputs": [
    {
     "ename": "KeyError",
     "evalue": "\"['backers_count' 'blurb' 'converted_pledged_amount' 'country' 'created_at'\\n 'currency' 'currency_symbol' 'currency_trailing_code' 'current_currency'\\n 'deadline' 'disable_communication' 'fx_rate' 'goal' 'id' 'is_starrable'\\n 'launched_at' 'name' 'pledged' 'slug' 'source_url' 'spotlight'\\n 'staff_pick' 'state' 'state_changed_at' 'static_usd_rate' 'usd_pledged'\\n 'usd_type' 'dur_inactive' 'dur_until_state_changed' 'dur_active'\\n 'dur_ratio' 'cat_name' 'cat_slug' 'loc_name' 'loc_country' 'loc_state'\\n 'loc_type' 'photo_thumb' 'photo_large' 'project_address' 'profile_photo'\\n 'creator_name' 'creator_id' 'creator_thumb' 'creator_address'\\n 'main_category' 'sub_category' 'goal_surpass' 'goal_surpass_share'\\n 'goal_surpass_usd' 'goal_usd' 'blurb_words' 'blurb_len' 'name_len'\\n 'name_words' 'state_bool' 'baseline'] not found in axis\"",
     "output_type": "error",
     "traceback": [
      "\u001b[0;31m---------------------------------------------------------------------------\u001b[0m",
      "\u001b[0;31mKeyError\u001b[0m                                  Traceback (most recent call last)",
      "\u001b[1;32m/Users/c_messerschmidt/Documents/neuefische/kick_it_like_beckham/EDA-kickstarter_CMM.ipynb Cell 37'\u001b[0m in \u001b[0;36m<cell line: 1>\u001b[0;34m()\u001b[0m\n\u001b[0;32m----> <a href='vscode-notebook-cell:/Users/c_messerschmidt/Documents/neuefische/kick_it_like_beckham/EDA-kickstarter_CMM.ipynb#ch0000039?line=0'>1</a>\u001b[0m frame_all \u001b[39m=\u001b[39m frame_all\u001b[39m.\u001b[39;49mdrop((frame_all\u001b[39m.\u001b[39;49mquery(\u001b[39m'\u001b[39;49m\u001b[39mstate == \u001b[39;49m\u001b[39m\"\u001b[39;49m\u001b[39mfailed\u001b[39;49m\u001b[39m\"\u001b[39;49m\u001b[39m and goal_surpass_usd >= 0\u001b[39;49m\u001b[39m'\u001b[39;49m)), axis\u001b[39m=\u001b[39;49m\u001b[39m0\u001b[39;49m)\n",
      "File \u001b[0;32m~/Documents/neuefische/kick_it_like_beckham/.venv/lib/python3.9/site-packages/pandas/util/_decorators.py:311\u001b[0m, in \u001b[0;36mdeprecate_nonkeyword_arguments.<locals>.decorate.<locals>.wrapper\u001b[0;34m(*args, **kwargs)\u001b[0m\n\u001b[1;32m    <a href='file:///Users/c_messerschmidt/Documents/neuefische/kick_it_like_beckham/.venv/lib/python3.9/site-packages/pandas/util/_decorators.py?line=304'>305</a>\u001b[0m \u001b[39mif\u001b[39;00m \u001b[39mlen\u001b[39m(args) \u001b[39m>\u001b[39m num_allow_args:\n\u001b[1;32m    <a href='file:///Users/c_messerschmidt/Documents/neuefische/kick_it_like_beckham/.venv/lib/python3.9/site-packages/pandas/util/_decorators.py?line=305'>306</a>\u001b[0m     warnings\u001b[39m.\u001b[39mwarn(\n\u001b[1;32m    <a href='file:///Users/c_messerschmidt/Documents/neuefische/kick_it_like_beckham/.venv/lib/python3.9/site-packages/pandas/util/_decorators.py?line=306'>307</a>\u001b[0m         msg\u001b[39m.\u001b[39mformat(arguments\u001b[39m=\u001b[39marguments),\n\u001b[1;32m    <a href='file:///Users/c_messerschmidt/Documents/neuefische/kick_it_like_beckham/.venv/lib/python3.9/site-packages/pandas/util/_decorators.py?line=307'>308</a>\u001b[0m         \u001b[39mFutureWarning\u001b[39;00m,\n\u001b[1;32m    <a href='file:///Users/c_messerschmidt/Documents/neuefische/kick_it_like_beckham/.venv/lib/python3.9/site-packages/pandas/util/_decorators.py?line=308'>309</a>\u001b[0m         stacklevel\u001b[39m=\u001b[39mstacklevel,\n\u001b[1;32m    <a href='file:///Users/c_messerschmidt/Documents/neuefische/kick_it_like_beckham/.venv/lib/python3.9/site-packages/pandas/util/_decorators.py?line=309'>310</a>\u001b[0m     )\n\u001b[0;32m--> <a href='file:///Users/c_messerschmidt/Documents/neuefische/kick_it_like_beckham/.venv/lib/python3.9/site-packages/pandas/util/_decorators.py?line=310'>311</a>\u001b[0m \u001b[39mreturn\u001b[39;00m func(\u001b[39m*\u001b[39;49margs, \u001b[39m*\u001b[39;49m\u001b[39m*\u001b[39;49mkwargs)\n",
      "File \u001b[0;32m~/Documents/neuefische/kick_it_like_beckham/.venv/lib/python3.9/site-packages/pandas/core/frame.py:4906\u001b[0m, in \u001b[0;36mDataFrame.drop\u001b[0;34m(self, labels, axis, index, columns, level, inplace, errors)\u001b[0m\n\u001b[1;32m   <a href='file:///Users/c_messerschmidt/Documents/neuefische/kick_it_like_beckham/.venv/lib/python3.9/site-packages/pandas/core/frame.py?line=4773'>4774</a>\u001b[0m \u001b[39m@deprecate_nonkeyword_arguments\u001b[39m(version\u001b[39m=\u001b[39m\u001b[39mNone\u001b[39;00m, allowed_args\u001b[39m=\u001b[39m[\u001b[39m\"\u001b[39m\u001b[39mself\u001b[39m\u001b[39m\"\u001b[39m, \u001b[39m\"\u001b[39m\u001b[39mlabels\u001b[39m\u001b[39m\"\u001b[39m])\n\u001b[1;32m   <a href='file:///Users/c_messerschmidt/Documents/neuefische/kick_it_like_beckham/.venv/lib/python3.9/site-packages/pandas/core/frame.py?line=4774'>4775</a>\u001b[0m \u001b[39mdef\u001b[39;00m \u001b[39mdrop\u001b[39m(\n\u001b[1;32m   <a href='file:///Users/c_messerschmidt/Documents/neuefische/kick_it_like_beckham/.venv/lib/python3.9/site-packages/pandas/core/frame.py?line=4775'>4776</a>\u001b[0m     \u001b[39mself\u001b[39m,\n\u001b[0;32m   (...)\u001b[0m\n\u001b[1;32m   <a href='file:///Users/c_messerschmidt/Documents/neuefische/kick_it_like_beckham/.venv/lib/python3.9/site-packages/pandas/core/frame.py?line=4782'>4783</a>\u001b[0m     errors: \u001b[39mstr\u001b[39m \u001b[39m=\u001b[39m \u001b[39m\"\u001b[39m\u001b[39mraise\u001b[39m\u001b[39m\"\u001b[39m,\n\u001b[1;32m   <a href='file:///Users/c_messerschmidt/Documents/neuefische/kick_it_like_beckham/.venv/lib/python3.9/site-packages/pandas/core/frame.py?line=4783'>4784</a>\u001b[0m ):\n\u001b[1;32m   <a href='file:///Users/c_messerschmidt/Documents/neuefische/kick_it_like_beckham/.venv/lib/python3.9/site-packages/pandas/core/frame.py?line=4784'>4785</a>\u001b[0m     \u001b[39m\"\"\"\u001b[39;00m\n\u001b[1;32m   <a href='file:///Users/c_messerschmidt/Documents/neuefische/kick_it_like_beckham/.venv/lib/python3.9/site-packages/pandas/core/frame.py?line=4785'>4786</a>\u001b[0m \u001b[39m    Drop specified labels from rows or columns.\u001b[39;00m\n\u001b[1;32m   <a href='file:///Users/c_messerschmidt/Documents/neuefische/kick_it_like_beckham/.venv/lib/python3.9/site-packages/pandas/core/frame.py?line=4786'>4787</a>\u001b[0m \n\u001b[0;32m   (...)\u001b[0m\n\u001b[1;32m   <a href='file:///Users/c_messerschmidt/Documents/neuefische/kick_it_like_beckham/.venv/lib/python3.9/site-packages/pandas/core/frame.py?line=4903'>4904</a>\u001b[0m \u001b[39m            weight  1.0     0.8\u001b[39;00m\n\u001b[1;32m   <a href='file:///Users/c_messerschmidt/Documents/neuefische/kick_it_like_beckham/.venv/lib/python3.9/site-packages/pandas/core/frame.py?line=4904'>4905</a>\u001b[0m \u001b[39m    \"\"\"\u001b[39;00m\n\u001b[0;32m-> <a href='file:///Users/c_messerschmidt/Documents/neuefische/kick_it_like_beckham/.venv/lib/python3.9/site-packages/pandas/core/frame.py?line=4905'>4906</a>\u001b[0m     \u001b[39mreturn\u001b[39;00m \u001b[39msuper\u001b[39;49m()\u001b[39m.\u001b[39;49mdrop(\n\u001b[1;32m   <a href='file:///Users/c_messerschmidt/Documents/neuefische/kick_it_like_beckham/.venv/lib/python3.9/site-packages/pandas/core/frame.py?line=4906'>4907</a>\u001b[0m         labels\u001b[39m=\u001b[39;49mlabels,\n\u001b[1;32m   <a href='file:///Users/c_messerschmidt/Documents/neuefische/kick_it_like_beckham/.venv/lib/python3.9/site-packages/pandas/core/frame.py?line=4907'>4908</a>\u001b[0m         axis\u001b[39m=\u001b[39;49maxis,\n\u001b[1;32m   <a href='file:///Users/c_messerschmidt/Documents/neuefische/kick_it_like_beckham/.venv/lib/python3.9/site-packages/pandas/core/frame.py?line=4908'>4909</a>\u001b[0m         index\u001b[39m=\u001b[39;49mindex,\n\u001b[1;32m   <a href='file:///Users/c_messerschmidt/Documents/neuefische/kick_it_like_beckham/.venv/lib/python3.9/site-packages/pandas/core/frame.py?line=4909'>4910</a>\u001b[0m         columns\u001b[39m=\u001b[39;49mcolumns,\n\u001b[1;32m   <a href='file:///Users/c_messerschmidt/Documents/neuefische/kick_it_like_beckham/.venv/lib/python3.9/site-packages/pandas/core/frame.py?line=4910'>4911</a>\u001b[0m         level\u001b[39m=\u001b[39;49mlevel,\n\u001b[1;32m   <a href='file:///Users/c_messerschmidt/Documents/neuefische/kick_it_like_beckham/.venv/lib/python3.9/site-packages/pandas/core/frame.py?line=4911'>4912</a>\u001b[0m         inplace\u001b[39m=\u001b[39;49minplace,\n\u001b[1;32m   <a href='file:///Users/c_messerschmidt/Documents/neuefische/kick_it_like_beckham/.venv/lib/python3.9/site-packages/pandas/core/frame.py?line=4912'>4913</a>\u001b[0m         errors\u001b[39m=\u001b[39;49merrors,\n\u001b[1;32m   <a href='file:///Users/c_messerschmidt/Documents/neuefische/kick_it_like_beckham/.venv/lib/python3.9/site-packages/pandas/core/frame.py?line=4913'>4914</a>\u001b[0m     )\n",
      "File \u001b[0;32m~/Documents/neuefische/kick_it_like_beckham/.venv/lib/python3.9/site-packages/pandas/core/generic.py:4150\u001b[0m, in \u001b[0;36mNDFrame.drop\u001b[0;34m(self, labels, axis, index, columns, level, inplace, errors)\u001b[0m\n\u001b[1;32m   <a href='file:///Users/c_messerschmidt/Documents/neuefische/kick_it_like_beckham/.venv/lib/python3.9/site-packages/pandas/core/generic.py?line=4147'>4148</a>\u001b[0m \u001b[39mfor\u001b[39;00m axis, labels \u001b[39min\u001b[39;00m axes\u001b[39m.\u001b[39mitems():\n\u001b[1;32m   <a href='file:///Users/c_messerschmidt/Documents/neuefische/kick_it_like_beckham/.venv/lib/python3.9/site-packages/pandas/core/generic.py?line=4148'>4149</a>\u001b[0m     \u001b[39mif\u001b[39;00m labels \u001b[39mis\u001b[39;00m \u001b[39mnot\u001b[39;00m \u001b[39mNone\u001b[39;00m:\n\u001b[0;32m-> <a href='file:///Users/c_messerschmidt/Documents/neuefische/kick_it_like_beckham/.venv/lib/python3.9/site-packages/pandas/core/generic.py?line=4149'>4150</a>\u001b[0m         obj \u001b[39m=\u001b[39m obj\u001b[39m.\u001b[39;49m_drop_axis(labels, axis, level\u001b[39m=\u001b[39;49mlevel, errors\u001b[39m=\u001b[39;49merrors)\n\u001b[1;32m   <a href='file:///Users/c_messerschmidt/Documents/neuefische/kick_it_like_beckham/.venv/lib/python3.9/site-packages/pandas/core/generic.py?line=4151'>4152</a>\u001b[0m \u001b[39mif\u001b[39;00m inplace:\n\u001b[1;32m   <a href='file:///Users/c_messerschmidt/Documents/neuefische/kick_it_like_beckham/.venv/lib/python3.9/site-packages/pandas/core/generic.py?line=4152'>4153</a>\u001b[0m     \u001b[39mself\u001b[39m\u001b[39m.\u001b[39m_update_inplace(obj)\n",
      "File \u001b[0;32m~/Documents/neuefische/kick_it_like_beckham/.venv/lib/python3.9/site-packages/pandas/core/generic.py:4185\u001b[0m, in \u001b[0;36mNDFrame._drop_axis\u001b[0;34m(self, labels, axis, level, errors)\u001b[0m\n\u001b[1;32m   <a href='file:///Users/c_messerschmidt/Documents/neuefische/kick_it_like_beckham/.venv/lib/python3.9/site-packages/pandas/core/generic.py?line=4182'>4183</a>\u001b[0m         new_axis \u001b[39m=\u001b[39m axis\u001b[39m.\u001b[39mdrop(labels, level\u001b[39m=\u001b[39mlevel, errors\u001b[39m=\u001b[39merrors)\n\u001b[1;32m   <a href='file:///Users/c_messerschmidt/Documents/neuefische/kick_it_like_beckham/.venv/lib/python3.9/site-packages/pandas/core/generic.py?line=4183'>4184</a>\u001b[0m     \u001b[39melse\u001b[39;00m:\n\u001b[0;32m-> <a href='file:///Users/c_messerschmidt/Documents/neuefische/kick_it_like_beckham/.venv/lib/python3.9/site-packages/pandas/core/generic.py?line=4184'>4185</a>\u001b[0m         new_axis \u001b[39m=\u001b[39m axis\u001b[39m.\u001b[39;49mdrop(labels, errors\u001b[39m=\u001b[39;49merrors)\n\u001b[1;32m   <a href='file:///Users/c_messerschmidt/Documents/neuefische/kick_it_like_beckham/.venv/lib/python3.9/site-packages/pandas/core/generic.py?line=4185'>4186</a>\u001b[0m     result \u001b[39m=\u001b[39m \u001b[39mself\u001b[39m\u001b[39m.\u001b[39mreindex(\u001b[39m*\u001b[39m\u001b[39m*\u001b[39m{axis_name: new_axis})\n\u001b[1;32m   <a href='file:///Users/c_messerschmidt/Documents/neuefische/kick_it_like_beckham/.venv/lib/python3.9/site-packages/pandas/core/generic.py?line=4187'>4188</a>\u001b[0m \u001b[39m# Case for non-unique axis\u001b[39;00m\n\u001b[1;32m   <a href='file:///Users/c_messerschmidt/Documents/neuefische/kick_it_like_beckham/.venv/lib/python3.9/site-packages/pandas/core/generic.py?line=4188'>4189</a>\u001b[0m \u001b[39melse\u001b[39;00m:\n",
      "File \u001b[0;32m~/Documents/neuefische/kick_it_like_beckham/.venv/lib/python3.9/site-packages/pandas/core/indexes/base.py:6017\u001b[0m, in \u001b[0;36mIndex.drop\u001b[0;34m(self, labels, errors)\u001b[0m\n\u001b[1;32m   <a href='file:///Users/c_messerschmidt/Documents/neuefische/kick_it_like_beckham/.venv/lib/python3.9/site-packages/pandas/core/indexes/base.py?line=6014'>6015</a>\u001b[0m \u001b[39mif\u001b[39;00m mask\u001b[39m.\u001b[39many():\n\u001b[1;32m   <a href='file:///Users/c_messerschmidt/Documents/neuefische/kick_it_like_beckham/.venv/lib/python3.9/site-packages/pandas/core/indexes/base.py?line=6015'>6016</a>\u001b[0m     \u001b[39mif\u001b[39;00m errors \u001b[39m!=\u001b[39m \u001b[39m\"\u001b[39m\u001b[39mignore\u001b[39m\u001b[39m\"\u001b[39m:\n\u001b[0;32m-> <a href='file:///Users/c_messerschmidt/Documents/neuefische/kick_it_like_beckham/.venv/lib/python3.9/site-packages/pandas/core/indexes/base.py?line=6016'>6017</a>\u001b[0m         \u001b[39mraise\u001b[39;00m \u001b[39mKeyError\u001b[39;00m(\u001b[39mf\u001b[39m\u001b[39m\"\u001b[39m\u001b[39m{\u001b[39;00mlabels[mask]\u001b[39m}\u001b[39;00m\u001b[39m not found in axis\u001b[39m\u001b[39m\"\u001b[39m)\n\u001b[1;32m   <a href='file:///Users/c_messerschmidt/Documents/neuefische/kick_it_like_beckham/.venv/lib/python3.9/site-packages/pandas/core/indexes/base.py?line=6017'>6018</a>\u001b[0m     indexer \u001b[39m=\u001b[39m indexer[\u001b[39m~\u001b[39mmask]\n\u001b[1;32m   <a href='file:///Users/c_messerschmidt/Documents/neuefische/kick_it_like_beckham/.venv/lib/python3.9/site-packages/pandas/core/indexes/base.py?line=6018'>6019</a>\u001b[0m \u001b[39mreturn\u001b[39;00m \u001b[39mself\u001b[39m\u001b[39m.\u001b[39mdelete(indexer)\n",
      "\u001b[0;31mKeyError\u001b[0m: \"['backers_count' 'blurb' 'converted_pledged_amount' 'country' 'created_at'\\n 'currency' 'currency_symbol' 'currency_trailing_code' 'current_currency'\\n 'deadline' 'disable_communication' 'fx_rate' 'goal' 'id' 'is_starrable'\\n 'launched_at' 'name' 'pledged' 'slug' 'source_url' 'spotlight'\\n 'staff_pick' 'state' 'state_changed_at' 'static_usd_rate' 'usd_pledged'\\n 'usd_type' 'dur_inactive' 'dur_until_state_changed' 'dur_active'\\n 'dur_ratio' 'cat_name' 'cat_slug' 'loc_name' 'loc_country' 'loc_state'\\n 'loc_type' 'photo_thumb' 'photo_large' 'project_address' 'profile_photo'\\n 'creator_name' 'creator_id' 'creator_thumb' 'creator_address'\\n 'main_category' 'sub_category' 'goal_surpass' 'goal_surpass_share'\\n 'goal_surpass_usd' 'goal_usd' 'blurb_words' 'blurb_len' 'name_len'\\n 'name_words' 'state_bool' 'baseline'] not found in axis\""
     ]
    }
   ],
   "source": [
    "frame_all = frame_all.drop((frame_all.query('state == \"failed\" and goal_surpass_usd >= 0')), axis=0)\n"
   ]
  },
  {
   "cell_type": "code",
   "execution_count": 147,
   "metadata": {},
   "outputs": [
    {
     "data": {
      "text/html": [
       "<div>\n",
       "<style scoped>\n",
       "    .dataframe tbody tr th:only-of-type {\n",
       "        vertical-align: middle;\n",
       "    }\n",
       "\n",
       "    .dataframe tbody tr th {\n",
       "        vertical-align: top;\n",
       "    }\n",
       "\n",
       "    .dataframe thead th {\n",
       "        text-align: right;\n",
       "    }\n",
       "</style>\n",
       "<table border=\"1\" class=\"dataframe\">\n",
       "  <thead>\n",
       "    <tr style=\"text-align: right;\">\n",
       "      <th></th>\n",
       "      <th>backers_count</th>\n",
       "      <th>blurb</th>\n",
       "      <th>converted_pledged_amount</th>\n",
       "      <th>country</th>\n",
       "      <th>created_at</th>\n",
       "      <th>currency</th>\n",
       "      <th>currency_symbol</th>\n",
       "      <th>currency_trailing_code</th>\n",
       "      <th>current_currency</th>\n",
       "      <th>deadline</th>\n",
       "      <th>...</th>\n",
       "      <th>goal_surpass</th>\n",
       "      <th>goal_surpass_share</th>\n",
       "      <th>goal_surpass_usd</th>\n",
       "      <th>goal_usd</th>\n",
       "      <th>blurb_words</th>\n",
       "      <th>blurb_len</th>\n",
       "      <th>name_len</th>\n",
       "      <th>name_words</th>\n",
       "      <th>state_bool</th>\n",
       "      <th>baseline</th>\n",
       "    </tr>\n",
       "  </thead>\n",
       "  <tbody>\n",
       "    <tr>\n",
       "      <th>40082</th>\n",
       "      <td>141</td>\n",
       "      <td>A variety of textures, and grooves  from heavy...</td>\n",
       "      <td>23020</td>\n",
       "      <td>US</td>\n",
       "      <td>2013-01-15 13:47:00</td>\n",
       "      <td>USD</td>\n",
       "      <td>$</td>\n",
       "      <td>True</td>\n",
       "      <td>USD</td>\n",
       "      <td>2013-04-04 08:55:56</td>\n",
       "      <td>...</td>\n",
       "      <td>20.01</td>\n",
       "      <td>0.00087</td>\n",
       "      <td>20.01</td>\n",
       "      <td>23000.0</td>\n",
       "      <td>18.0</td>\n",
       "      <td>114.0</td>\n",
       "      <td>9</td>\n",
       "      <td>1</td>\n",
       "      <td>0</td>\n",
       "      <td>1</td>\n",
       "    </tr>\n",
       "    <tr>\n",
       "      <th>60727</th>\n",
       "      <td>5</td>\n",
       "      <td>A must have in your outdoor survivalist backpa...</td>\n",
       "      <td>1551</td>\n",
       "      <td>US</td>\n",
       "      <td>2018-07-27 03:03:12</td>\n",
       "      <td>USD</td>\n",
       "      <td>$</td>\n",
       "      <td>True</td>\n",
       "      <td>USD</td>\n",
       "      <td>2018-08-19 19:26:51</td>\n",
       "      <td>...</td>\n",
       "      <td>1051.00</td>\n",
       "      <td>2.10200</td>\n",
       "      <td>1051.00</td>\n",
       "      <td>500.0</td>\n",
       "      <td>15.0</td>\n",
       "      <td>93.0</td>\n",
       "      <td>28</td>\n",
       "      <td>5</td>\n",
       "      <td>0</td>\n",
       "      <td>0</td>\n",
       "    </tr>\n",
       "    <tr>\n",
       "      <th>149883</th>\n",
       "      <td>86</td>\n",
       "      <td>qFoods is the app that helps you make healthie...</td>\n",
       "      <td>25022</td>\n",
       "      <td>US</td>\n",
       "      <td>2016-10-27 17:12:58</td>\n",
       "      <td>USD</td>\n",
       "      <td>$</td>\n",
       "      <td>True</td>\n",
       "      <td>USD</td>\n",
       "      <td>2018-05-21 19:12:52</td>\n",
       "      <td>...</td>\n",
       "      <td>22.00</td>\n",
       "      <td>0.00088</td>\n",
       "      <td>22.00</td>\n",
       "      <td>25000.0</td>\n",
       "      <td>24.0</td>\n",
       "      <td>135.0</td>\n",
       "      <td>58</td>\n",
       "      <td>10</td>\n",
       "      <td>0</td>\n",
       "      <td>0</td>\n",
       "    </tr>\n",
       "  </tbody>\n",
       "</table>\n",
       "<p>3 rows × 57 columns</p>\n",
       "</div>"
      ],
      "text/plain": [
       "        backers_count                                              blurb  \\\n",
       "40082             141  A variety of textures, and grooves  from heavy...   \n",
       "60727               5  A must have in your outdoor survivalist backpa...   \n",
       "149883             86  qFoods is the app that helps you make healthie...   \n",
       "\n",
       "        converted_pledged_amount country           created_at currency  \\\n",
       "40082                      23020      US  2013-01-15 13:47:00      USD   \n",
       "60727                       1551      US  2018-07-27 03:03:12      USD   \n",
       "149883                     25022      US  2016-10-27 17:12:58      USD   \n",
       "\n",
       "       currency_symbol  currency_trailing_code current_currency  \\\n",
       "40082                $                    True              USD   \n",
       "60727                $                    True              USD   \n",
       "149883               $                    True              USD   \n",
       "\n",
       "                   deadline  ...  goal_surpass  goal_surpass_share  \\\n",
       "40082   2013-04-04 08:55:56  ...         20.01             0.00087   \n",
       "60727   2018-08-19 19:26:51  ...       1051.00             2.10200   \n",
       "149883  2018-05-21 19:12:52  ...         22.00             0.00088   \n",
       "\n",
       "        goal_surpass_usd  goal_usd  blurb_words blurb_len name_len  \\\n",
       "40082              20.01   23000.0         18.0     114.0        9   \n",
       "60727            1051.00     500.0         15.0      93.0       28   \n",
       "149883             22.00   25000.0         24.0     135.0       58   \n",
       "\n",
       "        name_words state_bool baseline  \n",
       "40082            1          0        1  \n",
       "60727            5          0        0  \n",
       "149883          10          0        0  \n",
       "\n",
       "[3 rows x 57 columns]"
      ]
     },
     "execution_count": 147,
     "metadata": {},
     "output_type": "execute_result"
    }
   ],
   "source": [
    "frame_all.query('state == \"failed\" and goal_surpass_usd >= 0')"
   ]
  },
  {
   "cell_type": "code",
   "execution_count": 152,
   "metadata": {},
   "outputs": [],
   "source": [
    "# Drop all rows, which failed but surpassed the goal (state = 'failed' but goal_surpass_usd >= 0)\n",
    "index_names = frame_all[(frame_all['state'] == 'failed' ) & (frame_all['goal_surpass_usd'] >= 0)].index\n",
    "frame_all= frame_all.drop(index_names)\n"
   ]
  },
  {
   "cell_type": "code",
   "execution_count": 153,
   "metadata": {},
   "outputs": [
    {
     "data": {
      "text/html": [
       "<div>\n",
       "<style scoped>\n",
       "    .dataframe tbody tr th:only-of-type {\n",
       "        vertical-align: middle;\n",
       "    }\n",
       "\n",
       "    .dataframe tbody tr th {\n",
       "        vertical-align: top;\n",
       "    }\n",
       "\n",
       "    .dataframe thead th {\n",
       "        text-align: right;\n",
       "    }\n",
       "</style>\n",
       "<table border=\"1\" class=\"dataframe\">\n",
       "  <thead>\n",
       "    <tr style=\"text-align: right;\">\n",
       "      <th></th>\n",
       "      <th>backers_count</th>\n",
       "      <th>blurb</th>\n",
       "      <th>converted_pledged_amount</th>\n",
       "      <th>country</th>\n",
       "      <th>created_at</th>\n",
       "      <th>currency</th>\n",
       "      <th>currency_symbol</th>\n",
       "      <th>currency_trailing_code</th>\n",
       "      <th>current_currency</th>\n",
       "      <th>deadline</th>\n",
       "      <th>...</th>\n",
       "      <th>goal_surpass</th>\n",
       "      <th>goal_surpass_share</th>\n",
       "      <th>goal_surpass_usd</th>\n",
       "      <th>goal_usd</th>\n",
       "      <th>blurb_words</th>\n",
       "      <th>blurb_len</th>\n",
       "      <th>name_len</th>\n",
       "      <th>name_words</th>\n",
       "      <th>state_bool</th>\n",
       "      <th>baseline</th>\n",
       "    </tr>\n",
       "  </thead>\n",
       "  <tbody>\n",
       "  </tbody>\n",
       "</table>\n",
       "<p>0 rows × 57 columns</p>\n",
       "</div>"
      ],
      "text/plain": [
       "Empty DataFrame\n",
       "Columns: [backers_count, blurb, converted_pledged_amount, country, created_at, currency, currency_symbol, currency_trailing_code, current_currency, deadline, disable_communication, fx_rate, goal, id, is_starrable, launched_at, name, pledged, slug, source_url, spotlight, staff_pick, state, state_changed_at, static_usd_rate, usd_pledged, usd_type, dur_inactive, dur_until_state_changed, dur_active, dur_ratio, cat_name, cat_slug, loc_name, loc_country, loc_state, loc_type, photo_thumb, photo_large, project_address, profile_photo, creator_name, creator_id, creator_thumb, creator_address, main_category, sub_category, goal_surpass, goal_surpass_share, goal_surpass_usd, goal_usd, blurb_words, blurb_len, name_len, name_words, state_bool, baseline]\n",
       "Index: []\n",
       "\n",
       "[0 rows x 57 columns]"
      ]
     },
     "execution_count": 153,
     "metadata": {},
     "output_type": "execute_result"
    }
   ],
   "source": [
    "frame_all.query('state == \"failed\" and goal_surpass_usd >= 0')\n"
   ]
  },
  {
   "cell_type": "code",
   "execution_count": 154,
   "metadata": {},
   "outputs": [
    {
     "data": {
      "text/html": [
       "<div>\n",
       "<style scoped>\n",
       "    .dataframe tbody tr th:only-of-type {\n",
       "        vertical-align: middle;\n",
       "    }\n",
       "\n",
       "    .dataframe tbody tr th {\n",
       "        vertical-align: top;\n",
       "    }\n",
       "\n",
       "    .dataframe thead th {\n",
       "        text-align: right;\n",
       "    }\n",
       "</style>\n",
       "<table border=\"1\" class=\"dataframe\">\n",
       "  <thead>\n",
       "    <tr style=\"text-align: right;\">\n",
       "      <th></th>\n",
       "      <th>backers_count</th>\n",
       "      <th>blurb</th>\n",
       "      <th>converted_pledged_amount</th>\n",
       "      <th>country</th>\n",
       "      <th>created_at</th>\n",
       "      <th>currency</th>\n",
       "      <th>currency_symbol</th>\n",
       "      <th>currency_trailing_code</th>\n",
       "      <th>current_currency</th>\n",
       "      <th>deadline</th>\n",
       "      <th>...</th>\n",
       "      <th>goal_surpass</th>\n",
       "      <th>goal_surpass_share</th>\n",
       "      <th>goal_surpass_usd</th>\n",
       "      <th>goal_usd</th>\n",
       "      <th>blurb_words</th>\n",
       "      <th>blurb_len</th>\n",
       "      <th>name_len</th>\n",
       "      <th>name_words</th>\n",
       "      <th>state_bool</th>\n",
       "      <th>baseline</th>\n",
       "    </tr>\n",
       "  </thead>\n",
       "  <tbody>\n",
       "    <tr>\n",
       "      <th>0</th>\n",
       "      <td>21</td>\n",
       "      <td>2006 was almost 7 years ago.... Can you believ...</td>\n",
       "      <td>802</td>\n",
       "      <td>US</td>\n",
       "      <td>2013-12-21 21:01:30</td>\n",
       "      <td>USD</td>\n",
       "      <td>$</td>\n",
       "      <td>True</td>\n",
       "      <td>USD</td>\n",
       "      <td>2014-02-08 22:37:26</td>\n",
       "      <td>...</td>\n",
       "      <td>602.0</td>\n",
       "      <td>3.010000</td>\n",
       "      <td>602.000000</td>\n",
       "      <td>200.00000</td>\n",
       "      <td>26.0</td>\n",
       "      <td>134.0</td>\n",
       "      <td>21</td>\n",
       "      <td>4</td>\n",
       "      <td>1</td>\n",
       "      <td>1</td>\n",
       "    </tr>\n",
       "    <tr>\n",
       "      <th>1</th>\n",
       "      <td>97</td>\n",
       "      <td>An adorable fantasy enamel pin series of princ...</td>\n",
       "      <td>2259</td>\n",
       "      <td>US</td>\n",
       "      <td>2019-02-08 21:02:48</td>\n",
       "      <td>USD</td>\n",
       "      <td>$</td>\n",
       "      <td>True</td>\n",
       "      <td>USD</td>\n",
       "      <td>2019-03-05 16:00:11</td>\n",
       "      <td>...</td>\n",
       "      <td>1859.0</td>\n",
       "      <td>4.647500</td>\n",
       "      <td>1859.000000</td>\n",
       "      <td>400.00000</td>\n",
       "      <td>9.0</td>\n",
       "      <td>55.0</td>\n",
       "      <td>31</td>\n",
       "      <td>5</td>\n",
       "      <td>1</td>\n",
       "      <td>1</td>\n",
       "    </tr>\n",
       "    <tr>\n",
       "      <th>2</th>\n",
       "      <td>88</td>\n",
       "      <td>Helping a community come together to set the s...</td>\n",
       "      <td>29638</td>\n",
       "      <td>US</td>\n",
       "      <td>2016-10-23 17:06:24</td>\n",
       "      <td>USD</td>\n",
       "      <td>$</td>\n",
       "      <td>True</td>\n",
       "      <td>USD</td>\n",
       "      <td>2016-12-01 15:58:50</td>\n",
       "      <td>...</td>\n",
       "      <td>2414.0</td>\n",
       "      <td>0.088672</td>\n",
       "      <td>2414.000000</td>\n",
       "      <td>27224.00000</td>\n",
       "      <td>25.0</td>\n",
       "      <td>135.0</td>\n",
       "      <td>60</td>\n",
       "      <td>9</td>\n",
       "      <td>1</td>\n",
       "      <td>0</td>\n",
       "    </tr>\n",
       "    <tr>\n",
       "      <th>3</th>\n",
       "      <td>193</td>\n",
       "      <td>Every revolution starts from the bottom and we...</td>\n",
       "      <td>49158</td>\n",
       "      <td>IT</td>\n",
       "      <td>2018-10-24 08:32:00</td>\n",
       "      <td>EUR</td>\n",
       "      <td>€</td>\n",
       "      <td>False</td>\n",
       "      <td>USD</td>\n",
       "      <td>2018-12-08 22:59:00</td>\n",
       "      <td>...</td>\n",
       "      <td>3180.0</td>\n",
       "      <td>0.079500</td>\n",
       "      <td>3614.149723</td>\n",
       "      <td>45461.00280</td>\n",
       "      <td>13.0</td>\n",
       "      <td>75.0</td>\n",
       "      <td>25</td>\n",
       "      <td>5</td>\n",
       "      <td>1</td>\n",
       "      <td>1</td>\n",
       "    </tr>\n",
       "    <tr>\n",
       "      <th>4</th>\n",
       "      <td>20</td>\n",
       "      <td>Learn to build 10+ Applications in this comple...</td>\n",
       "      <td>549</td>\n",
       "      <td>US</td>\n",
       "      <td>2015-03-07 05:35:17</td>\n",
       "      <td>USD</td>\n",
       "      <td>$</td>\n",
       "      <td>True</td>\n",
       "      <td>USD</td>\n",
       "      <td>2015-04-08 16:36:57</td>\n",
       "      <td>...</td>\n",
       "      <td>-451.0</td>\n",
       "      <td>-0.451000</td>\n",
       "      <td>-451.000000</td>\n",
       "      <td>1000.00000</td>\n",
       "      <td>22.0</td>\n",
       "      <td>133.0</td>\n",
       "      <td>30</td>\n",
       "      <td>4</td>\n",
       "      <td>0</td>\n",
       "      <td>0</td>\n",
       "    </tr>\n",
       "    <tr>\n",
       "      <th>...</th>\n",
       "      <td>...</td>\n",
       "      <td>...</td>\n",
       "      <td>...</td>\n",
       "      <td>...</td>\n",
       "      <td>...</td>\n",
       "      <td>...</td>\n",
       "      <td>...</td>\n",
       "      <td>...</td>\n",
       "      <td>...</td>\n",
       "      <td>...</td>\n",
       "      <td>...</td>\n",
       "      <td>...</td>\n",
       "      <td>...</td>\n",
       "      <td>...</td>\n",
       "      <td>...</td>\n",
       "      <td>...</td>\n",
       "      <td>...</td>\n",
       "      <td>...</td>\n",
       "      <td>...</td>\n",
       "      <td>...</td>\n",
       "      <td>...</td>\n",
       "    </tr>\n",
       "    <tr>\n",
       "      <th>209214</th>\n",
       "      <td>7</td>\n",
       "      <td>There are known website for providing free and...</td>\n",
       "      <td>135</td>\n",
       "      <td>US</td>\n",
       "      <td>2017-02-21 18:39:30</td>\n",
       "      <td>USD</td>\n",
       "      <td>$</td>\n",
       "      <td>True</td>\n",
       "      <td>USD</td>\n",
       "      <td>2017-03-23 17:42:00</td>\n",
       "      <td>...</td>\n",
       "      <td>-4865.0</td>\n",
       "      <td>-0.973000</td>\n",
       "      <td>-4865.000000</td>\n",
       "      <td>5000.00000</td>\n",
       "      <td>23.0</td>\n",
       "      <td>134.0</td>\n",
       "      <td>36</td>\n",
       "      <td>6</td>\n",
       "      <td>0</td>\n",
       "      <td>0</td>\n",
       "    </tr>\n",
       "    <tr>\n",
       "      <th>209215</th>\n",
       "      <td>215</td>\n",
       "      <td>The first book in an inspirational series for ...</td>\n",
       "      <td>18608</td>\n",
       "      <td>US</td>\n",
       "      <td>2013-06-03 17:49:35</td>\n",
       "      <td>USD</td>\n",
       "      <td>$</td>\n",
       "      <td>True</td>\n",
       "      <td>USD</td>\n",
       "      <td>2013-08-11 11:46:39</td>\n",
       "      <td>...</td>\n",
       "      <td>1122.0</td>\n",
       "      <td>0.064166</td>\n",
       "      <td>1122.000000</td>\n",
       "      <td>17486.00000</td>\n",
       "      <td>24.0</td>\n",
       "      <td>134.0</td>\n",
       "      <td>19</td>\n",
       "      <td>3</td>\n",
       "      <td>1</td>\n",
       "      <td>1</td>\n",
       "    </tr>\n",
       "    <tr>\n",
       "      <th>209218</th>\n",
       "      <td>11</td>\n",
       "      <td>Over 250 healthy recipes free from ANY added S...</td>\n",
       "      <td>305</td>\n",
       "      <td>AU</td>\n",
       "      <td>2015-12-22 03:01:05</td>\n",
       "      <td>AUD</td>\n",
       "      <td>$</td>\n",
       "      <td>True</td>\n",
       "      <td>USD</td>\n",
       "      <td>2016-01-25 09:15:09</td>\n",
       "      <td>...</td>\n",
       "      <td>-7565.0</td>\n",
       "      <td>-0.945625</td>\n",
       "      <td>-5504.103892</td>\n",
       "      <td>5820.59896</td>\n",
       "      <td>20.0</td>\n",
       "      <td>132.0</td>\n",
       "      <td>60</td>\n",
       "      <td>10</td>\n",
       "      <td>0</td>\n",
       "      <td>0</td>\n",
       "    </tr>\n",
       "    <tr>\n",
       "      <th>209219</th>\n",
       "      <td>0</td>\n",
       "      <td>Give your baby style and flair with \"Gorgeous ...</td>\n",
       "      <td>0</td>\n",
       "      <td>US</td>\n",
       "      <td>2016-08-12 08:48:02</td>\n",
       "      <td>USD</td>\n",
       "      <td>$</td>\n",
       "      <td>True</td>\n",
       "      <td>USD</td>\n",
       "      <td>2016-09-25 21:09:13</td>\n",
       "      <td>...</td>\n",
       "      <td>-8000.0</td>\n",
       "      <td>-1.000000</td>\n",
       "      <td>-8000.000000</td>\n",
       "      <td>8000.00000</td>\n",
       "      <td>12.0</td>\n",
       "      <td>82.0</td>\n",
       "      <td>36</td>\n",
       "      <td>4</td>\n",
       "      <td>0</td>\n",
       "      <td>1</td>\n",
       "    </tr>\n",
       "    <tr>\n",
       "      <th>209220</th>\n",
       "      <td>11</td>\n",
       "      <td>\"The Lion &amp; the Lyceum\" is a children's book a...</td>\n",
       "      <td>1400</td>\n",
       "      <td>US</td>\n",
       "      <td>2015-02-16 15:51:38</td>\n",
       "      <td>USD</td>\n",
       "      <td>$</td>\n",
       "      <td>True</td>\n",
       "      <td>USD</td>\n",
       "      <td>2015-03-19 05:00:00</td>\n",
       "      <td>...</td>\n",
       "      <td>400.0</td>\n",
       "      <td>0.400000</td>\n",
       "      <td>400.000000</td>\n",
       "      <td>1000.00000</td>\n",
       "      <td>22.0</td>\n",
       "      <td>115.0</td>\n",
       "      <td>60</td>\n",
       "      <td>12</td>\n",
       "      <td>1</td>\n",
       "      <td>1</td>\n",
       "    </tr>\n",
       "  </tbody>\n",
       "</table>\n",
       "<p>168695 rows × 57 columns</p>\n",
       "</div>"
      ],
      "text/plain": [
       "        backers_count                                              blurb  \\\n",
       "0                  21  2006 was almost 7 years ago.... Can you believ...   \n",
       "1                  97  An adorable fantasy enamel pin series of princ...   \n",
       "2                  88  Helping a community come together to set the s...   \n",
       "3                 193  Every revolution starts from the bottom and we...   \n",
       "4                  20  Learn to build 10+ Applications in this comple...   \n",
       "...               ...                                                ...   \n",
       "209214              7  There are known website for providing free and...   \n",
       "209215            215  The first book in an inspirational series for ...   \n",
       "209218             11  Over 250 healthy recipes free from ANY added S...   \n",
       "209219              0  Give your baby style and flair with \"Gorgeous ...   \n",
       "209220             11  \"The Lion & the Lyceum\" is a children's book a...   \n",
       "\n",
       "        converted_pledged_amount country           created_at currency  \\\n",
       "0                            802      US  2013-12-21 21:01:30      USD   \n",
       "1                           2259      US  2019-02-08 21:02:48      USD   \n",
       "2                          29638      US  2016-10-23 17:06:24      USD   \n",
       "3                          49158      IT  2018-10-24 08:32:00      EUR   \n",
       "4                            549      US  2015-03-07 05:35:17      USD   \n",
       "...                          ...     ...                  ...      ...   \n",
       "209214                       135      US  2017-02-21 18:39:30      USD   \n",
       "209215                     18608      US  2013-06-03 17:49:35      USD   \n",
       "209218                       305      AU  2015-12-22 03:01:05      AUD   \n",
       "209219                         0      US  2016-08-12 08:48:02      USD   \n",
       "209220                      1400      US  2015-02-16 15:51:38      USD   \n",
       "\n",
       "       currency_symbol  currency_trailing_code current_currency  \\\n",
       "0                    $                    True              USD   \n",
       "1                    $                    True              USD   \n",
       "2                    $                    True              USD   \n",
       "3                    €                   False              USD   \n",
       "4                    $                    True              USD   \n",
       "...                ...                     ...              ...   \n",
       "209214               $                    True              USD   \n",
       "209215               $                    True              USD   \n",
       "209218               $                    True              USD   \n",
       "209219               $                    True              USD   \n",
       "209220               $                    True              USD   \n",
       "\n",
       "                   deadline  ...  goal_surpass  goal_surpass_share  \\\n",
       "0       2014-02-08 22:37:26  ...         602.0            3.010000   \n",
       "1       2019-03-05 16:00:11  ...        1859.0            4.647500   \n",
       "2       2016-12-01 15:58:50  ...        2414.0            0.088672   \n",
       "3       2018-12-08 22:59:00  ...        3180.0            0.079500   \n",
       "4       2015-04-08 16:36:57  ...        -451.0           -0.451000   \n",
       "...                     ...  ...           ...                 ...   \n",
       "209214  2017-03-23 17:42:00  ...       -4865.0           -0.973000   \n",
       "209215  2013-08-11 11:46:39  ...        1122.0            0.064166   \n",
       "209218  2016-01-25 09:15:09  ...       -7565.0           -0.945625   \n",
       "209219  2016-09-25 21:09:13  ...       -8000.0           -1.000000   \n",
       "209220  2015-03-19 05:00:00  ...         400.0            0.400000   \n",
       "\n",
       "        goal_surpass_usd     goal_usd  blurb_words blurb_len name_len  \\\n",
       "0             602.000000    200.00000         26.0     134.0       21   \n",
       "1            1859.000000    400.00000          9.0      55.0       31   \n",
       "2            2414.000000  27224.00000         25.0     135.0       60   \n",
       "3            3614.149723  45461.00280         13.0      75.0       25   \n",
       "4            -451.000000   1000.00000         22.0     133.0       30   \n",
       "...                  ...          ...          ...       ...      ...   \n",
       "209214      -4865.000000   5000.00000         23.0     134.0       36   \n",
       "209215       1122.000000  17486.00000         24.0     134.0       19   \n",
       "209218      -5504.103892   5820.59896         20.0     132.0       60   \n",
       "209219      -8000.000000   8000.00000         12.0      82.0       36   \n",
       "209220        400.000000   1000.00000         22.0     115.0       60   \n",
       "\n",
       "        name_words state_bool baseline  \n",
       "0                4          1        1  \n",
       "1                5          1        1  \n",
       "2                9          1        0  \n",
       "3                5          1        1  \n",
       "4                4          0        0  \n",
       "...            ...        ...      ...  \n",
       "209214           6          0        0  \n",
       "209215           3          1        1  \n",
       "209218          10          0        0  \n",
       "209219           4          0        1  \n",
       "209220          12          1        1  \n",
       "\n",
       "[168695 rows x 57 columns]"
      ]
     },
     "execution_count": 154,
     "metadata": {},
     "output_type": "execute_result"
    }
   ],
   "source": [
    "frame_all"
   ]
  },
  {
   "cell_type": "code",
   "execution_count": 172,
   "metadata": {},
   "outputs": [],
   "source": [
    "#categorical data\n",
    "# categorical_cols = ['main_category'] \n",
    "\n",
    "# frame_all['currency'] = frame_all.currency.astype('category')\n",
    "# Save category-column-names in list\n",
    "categorical_cols = frame_all.select_dtypes(include='category').columns\n",
    "\n",
    "#import pandas as pd\n",
    "frame_all = pd.get_dummies(frame_all, columns = categorical_cols, drop_first=True)"
   ]
  },
  {
   "cell_type": "code",
   "execution_count": 173,
   "metadata": {},
   "outputs": [
    {
     "name": "stdout",
     "output_type": "stream",
     "text": [
      "<class 'pandas.core.frame.DataFrame'>\n",
      "Int64Index: 168695 entries, 0 to 209220\n",
      "Data columns (total 82 columns):\n",
      " #   Column                      Non-Null Count   Dtype  \n",
      "---  ------                      --------------   -----  \n",
      " 0   backers_count               168695 non-null  int64  \n",
      " 1   blurb                       168695 non-null  object \n",
      " 2   converted_pledged_amount    168695 non-null  int64  \n",
      " 3   country                     168695 non-null  object \n",
      " 4   created_at                  168695 non-null  object \n",
      " 5   currency_symbol             168695 non-null  object \n",
      " 6   currency_trailing_code      168695 non-null  bool   \n",
      " 7   current_currency            168695 non-null  object \n",
      " 8   deadline                    168695 non-null  object \n",
      " 9   disable_communication       168695 non-null  bool   \n",
      " 10  fx_rate                     168695 non-null  float64\n",
      " 11  goal                        168695 non-null  float64\n",
      " 12  id                          168695 non-null  int64  \n",
      " 13  is_starrable                168695 non-null  bool   \n",
      " 14  launched_at                 168695 non-null  object \n",
      " 15  name                        168695 non-null  object \n",
      " 16  pledged                     168695 non-null  float64\n",
      " 17  slug                        168695 non-null  object \n",
      " 18  source_url                  168695 non-null  object \n",
      " 19  spotlight                   168695 non-null  bool   \n",
      " 20  staff_pick                  168695 non-null  bool   \n",
      " 21  state                       168695 non-null  object \n",
      " 22  state_changed_at            168695 non-null  object \n",
      " 23  static_usd_rate             168695 non-null  float64\n",
      " 24  usd_pledged                 168695 non-null  float64\n",
      " 25  usd_type                    168695 non-null  object \n",
      " 26  dur_inactive                168695 non-null  float64\n",
      " 27  dur_until_state_changed     168695 non-null  float64\n",
      " 28  dur_active                  168695 non-null  float64\n",
      " 29  dur_ratio                   168695 non-null  float64\n",
      " 30  cat_name                    168695 non-null  object \n",
      " 31  cat_slug                    168695 non-null  object \n",
      " 32  loc_name                    168695 non-null  object \n",
      " 33  loc_country                 168686 non-null  object \n",
      " 34  loc_state                   168695 non-null  object \n",
      " 35  loc_type                    168695 non-null  object \n",
      " 36  photo_thumb                 168695 non-null  object \n",
      " 37  photo_large                 168695 non-null  object \n",
      " 38  project_address             168695 non-null  object \n",
      " 39  profile_photo               168695 non-null  object \n",
      " 40  creator_name                168666 non-null  object \n",
      " 41  creator_id                  168695 non-null  int64  \n",
      " 42  creator_thumb               168695 non-null  object \n",
      " 43  creator_address             168695 non-null  object \n",
      " 44  sub_category                168695 non-null  object \n",
      " 45  goal_surpass                168695 non-null  float64\n",
      " 46  goal_surpass_share          168695 non-null  float64\n",
      " 47  goal_surpass_usd            168695 non-null  float64\n",
      " 48  goal_usd                    168695 non-null  float64\n",
      " 49  blurb_words                 168695 non-null  float64\n",
      " 50  blurb_len                   168695 non-null  float64\n",
      " 51  name_len                    168695 non-null  int64  \n",
      " 52  name_words                  168695 non-null  int64  \n",
      " 53  state_bool                  168695 non-null  int64  \n",
      " 54  baseline                    168695 non-null  int64  \n",
      " 55  main_category_comics        168695 non-null  uint8  \n",
      " 56  main_category_crafts        168695 non-null  uint8  \n",
      " 57  main_category_dance         168695 non-null  uint8  \n",
      " 58  main_category_design        168695 non-null  uint8  \n",
      " 59  main_category_fashion       168695 non-null  uint8  \n",
      " 60  main_category_film & video  168695 non-null  uint8  \n",
      " 61  main_category_food          168695 non-null  uint8  \n",
      " 62  main_category_games         168695 non-null  uint8  \n",
      " 63  main_category_journalism    168695 non-null  uint8  \n",
      " 64  main_category_music         168695 non-null  uint8  \n",
      " 65  main_category_photography   168695 non-null  uint8  \n",
      " 66  main_category_publishing    168695 non-null  uint8  \n",
      " 67  main_category_technology    168695 non-null  uint8  \n",
      " 68  main_category_theater       168695 non-null  uint8  \n",
      " 69  currency_CAD                168695 non-null  uint8  \n",
      " 70  currency_CHF                168695 non-null  uint8  \n",
      " 71  currency_DKK                168695 non-null  uint8  \n",
      " 72  currency_EUR                168695 non-null  uint8  \n",
      " 73  currency_GBP                168695 non-null  uint8  \n",
      " 74  currency_HKD                168695 non-null  uint8  \n",
      " 75  currency_JPY                168695 non-null  uint8  \n",
      " 76  currency_MXN                168695 non-null  uint8  \n",
      " 77  currency_NOK                168695 non-null  uint8  \n",
      " 78  currency_NZD                168695 non-null  uint8  \n",
      " 79  currency_SEK                168695 non-null  uint8  \n",
      " 80  currency_SGD                168695 non-null  uint8  \n",
      " 81  currency_USD                168695 non-null  uint8  \n",
      "dtypes: bool(5), float64(15), int64(8), object(27), uint8(27)\n",
      "memory usage: 70.8+ MB\n"
     ]
    }
   ],
   "source": [
    "frame_all.info()"
   ]
  },
  {
   "cell_type": "code",
   "execution_count": 170,
   "metadata": {},
   "outputs": [],
   "source": [
    "frame_all['currency'] = frame_all.currency.astype('category')\n",
    "\n",
    "categorical_cols2 = frame_all.select_dtypes(include='category').columns"
   ]
  },
  {
   "cell_type": "code",
   "execution_count": 171,
   "metadata": {},
   "outputs": [
    {
     "data": {
      "text/plain": [
       "Index(['currency'], dtype='object')"
      ]
     },
     "execution_count": 171,
     "metadata": {},
     "output_type": "execute_result"
    }
   ],
   "source": [
    "categorical_cols2"
   ]
  },
  {
   "cell_type": "code",
   "execution_count": 168,
   "metadata": {},
   "outputs": [],
   "source": [
    "categorical_cols3 = frame_all.select_dtypes(include='object').columns"
   ]
  },
  {
   "cell_type": "code",
   "execution_count": 169,
   "metadata": {},
   "outputs": [
    {
     "data": {
      "text/plain": [
       "Index(['blurb', 'country', 'created_at', 'currency', 'currency_symbol',\n",
       "       'current_currency', 'deadline', 'launched_at', 'name', 'slug',\n",
       "       'source_url', 'state', 'state_changed_at', 'usd_type', 'cat_name',\n",
       "       'cat_slug', 'loc_name', 'loc_country', 'loc_state', 'loc_type',\n",
       "       'photo_thumb', 'photo_large', 'project_address', 'profile_photo',\n",
       "       'creator_name', 'creator_thumb', 'creator_address', 'sub_category'],\n",
       "      dtype='object')"
      ]
     },
     "execution_count": 169,
     "metadata": {},
     "output_type": "execute_result"
    }
   ],
   "source": [
    "categorical_cols3"
   ]
  },
  {
   "cell_type": "code",
   "execution_count": 175,
   "metadata": {},
   "outputs": [
    {
     "data": {
      "text/plain": [
       "array([False])"
      ]
     },
     "execution_count": 175,
     "metadata": {},
     "output_type": "execute_result"
    }
   ],
   "source": [
    "frame_all.is_starrable.unique()"
   ]
  },
  {
   "cell_type": "code",
   "execution_count": 177,
   "metadata": {},
   "outputs": [
    {
     "data": {
      "text/plain": [
       "False    168695\n",
       "Name: disable_communication, dtype: int64"
      ]
     },
     "execution_count": 177,
     "metadata": {},
     "output_type": "execute_result"
    }
   ],
   "source": [
    "frame_all.disable_communication.value_counts()"
   ]
  },
  {
   "cell_type": "code",
   "execution_count": 201,
   "metadata": {},
   "outputs": [],
   "source": [
    "frame_all.blurb.to_csv('data/words.csv')"
   ]
  },
  {
   "cell_type": "code",
   "execution_count": null,
   "metadata": {},
   "outputs": [],
   "source": []
  }
 ],
 "metadata": {
  "interpreter": {
   "hash": "1a82898d3f503c1e2e9b4dff319af7b4ab4f34b16327799ca293100781c08b39"
  },
  "kernelspec": {
   "display_name": "Python 3.9.4 ('.venv': venv)",
   "language": "python",
   "name": "python3"
  },
  "language_info": {
   "codemirror_mode": {
    "name": "ipython",
    "version": 3
   },
   "file_extension": ".py",
   "mimetype": "text/x-python",
   "name": "python",
   "nbconvert_exporter": "python",
   "pygments_lexer": "ipython3",
   "version": "3.9.4"
  },
  "orig_nbformat": 4
 },
 "nbformat": 4,
 "nbformat_minor": 2
}
